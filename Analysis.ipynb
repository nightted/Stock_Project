{
  "nbformat": 4,
  "nbformat_minor": 0,
  "metadata": {
    "colab": {
      "name": "Analysis.ipynb",
      "provenance": [],
      "collapsed_sections": [],
      "mount_file_id": "1K_tP8Lu0vU3IFv_p6gee_yg1S358p3uy",
      "authorship_tag": "ABX9TyPviBjMkWNZ3jp6z7m07M+G",
      "include_colab_link": true
    },
    "kernelspec": {
      "name": "python3",
      "display_name": "Python 3"
    },
    "accelerator": "GPU"
  },
  "cells": [
    {
      "cell_type": "markdown",
      "metadata": {
        "id": "view-in-github",
        "colab_type": "text"
      },
      "source": [
        "<a href=\"https://colab.research.google.com/github/nightted/Stock_Project/blob/master/Analysis.ipynb\" target=\"_parent\"><img src=\"https://colab.research.google.com/assets/colab-badge.svg\" alt=\"Open In Colab\"/></a>"
      ]
    },
    {
      "cell_type": "markdown",
      "metadata": {
        "id": "Q9PqRJflNm1a"
      },
      "source": [
        "# Builder : Tedchang @ 2020.8.15\n",
        "# Concept want to implement :\n",
        "1. 利用分點買賣超來計算資金輪動與籌碼轉移\n",
        "2. 爬取股市爆料同學會資料來判斷淺在漲勢 (EX: 討論區大佬發文(讚>50) ,多人鼓吹 ..)\n",
        "3. 分析單一股票 , 所有分點買賣-時間,畫成熱度圖以CNN Or RNN vs. 股價  \n",
        "\n",
        "\n",
        "# TODO LIST:\n",
        "1. dicts shape not the same , => adjust_dicts function \n",
        "2. filter outlier of embedded data\n",
        "3. pickle file limit , transfer to sqlite , how to do that ?"
      ]
    },
    {
      "cell_type": "code",
      "metadata": {
        "id": "Zz1JIFsLbZp9"
      },
      "source": [
        "import pickle\n",
        "import torch\n",
        "import torch.nn as nn\n",
        "import torch.nn.functional as F\n",
        "from torchsummary import summary\n",
        "import numpy as np\n",
        "from torch.utils.data import Dataset\n",
        "import torchvision.transforms as transforms\n",
        "from datetime import date, timedelta, datetime\n",
        "import random\n",
        " \n",
        "from PIL import Image \n",
        "import matplotlib.pyplot as plt\n",
        "import pandas as pd\n",
        " \n",
        "from sklearn.manifold import TSNE\n",
        "from sklearn.cluster import KMeans\n",
        "import os"
      ],
      "execution_count": null,
      "outputs": []
    },
    {
      "cell_type": "code",
      "metadata": {
        "id": "l5ALHdvGsFZ5"
      },
      "source": [
        "class BuyerAmount(object):\n",
        " \n",
        "  def __init__(self):\n",
        " \n",
        "    #Default data structure:\n",
        "    ########################################################################################\n",
        "    #    {'日期1' : {\n",
        "    #         分點1 : {股票名1 : 張數1 , 股票名2 : 張數2 . . . . . }\n",
        "    #         分點2 : {股票名1 : 張數1 , 股票名2 : 張數2 . . . . . }\n",
        "    #         分點3 : {股票名1 : 張數1 , 股票名2 : 張數2 . . . . . }\n",
        "    #            .\n",
        "    #            .\n",
        "    #              }\n",
        "    #\n",
        "    #    '日期2' : {\n",
        "    #         分點1 : {股票名1 : 張數1 , 股票名2 : 張數2 . . . . . }\n",
        "    #         分點2 : {股票名1 : 張數1 , 股票名2 : 張數2 . . . . . }\n",
        "    #         分點3 : {股票名1 : 張數1 , 股票名2 : 張數2 . . . . . }\n",
        "    #            .\n",
        "    #            .\n",
        "    #              }\n",
        "    ########################################################################################\n",
        " \n",
        "     #New data structure:\n",
        "    ########################################################################################\n",
        "    #    {'日期1' : [\n",
        "    #           [ 股票1 , 股票2 , 股票3 ] <= 分點1\n",
        "    #           [ 股票1 , 股票2 , 股票3 ] <= 分點2\n",
        "    #           [ 股票1 , 股票2 , 股票3 ] <= 分點3\n",
        "    #             .\n",
        "    #             .\n",
        "    #              ]\n",
        "    #\n",
        "    #    '日期2' : {\n",
        "    #           [ 股票1 , 股票2 , 股票3 ] <= 分點1\n",
        "    #           [ 股票1 , 股票2 , 股票3 ] <= 分點2\n",
        "    #           [ 股票1 , 股票2 , 股票3 ] <= 分點3\n",
        "    #             .\n",
        "    #             .\n",
        "    #              ]\n",
        "    ########################################################################################\n",
        "    #Google drive path\n",
        "    self.BuyAmountList_path = \"/content/drive/My Drive/Colab Notebooks/Stock_Project/Stock Data\"\n",
        "    self.test_case = self.PklToData( \"/content/drive/My Drive/Colab Notebooks/Stock_Project/Stock_Information/Buyer_dic\")  # 所有券商 { (6802,6832):\"凱基-虎尾\" ,....} \n",
        "    self.buyer_index = self.PklToData( \"/content/drive/My Drive/Colab Notebooks/Stock_Project/Stock_Information/Buyer_index\" ) # 券商 index 對照表 { \"凱基-虎尾\" : 0 , \"凱基-後甲\" : 1 ,....} \n",
        "    self.stock_index = self.PklToData( \"/content/drive/My Drive/Colab Notebooks/Stock_Project/Stock_Information/Stock_List\" ) # Stock index 對照表 => {\"1101\":0 , \"1102\": .....}\n",
        " \n",
        "    #init process \n",
        "    self.BuyAmountList = None # BuyAmountList(Dict)\n",
        "    self.dates = None\n",
        "    self.rawdata = None\n",
        " \n",
        "  def load_pkl_data(self ,month = []):\n",
        " \n",
        "    self.BuyAmountList = {}\n",
        "    print(\"loading data.....\")\n",
        "    for path in os.listdir(self.BuyAmountList_path):\n",
        "      mon = path.split(\".\")[0][-5:]\n",
        "      if mon in month:\n",
        "        with open( os.path.join( self.BuyAmountList_path, path) ,'rb') as pkl :\n",
        "          print(f\"loading {mon} data..\")\n",
        "          self.BuyAmountList.update(pickle.load(pkl))\n",
        "      \n",
        "    print(\"loading data sucess!\")\n",
        " \n",
        "  def all_dates(self):\n",
        " \n",
        "    return [key for key in self.BuyAmountList.keys()]\n",
        " \n",
        "  def Data_date_select(self ,dic ,dates = None ,merge = True):\n",
        "    # merge request \n",
        "    if dates == None:\n",
        "      dates = self.all_dates()\n",
        "   \n",
        "    if merge: \n",
        "      date_list = [ dic[date] for date in dates ]\n",
        "      if len(date_list) == 1: #dicts only 1 element , return directly\n",
        "        return date_list[0] \n",
        "      \n",
        "      date_list = data_merge(date_list)  \n",
        "      return date_list\n",
        "    \n",
        "    dicts = { date : dic[date] for date in dates  }\n",
        "    return dicts #dicts > 1 element , no merge request, return dicts [note that this is list with dicts!] \n",
        " \n",
        "    \n",
        "  @staticmethod\n",
        "  def drop_cln_row(df_buy ,drop_portion = \"Buyer\" ,Buyer_threshold = 0 ,Upper_bound = 100000000000 , Lower_bound = 0):\n",
        "    \n",
        "    sum_axis = 1 if drop_portion == \"Buyer\" else 0\n",
        "    drop_axis = 0 if drop_portion == \"Buyer\" else 1 \n",
        " \n",
        "    if drop_portion == \"Buyer\":\n",
        "      #drop_idx_buyer\n",
        "      df_sum_0 = df_buy.abs().sum(sum_axis)\n",
        "      #df_sum_0_re = df_sum_0.groupby(pd.cut(df_sum_0,np.arange(0,180000,100))).count() #See the bar-bin distribution of amount \n",
        "      drop_idx = df_sum_0[df_sum_0 <= Buyer_threshold].index # 分點買賣<800張的濾掉\n",
        "      df_buy.drop( drop_idx ,axis = drop_axis, inplace=True)\n",
        " \n",
        "    if drop_portion == \"Stock\":\n",
        "      #drop_idx_stock\n",
        "      df_sum_1 = df_buy.abs().sum(sum_axis) \n",
        "      drop_idx_stock_1 = df_sum_1[df_sum_1 >= Upper_bound].index\n",
        "      drop_idx_stock_2 = df_sum_1[df_sum_1 <= Lower_bound].index\n",
        "      df_buy.drop(drop_idx_stock_1 ,axis = drop_axis ,inplace=True)\n",
        "      df_buy.drop(drop_idx_stock_2 ,axis = drop_axis ,inplace=True)\n",
        " \n",
        "    return df_buy #dataframe\n",
        "  \n",
        "  @staticmethod\n",
        "  def buyer_seller_filter(df_buy,filter = \"buy\"):\n",
        " \n",
        "    df_filter = df_buy.copy()\n",
        "    if filter == \"buy\":\n",
        "      df_filter[df_buy <= 0] = 0 \n",
        "    # else == \"seller\"\n",
        "    if filter == \"sell\": \n",
        "      df_filter[df_buy >= 0] = 0 \n",
        "    \n",
        "    return df_filter\n",
        "  \n",
        "  def DataToPkl(self , path , data ):\n",
        " \n",
        "    with open( path ,'wb') as pkl :\n",
        "          pickle.dump( data , pkl )       \n",
        "          \n",
        "  def PklToData(self , path ):\n",
        "      \n",
        "    with open( path ,'rb') as pkl :\n",
        "        data = pickle.load( pkl )\n",
        " \n",
        "    return data\n",
        " \n",
        "# Merge and add dicts element and return the added dicts\n",
        "def data_merge(data_list):\n",
        " \n",
        "  mat_sum_np = 0\n",
        "  for data in data_list :\n",
        "    mat = np.array(data) \n",
        "    mat_sum_np += mat\n",
        "  \n",
        "  return mat_sum_np.tolist()\n",
        " \n",
        " \n",
        "def plot(df_buy,size,return_ = True):\n",
        " \n",
        "  Resize = size\n",
        "  Transformer = transforms.Compose([\n",
        "    transforms.ToPILImage(),\n",
        "    transforms.Resize(size = (Resize,Resize)),\n",
        "    transforms.ToTensor(),\n",
        "  ])\n",
        "  df_nplist = np.array(df_buy.abs().values.tolist()) # change to np \n",
        "  df_nplist_ts = torch.Tensor((df_nplist)) # change to torch.Tensor\n",
        "  df_nplist_ts = Transformer(df_nplist_ts) # Resize \n",
        "  plt.imshow(df_nplist_ts[0]) \n",
        " \n",
        "  if return_ == True:\n",
        "    return df_nplist_ts.numpy()\n",
        " \n",
        " \n",
        "#Normalize pic \n",
        "def normalize(image):\n",
        "  return (image - image.min()) / (image.max() - image.min())\n",
        " \n",
        "# reducing form of SVD decomposition\n",
        "def reduce_svd_mat(mat_u ,mat_s ,mat_vt ,reduce_dim = 30):\n",
        "  \n",
        "  mat_s = np.diag(mat_s[:reduce_dim])\n",
        "  mat_u = mat_u[:,:reduce_dim]\n",
        "  mat_vt = mat_vt[:reduce_dim,:]\n",
        "  return mat_s , mat_u , mat_vt\n",
        " \n",
        " \n",
        " \n",
        "\n",
        "####################### Swap the key of dict ####################\n",
        " \n",
        "# the depth of dict\n",
        "def dict_depth(dic):\n",
        "    if isinstance(dic, dict): # if is dict type \n",
        "        return 1 + (max(map(dict_depth, dic.values())) if dic else 0) # layer+1 and do recursion on the dict.values , and catch the max value in the recursion of dict.value\n",
        "    return 0\n",
        " \n",
        "# permute lists\n",
        "def permutation(lists ,permute ):\n",
        " \n",
        "      lists = np.array(lists)\n",
        "      lists = np.transpose(lists, permute) \n",
        "      lists = lists.tolist()  \n",
        "      return lists \n",
        "# transform dict to list \n",
        "def DicToMat(dic  , layer_index  , layer_number  , mat_elemet = None  , mat_keyvaluemap = None ):\n",
        "  \n",
        "    # Try : re-change the index-keymap to the following flat-form : {\"1\":[9802,2230],\"2\":[10/2,10/3,10/4,10/5],\"3\":[1,2,3]} which is easy to search ?!  \n",
        " \n",
        "    for i , key in enumerate(dic):\n",
        " \n",
        "        # create the layer-key dict : mat_keyvaluemap.\n",
        "        if layer_index not in mat_keyvaluemap:\n",
        "            mat_keyvaluemap.update({layer_index:[key]})  \n",
        "        elif key not in mat_keyvaluemap[layer_index]:\n",
        "            mat_keyvaluemap[layer_index].append(key)  \n",
        "            \n",
        "        if layer_index > 1 :\n",
        "            mat_elemet.append([]) # if layer_index 不等於 1 (bottom condition) , 則持續加入空 list\n",
        "            DicToMat(dic = dic[key] , layer_index = layer_index-1 ,layer_number = layer_number ,mat_elemet = mat_elemet[i] ,mat_keyvaluemap = mat_keyvaluemap )  # 利用 recursion 來處理不定layer數目的 dict , layer = layer_index-1 , mat_elemet = mat_elemet[i] \n",
        "        else :\n",
        "            mat_elemet.append(dic[key]) #如果已在最深一層裡, 直接寫入 data  \n",
        "    return mat_elemet , mat_keyvaluemap\n",
        " \n",
        "# transform list to dict\n",
        "def MatToDic(mat , maps , layer_index  , layer_number  , dic = None, permute = None ):\n",
        "    \n",
        "    # Try : re-change the index-keymap to the following flat-form : {\"3\":[9802,2230],\"2\":[10/2,10/3,10/4,10/5],\"1\":[1,2,3]} which is easy to search ?!\n",
        "      \n",
        "    #創造 permutation - index_layer 比對 pairs\n",
        "    idx_layer_pairs = {}\n",
        "    for idx ,keys in enumerate(maps.keys()):\n",
        "        idx_layer_pairs.update({idx:keys})\n",
        " \n",
        "    \n",
        "    NOW_IN_LAYER = idx_layer_pairs[permute[layer_number-layer_index]] # 從 permute 順序 0 開始 , 逐 layers construct keys in dict  \n",
        "    if layer_index > 1 :     \n",
        "        for i , row in enumerate(mat):\n",
        "            \n",
        "            key = maps[ NOW_IN_LAYER ][ i ]  # 從 permute 順序 0 開始 , 逐 layers construct keys in dict   \n",
        "            dic.update({key:{}})  # if layer_index 不等於 1 (not bottom condition) , 則持續加入空 dict (並 construct keys in dict ) \n",
        "            MatToDic(mat = mat[i], maps = maps , layer_index = layer_index - 1 , layer_number = layer_number ,  dic = dic[key] , permute = permute  )  # 利用 recursion 來處理不定layer數目的 dict , layer = layer_index-1 , mat = mat[i] , dic = dic[key] \n",
        "          \n",
        "    else :\n",
        "        for k , ele in enumerate(mat):\n",
        "            \n",
        "            key , value = maps[ NOW_IN_LAYER ][ k ] , mat[k]         \n",
        "            if key not in dic:\n",
        "                dic.update( { key :  value }  ) #如果已在最深一層裡, 直接寫入 data  \n",
        "                         \n",
        "    return dic \n",
        " \n",
        "#swap keys \n",
        "def Swap_Key(dic ,permute ):    \n",
        " \n",
        "    dic_depth = dict_depth(dic) #get the depth of dict\n",
        " \n",
        "    mat_elemet , mat_keyvaluemap = DicToMat( dic  , layer_index = dic_depth , layer_number = dic_depth , mat_elemet = [] , mat_keyvaluemap = {}) # transform dict to matrix\n",
        "    mat_elemet = permutation(mat_elemet , permute) # matrix permutation \n",
        "    new_dic = MatToDic( mat = mat_elemet , maps = mat_keyvaluemap , layer_index = dic_depth , layer_number = dic_depth , permute = permute , dic = {}) # transform matrix to dict\n",
        " \n",
        "    return new_dic \n",
        " \n",
        "#######################################################\n",
        "# remove holiday\n",
        "def delete_key(dicts):\n",
        "  \n",
        "  delete_keys = []\n",
        "  dict_keys = [key for key in dicts.keys()]\n",
        "  for key in dict_keys:  \n",
        "    mat = np.array(dicts[key])\n",
        "    value = np.sum(np.sum(mat,axis = 0),axis = 0)\n",
        "    if value == 0:\n",
        "      delete_keys.append(key)\n",
        "      del dicts[key]\n",
        "  \n",
        "  return dicts , delete_keys\n",
        "\n",
        "def reverse_dic(dicts):\n",
        "  reverse_dict = {}\n",
        "  for key , val in dicts.items():\n",
        "    reverse_dict.update({val:key})\n",
        "  return reverse_dict"
      ],
      "execution_count": null,
      "outputs": []
    },
    {
      "cell_type": "code",
      "metadata": {
        "id": "y9c5XO_n70P1"
      },
      "source": [
        "# get stock_cate-stock_idx pairs \n",
        "def load_pickle(path):\n",
        "  \n",
        "  with open(path , \"rb\") as pkl:\n",
        "    data = pickle.load(pkl)\n",
        "  return data\n",
        "\n",
        "stock_list = load_pickle('/content/drive/My Drive/Colab Notebooks/Stock_Project/Stock_Information/Stock_List')\n",
        "stock_category = load_pickle('/content/drive/My Drive/Colab Notebooks/Stock_Project/Stock_Information/stock_category.pickle')[2]\n",
        "\n",
        "def get_stockIdx_cate(stock_category,stock_list):\n",
        "  stockIdex_cate = {}\n",
        "  record = []\n",
        "  for key , values in stock_category.items():\n",
        "    for value in values:\n",
        "      if value in stock_list:\n",
        "        if key not in stockIdex_cate:\n",
        "          stockIdex_cate.update({ key : [stock_list[value]] })\n",
        "        else:\n",
        "          stockIdex_cate[key].append(stock_list[value])\n",
        "        record.append(value)\n",
        "  '''\n",
        "  # 檢查烙單的 stock \n",
        "  for key , value in stock_list.items():\n",
        "    if key not in record:\n",
        "      print(key)\n",
        "      stockIdex_cate['其他'].append(value)\n",
        "  烙單 => ['2316','2349','3064','3259','4944','4946']\n",
        "  '''\n",
        "  stockIdex_cate['電子零組件'].append(stock_list['2316'])\n",
        "  stockIdex_cate['其他電子'].append(stock_list['2349'])\n",
        "  stockIdex_cate['文化創意'].append(stock_list['3064'])\n",
        "  stockIdex_cate['半導體'].append(stock_list['3259'])\n",
        "  stockIdex_cate['光電'].append(stock_list['4944'])\n",
        "  stockIdex_cate['文化創意'].append(stock_list['4946'])\n",
        "\n",
        "  return stockIdex_cate"
      ],
      "execution_count": null,
      "outputs": []
    },
    {
      "cell_type": "code",
      "metadata": {
        "id": "BaKOpsg0_nwf",
        "outputId": "33c8f7fd-d55e-42e9-9c5e-769c76a5c397",
        "colab": {
          "base_uri": "https://localhost:8080/",
          "height": 598
        }
      },
      "source": [
        "stockIdex_cate = get_stockIdx_cate(stock_category,stock_list)\n",
        "for key ,value in stockIdex_cate.items():\n",
        "  print(key ,value)"
      ],
      "execution_count": null,
      "outputs": [
        {
          "output_type": "stream",
          "text": [
            "水泥 [1715, 0, 1, 2, 3, 4, 5]\n",
            "食品 [6, 7, 8, 9, 10, 11, 12, 13, 14, 15, 16, 17, 18, 19, 20, 21, 22, 23, 24, 26, 170, 196, 27, 29, 212, 913, 914, 981]\n",
            "塑膠 [31, 32, 33, 34, 35, 36, 37, 38, 39, 40, 41, 42, 45, 46, 47, 48, 49, 51, 54, 55, 918, 915, 916, 917, 1585, 1709]\n",
            "紡織纖維 [56, 57, 58, 59, 60, 62, 63, 64, 65, 67, 72, 73, 74, 76, 77, 78, 79, 80, 81, 82, 83, 84, 85, 86, 87, 88, 89, 90, 91, 92, 93, 94, 95, 96, 97, 99, 100, 101, 102, 103, 104, 927, 932, 933, 919, 920, 921, 922, 924, 925, 926, 928, 930, 931]\n",
            "電機機械 [105, 106, 107, 108, 110, 111, 112, 114, 115, 120, 121, 122, 123, 124, 125, 126, 128, 130, 131, 132, 133, 134, 135, 136, 143, 147, 148, 255, 337, 648, 940, 945, 951, 959, 961, 964, 966, 968, 969, 971, 972, 973, 1100, 1569, 1588, 1664, 140, 141, 145, 149, 153, 155, 262, 263, 265, 285, 288, 645, 652, 668, 724, 734, 934, 935, 936, 937, 938, 939, 941, 942, 944, 946, 947, 948, 950, 954, 956, 957, 965, 967, 970, 974, 1232, 1384, 1461, 1463, 1502, 1533, 1549, 1573, 1710]\n",
            "電器電纜 [156, 157, 158, 159, 160, 161, 162, 163, 164, 165, 166, 167, 168, 1025, 1096, 257, 976]\n",
            "化工 [172, 173, 174, 175, 176, 177, 178, 179, 180, 182, 183, 184, 185, 186, 187, 188, 189, 191, 194, 201, 202, 858, 984, 986, 987, 994, 1002, 1004, 1005, 1006, 197, 977, 978, 979, 980, 982, 983, 985, 995, 1001, 1007, 1417, 1419]\n",
            "生技醫療 [154, 169, 171, 181, 190, 192, 193, 195, 199, 200, 205, 208, 210, 211, 647, 855, 863, 865, 867, 873, 883, 884, 887, 888, 889, 891, 895, 901, 910, 993, 999, 1410, 1433, 1479, 137, 151, 198, 203, 204, 206, 209, 213, 220, 635, 651, 657, 664, 862, 864, 866, 868, 869, 871, 872, 874, 875, 876, 877, 878, 879, 880, 881, 882, 885, 886, 890, 892, 893, 894, 896, 897, 898, 899, 900, 902, 903, 905, 906, 907, 908, 909, 911, 912, 988, 989, 991, 992, 996, 997, 998, 1000, 1018, 1111, 1240, 1337, 1393, 1398, 1402, 1404, 1411, 1413, 1414, 1424, 1426, 1431, 1435, 1443, 1446, 1447, 1454, 1464, 1466, 1475, 1478, 1577, 1592, 1594, 1595, 1610, 1613]\n",
            "玻璃陶瓷 [214, 216, 218, 219, 222]\n",
            "造紙 [223, 224, 225, 226, 227, 228]\n",
            "鋼鐵 [229, 230, 231, 232, 233, 234, 235, 236, 237, 238, 239, 240, 241, 242, 243, 244, 245, 246, 247, 248, 249, 250, 251, 252, 254, 264, 564, 1059, 1184, 1712, 253, 259, 260, 261, 1060, 1061, 1062, 1063, 1064, 1065, 1343, 1584, 1598, 1652, 1714]\n",
            "橡膠 [266, 267, 268, 269, 270, 271, 272, 273, 274, 275, 1452, 1066]\n",
            "汽車 [44, 52, 53, 109, 116, 117, 118, 119, 127, 129, 138, 146, 150, 276, 277, 278, 279, 280, 283, 284, 286, 287, 289, 290, 291, 429, 714, 958, 963, 975, 1367, 1462]\n",
            "半導體 [293, 294, 307, 308, 311, 312, 314, 315, 320, 331, 336, 343, 349, 356, 361, 381, 382, 386, 391, 393, 395, 399, 416, 566, 571, 573, 590, 591, 596, 608, 630, 654, 678, 731, 740, 774, 776, 779, 784, 802, 804, 830, 844, 861, 1022, 1037, 1042, 1044, 1045, 1090, 1098, 1107, 1153, 1300, 1334, 1338, 1345, 1354, 1379, 1395, 1425, 1428, 1430, 1437, 1445, 1499, 1503, 1532, 1551, 1556, 1558, 1574, 1575, 632, 636, 640, 649, 665, 669, 670, 680, 681, 682, 684, 705, 720, 722, 738, 771, 773, 790, 791, 796, 801, 838, 840, 857, 1043, 1046, 1048, 1055, 1091, 1092, 1103, 1105, 1112, 1118, 1120, 1123, 1137, 1151, 1158, 1160, 1218, 1219, 1239, 1245, 1253, 1282, 1297, 1320, 1326, 1329, 1333, 1347, 1366, 1370, 1376, 1388, 1397, 1399, 1407, 1409, 1412, 1420, 1429, 1436, 1442, 1459, 1471, 1474, 1487, 1489, 1495, 1501, 1509, 1518, 1536, 1538, 1576, 1581, 679]\n",
            "電腦及週邊設備 [292, 295, 304, 309, 321, 322, 325, 326, 330, 332, 333, 341, 342, 344, 345, 348, 353, 354, 355, 359, 367, 372, 373, 387, 405, 562, 565, 570, 574, 578, 601, 611, 614, 673, 732, 755, 763, 851, 856, 1021, 1030, 1077, 1087, 1089, 1228, 1238, 1268, 1274, 1304, 1327, 1331, 1358, 1378, 1450, 1456, 1482, 1554, 1560, 1566, 1681, 139, 619, 625, 661, 662, 685, 689, 708, 710, 747, 749, 767, 781, 799, 807, 813, 819, 828, 848, 859, 1023, 1026, 1053, 1079, 1101, 1106, 1126, 1131, 1138, 1141, 1150, 1154, 1163, 1231, 1233, 1255, 1263, 1264, 1288, 1325, 1357, 1390, 1444, 1448, 1488, 1517, 1529, 1570, 1596]\n",
            "光電 [303, 313, 339, 352, 360, 362, 374, 383, 390, 406, 421, 423, 424, 567, 576, 580, 587, 594, 604, 605, 606, 613, 643, 716, 726, 730, 737, 743, 748, 759, 778, 783, 794, 798, 805, 816, 835, 837, 850, 1028, 1029, 1032, 1039, 1041, 1050, 1083, 1084, 1159, 1227, 1230, 1241, 1266, 1270, 1278, 1307, 1322, 1323, 1359, 1368, 1374, 1386, 1392, 1396, 1405, 1481, 1493, 1547, 1548, 1568, 617, 637, 672, 696, 713, 718, 736, 739, 744, 752, 764, 769, 775, 814, 817, 822, 834, 843, 847, 990, 1027, 1047, 1057, 1078, 1082, 1085, 1086, 1095, 1113, 1128, 1133, 1139, 1143, 1235, 1269, 1319, 1330, 1339, 1341, 1383, 1438, 1440, 1497, 1516, 1520, 1524, 1537, 1552, 1571, 1034]\n",
            "通信網路 [299, 302, 310, 316, 363, 368, 384, 389, 392, 396, 420, 430, 581, 583, 600, 602, 615, 702, 725, 733, 808, 841, 849, 854, 1012, 1014, 1051, 1132, 1244, 1249, 1257, 1313, 1365, 1380, 1391, 1486, 1498, 1545, 621, 631, 644, 646, 666, 675, 699, 719, 746, 753, 757, 793, 795, 824, 832, 836, 842, 1011, 1013, 1016, 1017, 1052, 1121, 1124, 1221, 1250, 1265, 1272, 1290, 1315, 1336, 1340, 1348, 1381, 1385, 1401, 1403, 1408, 1422, 1427, 1441, 1453, 1506, 1515, 1519, 1543, 1561, 1562]\n",
            "電子零組件 [98, 142, 256, 296, 298, 305, 306, 324, 334, 335, 340, 346, 347, 351, 357, 364, 366, 369, 370, 376, 377, 379, 385, 397, 398, 401, 403, 407, 410, 412, 414, 418, 419, 425, 426, 563, 569, 572, 577, 579, 582, 588, 593, 597, 599, 612, 627, 671, 695, 700, 706, 712, 723, 735, 758, 777, 787, 806, 810, 811, 826, 829, 839, 955, 1019, 1020, 1024, 1033, 1040, 1054, 1058, 1152, 1220, 1226, 1242, 1248, 1258, 1260, 1267, 1291, 1296, 1303, 1310, 1321, 1344, 1352, 1362, 1377, 1394, 1485, 1494, 1508, 1513, 1546, 1567, 1572, 50, 152, 221, 620, 626, 628, 633, 634, 641, 655, 656, 658, 659, 663, 676, 686, 690, 692, 694, 701, 704, 707, 711, 715, 727, 728, 745, 750, 754, 761, 762, 766, 770, 780, 786, 809, 812, 818, 823, 827, 846, 860, 953, 1031, 1049, 1081, 1102, 1109, 1114, 1116, 1117, 1119, 1122, 1125, 1129, 1142, 1147, 1148, 1149, 1155, 1161, 1165, 1225, 1234, 1236, 1237, 1243, 1261, 1262, 1275, 1276, 1277, 1285, 1293, 1301, 1302, 1305, 1306, 1308, 1314, 1317, 1346, 1351, 1355, 1360, 1364, 1369, 1371, 1382, 1387, 1432, 1473, 1507, 1510, 1511, 1526, 1528, 1531, 1539, 1541, 1550, 1555, 1557, 1559, 1563, 1579, 1580, 1586, 300]\n",
            "電子通路 [317, 365, 378, 400, 568, 584, 589, 592, 603, 609, 660, 703, 772, 852, 1140, 1289, 1361, 1525, 1527, 1553, 667, 674, 717, 741, 1224, 1229, 1259, 1324, 1350, 1353, 1504, 1522, 1523, 1534, 1542]\n",
            "資訊服務 [375, 394, 408, 409, 415, 585, 638, 1056, 1069, 1223, 1283, 1311, 642, 797, 1038, 1067, 1068, 1072, 1073, 1074, 1075, 1110, 1135, 1136, 1247, 1254, 1318, 1328, 1335, 1373, 1423, 1455, 1458, 1490, 1491, 1544, 1578, 1599]\n",
            "其他電子 [297, 301, 323, 328, 329, 338, 350, 358, 371, 380, 402, 404, 411, 413, 417, 422, 427, 575, 586, 598, 698, 742, 765, 815, 833, 1080, 1246, 1292, 1295, 1299, 1312, 1363, 1375, 1439, 1492, 1500, 1565, 207, 618, 629, 639, 688, 691, 697, 709, 721, 729, 756, 760, 782, 788, 789, 800, 803, 820, 825, 831, 960, 1003, 1070, 1130, 1145, 1162, 1164, 1183, 1252, 1256, 1287, 1342, 1356, 1389, 1421, 1465, 1476, 1480, 1514, 1535, 1540, 1564, 1589, 1609, 1622, 319]\n",
            "建材營造 [43, 69, 71, 75, 215, 217, 431, 432, 433, 434, 435, 436, 438, 439, 440, 441, 442, 443, 444, 445, 446, 447, 448, 449, 450, 451, 452, 453, 454, 455, 456, 457, 459, 520, 554, 607, 610, 683, 853, 1170, 1172, 1174, 1175, 1177, 1180, 1181, 1182, 1186, 1279, 1676, 1707, 458, 653, 751, 870, 923, 1015, 1071, 1076, 1115, 1146, 1166, 1167, 1168, 1169, 1171, 1173, 1176, 1178, 1185, 1273, 1286, 1309, 1316, 1349, 1605]\n",
            "航運業 [281, 461, 462, 463, 464, 465, 466, 467, 468, 469, 470, 472, 474, 475, 476, 477, 478, 479, 480, 483, 1190, 1191, 1587, 482, 484, 1187, 1188, 1189, 1192]\n",
            "觀光 [485, 486, 487, 488, 489, 490, 491, 494, 495, 498, 500, 504, 508, 1196, 1623, 1661, 1704, 28, 30, 492, 493, 496, 497, 499, 501, 502, 503, 505, 506, 507, 509, 557, 677, 768, 1104, 1127, 1193, 1194, 1195, 1530]\n",
            "金融保險 [510, 511, 512, 513, 514, 515, 516, 517, 518, 519, 521, 522, 523, 524, 525, 526, 527, 528, 529, 530, 531, 532, 533, 534, 535, 536, 537, 538, 539, 540, 541, 1200, 1202, 1209, 1215]\n",
            "貿易百貨 [66, 460, 471, 542, 543, 545, 546, 547, 548, 549, 550, 551, 552, 558, 559, 561, 1010, 1207, 1208, 1608, 1617, 1621, 553, 555, 560, 650, 1203, 1204, 1205, 1206, 1294, 1521, 1611, 1662, 1713]\n",
            "油電燃氣 [473, 1416, 1648, 1678, 1684, 1689, 1694, 1698, 1642, 1644, 1649, 1653]\n",
            "存託憑證 [1665, 1666, 1667, 1668, 1669, 1670, 1671]\n",
            "其他 [61, 68, 70, 113, 258, 318, 327, 388, 428, 437, 544, 595, 792, 949, 1097, 1199, 1284, 1400, 1415, 1451, 1457, 1469, 1472, 1477, 1483, 1484, 1505, 1582, 1593, 1597, 1603, 1607, 1616, 1624, 1625, 1626, 1627, 1629, 1632, 1633, 1634, 1635, 1636, 1638, 1639, 1672, 1673, 1674, 1675, 1677, 1679, 1680, 1682, 1683, 1685, 1686, 1687, 1688, 1690, 1691, 1692, 1693, 1695, 1696, 1697, 1699, 1700, 1701, 1702, 1703, 1705, 1706, 1711, 144, 282, 481, 687, 929, 943, 952, 962, 1036, 1093, 1108, 1134, 1144, 1157, 1179, 1280, 1298, 1332, 1467, 1468, 1470, 1496, 1583, 1590, 1591, 1600, 1601, 1602, 1604, 1606, 1612, 1614, 1615, 1618, 1630, 1640, 1641, 1643, 1645, 1647, 1650, 1651, 1654, 1655, 1656, 1657, 1658, 1659, 1660, 1663]\n",
            "金融 [1197, 1198, 1201, 1210, 1211, 1212, 1213, 1214, 1216]\n",
            "文化創意 [556, 622, 624, 693, 785, 821, 1008, 1009, 1088, 1156, 1217, 1222, 1251, 1271, 1281, 1372, 1406, 1434, 1460, 1619, 1620, 1637, 1646, 1708, 616, 1035]\n",
            "農業科技業 [25, 904, 1418, 1449]\n",
            "電子商務 [623, 845, 1094, 1099, 1512, 1628, 1631]\n"
          ],
          "name": "stdout"
        }
      ]
    },
    {
      "cell_type": "code",
      "metadata": {
        "id": "yid-P4aEOJ4O"
      },
      "source": [
        "def TF_IDF(matrix , inverse = True):\n",
        "  \n",
        "  #get TF\n",
        "  if inverse:\n",
        "    matrix = matrix.T\n",
        "\n",
        "  sum_stock = np.sum(np.abs(matrix) , axis = 0)\n",
        "  sum_diag_inv = np.linalg.inv(np.diag(sum_stock))\n",
        "  TF_ij = matrix@sum_diag_inv\n",
        "  #get IDF\n",
        "  nonzero_stock = np.count_nonzero(matrix ,axis = 1)\n",
        "  IDF_i = np.log(1/(nonzero_stock/matrix.shape[1])) + np.ones(matrix.shape[0])\n",
        "\n",
        "  #calculate TF-IDF\n",
        "  IDF_diag = np.diag(IDF_i)\n",
        "  TF_IDF_ij = IDF_diag@TF_ij\n",
        "\n",
        "  return TF_IDF_ij.T if inverse else TF_IDF_ij\n",
        "\n",
        "# data prepross including Buyer&Stock filter , TF_IDFs , buy&sell filter\n",
        "def data_preprocess(matrix , Buyer_threshold = 0 , CR_filter = True , TF_IDFs = True , BS_filter = True , buy_or_sell = 'buy'):\n",
        "  \n",
        "  df_buy = pd.DataFrame(matrix)\n",
        "\n",
        "  #filter Buyer or Stock\n",
        "  if CR_filter:\n",
        "    df_buy = B.drop_cln_row(df_buy ,drop_portion=\"Buyer\" ,Buyer_threshold = Buyer_threshold ) # filter 量少的券商 (預設為0)\n",
        "    df_buy = B.drop_cln_row(df_buy ,drop_portion=\"Stock\" , Lower_bound = 0 ) # filter 量少的券商 (預設為0)\n",
        "    np_buy_res = np.array(df_buy.values.tolist())# return to np type\n",
        "\n",
        "  #TF-IDF\n",
        "  if TF_IDFs:\n",
        "    np_buy_res = TF_IDF(np_buy_res)\n",
        "\n",
        "  #filter buy or sell\n",
        "  if BS_filter :\n",
        "    np_buy_res = (np.abs(np_buy_res)+np_buy_res)/2 if buy_or_sell == \"buy\" else (np.abs(np_buy_res)-np_buy_res)/2\n",
        "  \n",
        "  print(f\"After preprocessing the matrix shape: {np_buy_res.shape} \")\n",
        "  return np_buy_res\n",
        "\n",
        "# normalize with out take sigular value into account  \n",
        "def new_normalize(matrix ,axis = 1):\n",
        "\n",
        "  sum_m = np.sum( np.abs(matrix) , axis = axis)\n",
        "  matrix = matrix if axis else matrix.T\n",
        "  \n",
        "  for idx , row in enumerate(matrix):\n",
        "    if sum_m[idx] == 0 :\n",
        "      continue\n",
        "    else :\n",
        "      matrix[idx] = matrix[idx,:]/sum_m[idx]\n",
        "  return matrix if axis else matrix.T\n",
        "  \n",
        "# Do SVD decomposition and visualize the plot \n",
        "def visualize_plot(matrix , reduced_dim = 30, perplexity = 30 , embed = 'stock' ):\n",
        " \n",
        "  #initialize data\n",
        "  #df_buy = pd.DataFrame(data)\n",
        " \n",
        "  #filter data\n",
        "  #df_buy = B.buyer_seller_filter(df ,filter = buy_or_sell )\n",
        "  #df_buy = B.drop_cln_row(df_buy ,drop_portion=\"Buyer\" ,Buyer_threshold = Buyer_threshold )\n",
        "  #df_buy = B.buyer_seller_filter(df ,filter = buy_or_sell )\n",
        "\n",
        "  #get SVD decomposition\n",
        "  u ,s ,vt = np.linalg.svd(matrix ,full_matrices=True)\n",
        "  print(s)\n",
        "  mat_s , mat_u , mat_vt = reduce_svd_mat(u ,s ,vt , reduce_dim = reduced_dim)\n",
        "  print(\"u shape:\",mat_u.shape , \"s shape:\",mat_s.shape , \"vt shape:\",mat_vt.shape)\n",
        " \n",
        "  #get embedding vector\n",
        "  latent_vec = mat_vt.T if embed == \"buyer\" else mat_u\n",
        "  embed_vec = TSNE(n_components=2,perplexity=perplexity).fit_transform(latent_vec)\n",
        "\n",
        "  x, y  = embed_vec.T\n",
        "  plt.scatter(x,y)\n",
        "  plt.show()\n",
        "\n",
        "  return embed_vec "
      ],
      "execution_count": null,
      "outputs": []
    },
    {
      "cell_type": "code",
      "metadata": {
        "id": "3I_rMIAsKtRO"
      },
      "source": [
        "# merge same type of industry (real and fake)\n",
        "def grouping_stock(matrix , stockIdex_cate ,  fake = False):\n",
        "\n",
        "  shape_1 = len(stockIdex_cate) if not fake else 33 # matrix.shape[0] = 962 , matrix.shape[1] = 1716\n",
        "  merge_matrix = np.zeros((matrix.shape[0],shape_1))\n",
        "  merge_column = 0\n",
        "\n",
        "  # if it's real data\n",
        "  if not fake:\n",
        "    for key , values in stockIdex_cate.items():\n",
        "      dummy = 0\n",
        "      for value in values:\n",
        "        dummy += matrix[ : , int(value) : int(value)+1 ]\n",
        "      merge_matrix[ : , merge_column :merge_column+1 ] = dummy\n",
        "      merge_column += 1\n",
        "  # if it's fake data\n",
        "  else:\n",
        "    dummy = 0\n",
        "    for idx , number in enumerate(shuffle_lists):\n",
        "      dummy += matrix[ : , number : number+1 ]  \n",
        "      if (idx+1)%(matrix.shape[1]/shape_1) == 0: # 33 一個 loop   \n",
        "        merge_matrix[ : , merge_column :merge_column+1 ] = dummy\n",
        "        dummy = 0\n",
        "        merge_column += 1\n",
        "\n",
        "  print(f\"After grouping the matrix shape :{merge_matrix.shape}\")\n",
        "  return merge_matrix"
      ],
      "execution_count": null,
      "outputs": []
    },
    {
      "cell_type": "code",
      "metadata": {
        "id": "ANmL0Ox2fjAA",
        "outputId": "c7c44662-1e19-4275-a343-ae43b43a57f0",
        "colab": {
          "base_uri": "https://localhost:8080/",
          "height": 68
        }
      },
      "source": [
        "B = BuyerAmount()\n",
        "B.load_pkl_data(month = ['19-06']) # '19-07','19-08','19-09','19-10','19-11','19-12'"
      ],
      "execution_count": null,
      "outputs": [
        {
          "output_type": "stream",
          "text": [
            "loading data.....\n",
            "loading 19-06 data..\n",
            "loading data sucess!\n"
          ],
          "name": "stdout"
        }
      ]
    },
    {
      "cell_type": "code",
      "metadata": {
        "id": "sxiFKmot3vxQ"
      },
      "source": [
        "# Loading & Stacking data \n",
        "keys = [ key for key in sorted(B.BuyAmountList.keys())]\n",
        "np_dummy = []\n",
        "for idx , key in enumerate(keys):\n",
        "  if idx < 5000 and idx > -1:\n",
        "    np_dummy.append(B.BuyAmountList[key])\n",
        "    del B.BuyAmountList[key] # release dicts RAM memory\n",
        "np_dummy = np.array(np_dummy)"
      ],
      "execution_count": null,
      "outputs": []
    },
    {
      "cell_type": "markdown",
      "metadata": {
        "id": "DZe9Q9mUF71n"
      },
      "source": [
        "# Raw-Data (and fake) collect"
      ]
    },
    {
      "cell_type": "code",
      "metadata": {
        "id": "kVQVxeaGsIcq",
        "outputId": "2fb07060-6075-48d8-d2a0-b46a17fffdff",
        "colab": {
          "base_uri": "https://localhost:8080/",
          "height": 34
        }
      },
      "source": [
        "# real data\n",
        "data_sum = np.sum(np_dummy , axis=0)\n",
        "data_sum.shape"
      ],
      "execution_count": null,
      "outputs": [
        {
          "output_type": "execute_result",
          "data": {
            "text/plain": [
              "(962, 1716)"
            ]
          },
          "metadata": {
            "tags": []
          },
          "execution_count": 12
        }
      ]
    },
    {
      "cell_type": "code",
      "metadata": {
        "id": "4cp52kTSWmCs",
        "outputId": "c2d40805-1c3a-45a7-cf57-86a28bfa4518",
        "colab": {
          "base_uri": "https://localhost:8080/",
          "height": 71
        }
      },
      "source": [
        "# fake data\n",
        "data_sum_f = data_sum.copy()\n",
        "for i in range(data_sum_f.shape[0]):\n",
        "  random.shuffle(data_sum_f[i])\n",
        "print(data_sum_f.shape)\n",
        "\n",
        "shuffle_lists = list(range(0,1716))\n",
        "random.shuffle(shuffle_lists)\n",
        "print(shuffle_lists)"
      ],
      "execution_count": null,
      "outputs": [
        {
          "output_type": "stream",
          "text": [
            "(962, 1716)\n",
            "[1528, 119, 0, 1622, 744, 263, 1508, 471, 464, 1131, 1575, 1121, 585, 226, 1277, 653, 264, 473, 1296, 403, 813, 25, 659, 966, 1350, 1377, 1001, 1222, 1122, 499, 1677, 1163, 1454, 607, 282, 1627, 1244, 443, 738, 167, 750, 1245, 1455, 1605, 156, 1225, 1676, 1049, 764, 765, 1656, 542, 1440, 1031, 259, 290, 576, 616, 1084, 1715, 1021, 1299, 566, 951, 794, 1393, 902, 513, 599, 804, 4, 936, 283, 288, 526, 783, 489, 1090, 1060, 1271, 1116, 920, 539, 78, 314, 344, 953, 32, 422, 35, 1183, 666, 423, 683, 807, 124, 817, 757, 50, 57, 1529, 606, 91, 160, 166, 755, 1190, 196, 198, 504, 492, 348, 1351, 1078, 463, 1707, 1496, 1587, 1408, 1594, 770, 1649, 680, 185, 207, 493, 555, 5, 1488, 1048, 1547, 248, 1255, 478, 391, 63, 823, 120, 1221, 1523, 1418, 1189, 111, 714, 818, 1564, 719, 1696, 171, 690, 292, 73, 1391, 850, 1250, 405, 297, 948, 835, 849, 927, 1185, 1251, 1693, 749, 766, 66, 1562, 267, 20, 575, 44, 640, 1211, 696, 1434, 1384, 915, 70, 960, 793, 382, 887, 983, 1333, 109, 655, 1346, 1390, 466, 1586, 303, 1557, 1367, 856, 664, 1407, 876, 1322, 593, 95, 687, 1491, 994, 1704, 1670, 524, 697, 955, 545, 681, 9, 1136, 1571, 1482, 325, 1642, 181, 1445, 1362, 1266, 549, 558, 786, 795, 132, 961, 211, 645, 665, 552, 1192, 774, 1279, 977, 1403, 41, 1087, 626, 1339, 559, 1387, 928, 582, 595, 1464, 833, 872, 1401, 87, 1314, 172, 439, 998, 127, 1634, 753, 1099, 1118, 620, 1385, 239, 1621, 437, 1028, 1703, 245, 541, 1283, 457, 371, 1248, 769, 1451, 240, 230, 1694, 201, 420, 246, 658, 497, 1081, 898, 23, 116, 581, 1119, 481, 28, 1032, 952, 75, 722, 291, 1602, 1616, 1474, 268, 892, 221, 479, 1671, 840, 1699, 572, 965, 517, 525, 191, 1711, 1226, 1004, 578, 250, 1623, 733, 1381, 1102, 1039, 1114, 1650, 571, 169, 673, 1224, 587, 1518, 1324, 1229, 1545, 315, 918, 1064, 562, 233, 1325, 173, 317, 565, 217, 1203, 151, 183, 1495, 1035, 349, 329, 429, 908, 1288, 507, 450, 417, 716, 1174, 231, 39, 304, 36, 270, 188, 266, 1640, 161, 1386, 339, 482, 1167, 1008, 1487, 726, 1399, 237, 212, 1097, 1681, 271, 685, 1148, 644, 1592, 1598, 394, 204, 53, 1214, 670, 788, 1383, 1576, 717, 1361, 837, 448, 128, 912, 1065, 1465, 1712, 1216, 480, 530, 1041, 591, 365, 1306, 993, 689, 1458, 1438, 1450, 1326, 1095, 623, 1295, 249, 54, 341, 586, 1237, 122, 942, 1690, 311, 254, 758, 1128, 772, 455, 255, 1146, 839, 1489, 363, 618, 396, 321, 1684, 408, 369, 1051, 584, 838, 981, 1304, 1272, 729, 459, 868, 667, 1042, 285, 180, 47, 1691, 1519, 791, 67, 1071, 1679, 1209, 828, 333, 1526, 1343, 89, 1232, 397, 1159, 1340, 949, 99, 605, 390, 77, 295, 1120, 731, 1502, 884, 651, 1708, 1661, 496, 1066, 1404, 468, 1139, 825, 724, 190, 831, 1409, 1315, 1062, 31, 413, 1083, 1556, 1506, 1100, 273, 1186, 98, 197, 1511, 854, 797, 1663, 1230, 636, 385, 1620, 84, 15, 759, 568, 228, 654, 684, 548, 257, 1155, 1144, 617, 1307, 742, 1433, 956, 1521, 1130, 780, 1524, 449, 1654, 1446, 1205, 251, 134, 1125, 1595, 1628, 547, 1246, 740, 1607, 543, 632, 1533, 21, 1352, 485, 392, 1075, 675, 174, 521, 503, 383, 121, 306, 1061, 103, 1549, 387, 589, 411, 899, 1687, 1168, 110, 1171, 1573, 1354, 106, 1000, 1338, 873, 1037, 1358, 1292, 1551, 414, 375, 1348, 1353, 355, 18, 553, 324, 107, 320, 857, 995, 374, 950, 1210, 567, 446, 1286, 484, 643, 596, 38, 1142, 1644, 477, 179, 299, 338, 1631, 432, 500, 465, 1539, 152, 1459, 94, 1129, 1629, 663, 1175, 404, 1484, 561, 415, 958, 1425, 628, 220, 11, 1374, 1473, 721, 863, 216, 1126, 442, 1330, 1683, 1199, 870, 234, 597, 1233, 1259, 1435, 583, 1007, 999, 242, 48, 1480, 1267, 574, 1108, 718, 692, 1674, 236, 933, 445, 343, 888, 869, 27, 40, 579, 1043, 1328, 421, 1593, 1011, 1645, 712, 1070, 1056, 354, 398, 1659, 1337, 1468, 1405, 126, 1055, 802, 842, 1554, 959, 153, 1241, 1535, 1040, 1701, 1444, 145, 929, 1588, 796, 3, 904, 829, 1268, 980, 1207, 1059, 189, 1537, 1332, 1220, 1166, 830, 74, 894, 301, 1103, 1411, 1710, 1378, 1111, 1156, 16, 1273, 65, 914, 475, 1249, 1336, 334, 1006, 1641, 865, 1069, 244, 1485, 470, 841, 1015, 1321, 1584, 1073, 1504, 1375, 660, 630, 1705, 225, 136, 335, 1289, 852, 1567, 149, 600, 1093, 243, 1302, 388, 278, 1553, 43, 886, 1618, 832, 19, 1412, 848, 1023, 1027, 8, 427, 969, 1254, 357, 974, 440, 1698, 622, 502, 1630, 1665, 1501, 210, 973, 1532, 710, 937, 1700, 635, 33, 428, 1542, 433, 871, 624, 474, 262, 1597, 784, 1123, 289, 741, 332, 1195, 258, 117, 787, 944, 1218, 901, 1478, 469, 889, 891, 803, 135, 139, 232, 1550, 1423, 1261, 967, 989, 885, 1555, 276, 376, 168, 1305, 694, 896, 1682, 1135, 133, 677, 1334, 785, 1662, 501, 800, 491, 1668, 1298, 1635, 826, 1198, 104, 1276, 138, 142, 206, 399, 1507, 1294, 1212, 1397, 1149, 223, 1112, 688, 1428, 1498, 971, 1530, 508, 776, 614, 1274, 430, 789, 1200, 37, 26, 146, 954, 1086, 1476, 1658, 1442, 1364, 1258, 987, 1675, 767, 1636, 1154, 1201, 222, 890, 527, 945, 1067, 488, 425, 229, 193, 1639, 1256, 707, 917, 56, 409, 652, 649, 453, 979, 359, 272, 280, 1147, 1560, 588, 573, 296, 985, 163, 1389, 996, 265, 864, 698, 855, 1219, 1366, 49, 834, 1604, 538, 1672, 1653, 556, 808, 1380, 602, 393, 441, 1402, 1050, 1242, 844, 1085, 1490, 851, 1297, 814, 88, 347, 1177, 115, 1300, 1382, 1132, 1257, 768, 1105, 83, 878, 1263, 939, 1569, 419, 140, 860, 1369, 532, 1632, 505, 1613, 619, 790, 700, 199, 913, 58, 1422, 1395, 81, 1280, 1151, 370, 843, 402, 1063, 529, 836, 986, 706, 779, 1566, 1293, 1540, 1365, 906, 1349, 577, 42, 1589, 992, 821, 1161, 256, 215, 693, 1157, 1695, 1548, 563, 350, 806, 178, 1137, 1503, 1345, 1036, 691, 1609, 883, 1655, 510, 938, 1461, 1284, 792, 720, 639, 7, 213, 1552, 1379, 158, 1098, 991, 61, 679, 424, 544, 1430, 1578, 90, 1077, 853, 846, 1582, 1234, 900, 801, 845, 638, 972, 964, 1611, 1303, 1413, 1522, 447, 598, 734, 1133, 1363, 214, 1019, 1514, 125, 713, 604, 877, 159, 302, 384, 609, 1158, 1269, 594, 557, 634, 176, 379, 1319, 72, 762, 1626, 1467, 646, 406, 512, 1441, 6, 1082, 342, 1153, 367, 218, 1466, 647, 59, 1342, 381, 1647, 498, 1172, 1520, 1541, 113, 118, 205, 1012, 1025, 662, 909, 657, 1500, 1416, 1414, 924, 1194, 637, 1475, 1013, 372, 1448, 668, 1469, 819, 227, 1309, 1182, 893, 735, 184, 534, 1678, 1357, 305, 805, 451, 1493, 1516, 686, 1313, 754, 1714, 1706, 629, 1262, 1477, 1101, 1235, 875, 763, 1165, 368, 1431, 17, 1370, 1510, 436, 1308, 82, 518, 570, 656, 1565, 1360, 71, 1664, 46, 514, 1615, 515, 699, 1238, 353, 919, 711, 1316, 1359, 309, 454, 483, 275, 238, 435, 1559, 1410, 611, 1068, 361, 162, 1053, 752, 1612, 861, 186, 129, 905, 671, 1373, 1310, 809, 921, 96, 859, 235, 816, 782, 279, 208, 978, 1667, 1534, 1020, 1563, 312, 1702, 1150, 1603, 642, 401, 294, 827, 695, 858, 1003, 1285, 1253, 822, 1204, 678, 1376, 1022, 615, 327, 1169, 1002, 1275, 916, 1009, 1079, 519, 1278, 1265, 1426, 200, 1030, 760, 1558, 1486, 1107, 1499, 395, 1591, 1045, 331, 1152, 1178, 456, 522, 976, 613, 775, 1106, 1417, 487, 1134, 281, 1368, 356, 64, 1471, 1143, 261, 1509, 1452, 812, 1651, 867, 1327, 323, 612, 1568, 86, 1117, 1057, 1317, 1240, 1184, 97, 1091, 253, 377, 1088, 345, 601, 472, 219, 1252, 703, 1096, 1140, 531, 328, 564, 935, 461, 13, 862, 1264, 143, 1590, 1608, 1026, 79, 187, 590, 274, 277, 1515, 743, 68, 1312, 1213, 1227, 1290, 1197, 627, 1619, 777, 1202, 621, 810, 1625, 778, 546, 1652, 1076, 725, 1579, 1372, 148, 1572, 144, 1449, 631, 641, 569, 112, 330, 1472, 1047, 1018, 1331, 1176, 1044, 318, 1181, 307, 62, 932, 1058, 1005, 1187, 676, 1236, 287, 1014, 997, 1, 511, 1024, 319, 1223, 378, 1585, 811, 1536, 1247, 506, 540, 141, 434, 1624, 29, 360, 1396, 150, 682, 224, 1092, 1570, 603, 1447, 1318, 608, 1427, 452, 12, 52, 1481, 523, 101, 92, 1033, 1436, 108, 669, 1145, 674, 1610, 203, 1437, 1673, 1270, 30, 911, 739, 907, 946, 1394, 426, 1638, 1512, 407, 963, 745, 1692, 352, 633, 322, 1463, 260, 76, 326, 1094, 1029, 308, 1596, 241, 147, 1291, 1453, 1206, 55, 941, 751, 165, 874, 1646, 386, 922, 1688, 1657, 1170, 903, 418, 1513, 476, 1709, 1034, 336, 1494, 930, 1543, 847, 947, 286, 1460, 1400, 1228, 1483, 416, 773, 882, 412, 2, 1287, 1072, 137, 10, 560, 625, 535, 380, 1260, 1196, 982, 761, 730, 1281, 1599, 732, 1633, 194, 702, 1074, 715, 351, 704, 389, 157, 1188, 85, 756, 467, 1193, 164, 984, 410, 438, 431, 1398, 533, 1243, 1347, 746, 1046, 69, 1648, 1686, 131, 1697, 528, 880, 866, 1525, 1320, 1419, 1538, 1388, 709, 923, 1010, 51, 123, 1531, 1356, 1344, 1685, 798, 1546, 400, 34, 550, 175, 820, 1577, 1497, 1371, 1600, 1527, 554, 1680, 520, 1052, 269, 298, 462, 130, 1080, 1138, 1127, 316, 458, 1561, 300, 1109, 60, 1637, 648, 1173, 93, 1191, 1329, 708, 580, 1110, 926, 1239, 1335, 881, 495, 931, 1429, 1115, 247, 252, 346, 155, 1432, 1038, 460, 771, 1583, 1462, 592, 14, 1162, 968, 22, 310, 358, 1421, 1113, 1341, 24, 373, 366, 536, 45, 1492, 364, 895, 1456, 516, 1089, 1470, 879, 970, 990, 486, 1017, 362, 1643, 1505, 1301, 1457, 1669, 537, 1660, 195, 988, 1323, 1606, 192, 1406, 1016, 897, 737, 747, 1215, 1311, 1713, 799, 736, 1443, 182, 209, 1614, 1124, 202, 1574, 705, 80, 1231, 1581, 650, 1180, 340, 1164, 701, 748, 1160, 1479, 1282, 728, 170, 444, 962, 910, 943, 1054, 1420, 781, 1355, 105, 284, 154, 815, 824, 1104, 1601, 1179, 1424, 727, 975, 1415, 1439, 1217, 934, 100, 1392, 490, 940, 610, 509, 293, 1141, 337, 957, 925, 114, 1580, 1617, 1517, 672, 661, 1208, 551, 1544, 177, 1666, 494, 723, 1689, 313, 102]\n"
          ],
          "name": "stdout"
        }
      ]
    },
    {
      "cell_type": "markdown",
      "metadata": {
        "id": "S9DNMUrUFmsb"
      },
      "source": [
        "# Data preprocess including filter low buyer , TF-IDF , filter buy-or-sell"
      ]
    },
    {
      "cell_type": "code",
      "metadata": {
        "id": "TjVHobxVQfw-",
        "outputId": "b9b97469-defa-4fda-c0de-1d3e4bcd2c01",
        "colab": {
          "base_uri": "https://localhost:8080/",
          "height": 51
        }
      },
      "source": [
        "# data group merge(fake)\n",
        "merge_matrix_f = grouping_stock(data_sum_f , stockIdex_cate , fake = True )\n",
        "# data preprocess(fake)\n",
        "np_buy_res_f = data_preprocess(merge_matrix_f , Buyer_threshold = 0 , filter = True , buy_or_sell = 'buy') "
      ],
      "execution_count": null,
      "outputs": [
        {
          "output_type": "stream",
          "text": [
            "After grouping the matrix shape :(962, 33)\n",
            "After preprocessing the matrix shape: (882, 33) \n"
          ],
          "name": "stdout"
        }
      ]
    },
    {
      "cell_type": "code",
      "metadata": {
        "id": "1Hn1IQpcXfiz",
        "outputId": "4fd21b5d-623e-4a2f-f646-5d2b94459ea7",
        "colab": {
          "base_uri": "https://localhost:8080/",
          "height": 51
        }
      },
      "source": [
        "# data group merge(fake)\n",
        "merge_matrix = grouping_stock(data_sum , stockIdex_cate , fake = False )\n",
        "#exclude #光電 #半導體 #金融 族群 (因大部分分點前會幾名大量買賣 , 擾亂分點籌碼特性)\n",
        "new_1 ,new_2 ,new_3 ,new_4 = merge_matrix[:,:13] , merge_matrix[:,14:15] , merge_matrix[:,16:24] , merge_matrix[:,25:]\n",
        "merge_matrix = np.concatenate((new_1 ,new_2 ,new_3 ,new_4), axis = 1)\n",
        "# data preprocess(real)\n",
        "np_buy_res = data_preprocess(merge_matrix , Buyer_threshold = 0 , BS_filter = True , buy_or_sell = 'buy') "
      ],
      "execution_count": null,
      "outputs": [
        {
          "output_type": "stream",
          "text": [
            "After grouping the matrix shape :(962, 33)\n",
            "After preprocessing the matrix shape: (882, 30) \n"
          ],
          "name": "stdout"
        }
      ]
    },
    {
      "cell_type": "code",
      "metadata": {
        "id": "d0AV6FLWX5HO",
        "outputId": "3f86b7bd-d848-4acd-f07d-170bdd0fc54c",
        "colab": {
          "base_uri": "https://localhost:8080/",
          "height": 649
        }
      },
      "source": [
        "embed_vec_f = visualize_plot(np_buy_res_f , reduced_dim = 20 , perplexity = 30)\n",
        "kmeans_f = KMeans(n_clusters=20, random_state=0).fit(embed_vec_f)\n",
        "plt.scatter(embed_vec_f[:,0],embed_vec_f[:,1], c=kmeans_f.labels_)"
      ],
      "execution_count": null,
      "outputs": [
        {
          "output_type": "stream",
          "text": [
            "[2.71637414 1.71863407 1.59773826 1.57261104 1.53431646 1.50575245\n",
            " 1.45817537 1.38259147 1.35954851 1.32486729 1.20214947 1.02168158\n",
            " 0.98845382 0.94524755 0.9008576  0.89124035 0.87540799 0.87109212\n",
            " 0.82384156 0.80559074 0.7866373  0.74921972 0.69544384 0.65899721\n",
            " 0.62781219 0.61212959 0.57017339 0.52480572 0.35552478 0.34264826\n",
            " 0.32143472 0.29992756 0.25555393]\n",
            "u shape: (882, 20) s shape: (20, 20) vt shape: (20, 33)\n"
          ],
          "name": "stdout"
        },
        {
          "output_type": "display_data",
          "data": {
            "image/png": "[encoded data removed]",
            "text/plain": [
              "<Figure size 432x288 with 1 Axes>"
            ]
          },
          "metadata": {
            "tags": [],
            "needs_background": "light"
          }
        },
        {
          "output_type": "execute_result",
          "data": {
            "text/plain": [
              "<matplotlib.collections.PathCollection at 0x7f4f1d40f0f0>"
            ]
          },
          "metadata": {
            "tags": []
          },
          "execution_count": 47
        },
        {
          "output_type": "display_data",
          "data": {
            "image/png": "[encoded data removed]",
            "text/plain": [
              "<Figure size 432x288 with 1 Axes>"
            ]
          },
          "metadata": {
            "tags": [],
            "needs_background": "light"
          }
        }
      ]
    },
    {
      "cell_type": "code",
      "metadata": {
        "id": "jemB3IKeFdXQ",
        "outputId": "8fd1f38d-f1e4-4cb3-c28b-a663f454f6d7",
        "colab": {
          "base_uri": "https://localhost:8080/",
          "height": 632
        }
      },
      "source": [
        "embed_vec = visualize_plot( np_buy_res , reduced_dim = 20 , perplexity = 30 )\n",
        "kmeans = KMeans(n_clusters=16, random_state=0).fit(embed_vec)\n",
        "plt.scatter(embed_vec[:,0],embed_vec[:,1], c=kmeans.labels_)"
      ],
      "execution_count": null,
      "outputs": [
        {
          "output_type": "stream",
          "text": [
            "[3.01041697 1.98126774 1.82149006 1.68463301 1.53536976 1.44397574\n",
            " 1.36904148 1.28498919 1.26500512 1.19775885 1.1864118  1.16167416\n",
            " 1.05335175 0.9559589  0.90912244 0.87836161 0.84723971 0.82303054\n",
            " 0.78704877 0.77253849 0.73007433 0.7071439  0.59574076 0.53284662\n",
            " 0.466999   0.45713714 0.42747544 0.41973499 0.29450284 0.12956901]\n",
            "u shape: (882, 20) s shape: (20, 20) vt shape: (20, 30)\n"
          ],
          "name": "stdout"
        },
        {
          "output_type": "display_data",
          "data": {
            "image/png": "[encoded data removed]",
            "text/plain": [
              "<Figure size 432x288 with 1 Axes>"
            ]
          },
          "metadata": {
            "tags": [],
            "needs_background": "light"
          }
        },
        {
          "output_type": "execute_result",
          "data": {
            "text/plain": [
              "<matplotlib.collections.PathCollection at 0x7f4f1d01fda0>"
            ]
          },
          "metadata": {
            "tags": []
          },
          "execution_count": 80
        },
        {
          "output_type": "display_data",
          "data": {
            "image/png": "[encoded data removed]",
            "text/plain": [
              "<Figure size 432x288 with 1 Axes>"
            ]
          },
          "metadata": {
            "tags": [],
            "needs_background": "light"
          }
        }
      ]
    },
    {
      "cell_type": "code",
      "metadata": {
        "id": "dmPJBdrl575f",
        "outputId": "1ae04d72-9364-4d28-8c14-22fc37ab45b5",
        "colab": {
          "base_uri": "https://localhost:8080/",
          "height": 289
        }
      },
      "source": [
        "kmeans.cluster_centers_"
      ],
      "execution_count": null,
      "outputs": [
        {
          "output_type": "execute_result",
          "data": {
            "text/plain": [
              "array([[  5.0128183 ,  11.495436  ],\n",
              "       [  1.8214431 , -20.193161  ],\n",
              "       [-19.12021   ,  12.060943  ],\n",
              "       [ 14.98853   ,   4.035968  ],\n",
              "       [-23.79269   , -10.852302  ],\n",
              "       [ 13.980817  , -22.99373   ],\n",
              "       [ -4.6475196 ,  20.934542  ],\n",
              "       [ -2.8160985 ,   3.493253  ],\n",
              "       [-11.232639  , -28.017645  ],\n",
              "       [ 26.328468  ,  -7.1435957 ],\n",
              "       [ 18.40118   ,  17.33802   ],\n",
              "       [-32.722572  ,  -0.53306115],\n",
              "       [ -8.010107  , -12.048846  ],\n",
              "       [  8.906368  ,  -7.174449  ],\n",
              "       [  7.832222  ,  26.37463   ],\n",
              "       [-13.24849   ,  -2.1858292 ]], dtype=float32)"
            ]
          },
          "metadata": {
            "tags": []
          },
          "execution_count": 81
        }
      ]
    },
    {
      "cell_type": "code",
      "metadata": {
        "id": "gbRwAiW28u-9"
      },
      "source": [
        "def group_plot(matrix , group , label = kmeans.labels_):  \n",
        "  group_member = []\n",
        "  for idx,ele in enumerate(kmeans.labels_):\n",
        "    if ele == group :\n",
        "      group_member.append(idx)\n",
        "  group_matrix = np.zeros((len(group_member),matrix.shape[1]))\n",
        "  for idx , ele in enumerate(group_member):\n",
        "    group_matrix[ idx : idx+1 , : ] = matrix[ group_member[idx]: group_member[idx]+1 , :]\n",
        "  plt.imshow(group_matrix)\n",
        "  plt.colorbar()\n",
        "\n",
        "  return group_matrix , group_member"
      ],
      "execution_count": null,
      "outputs": []
    },
    {
      "cell_type": "code",
      "metadata": {
        "id": "oqDuByCiZOmH"
      },
      "source": [
        "# 測試: 抓出當中的一個 group(fake)  \n",
        "#group = 10\n",
        "#group_matrix_f , group_member_f = group_plot(np_buy_res_f, group)"
      ],
      "execution_count": null,
      "outputs": []
    },
    {
      "cell_type": "code",
      "metadata": {
        "id": "hGT_N8gPWj7L",
        "outputId": "7054f00b-3d3a-4ecf-f371-40a737a7940c",
        "colab": {
          "base_uri": "https://localhost:8080/",
          "height": 34
        }
      },
      "source": [
        "# TODO : 這邊要注意 merge_matrix_d (shape : 882 , 30 ) 才是跟 np_buy_res shape 對齊的 raw data!!!! (用原本的 merge_matrix shape : 962 , 30 找 group member 買賣量會出錯@@ !!!)\n",
        "merge_matrix_d = data_preprocess(merge_matrix , Buyer_threshold = 0 , CR_filter = True , TF_IDFs = False , BS_filter = True , buy_or_sell = 'buy') "
      ],
      "execution_count": null,
      "outputs": [
        {
          "output_type": "stream",
          "text": [
            "After preprocessing the matrix shape: (882, 30) \n"
          ],
          "name": "stdout"
        }
      ]
    },
    {
      "cell_type": "code",
      "metadata": {
        "id": "8jGtBMTVaCbC",
        "outputId": "46d6430d-d0fd-4e6d-fc44-f7b494a20edf",
        "colab": {
          "base_uri": "https://localhost:8080/",
          "height": 85
        }
      },
      "source": [
        "df = pd.DataFrame(merge_matrix_d)\n",
        "merge_matrix_d[50,:]"
      ],
      "execution_count": null,
      "outputs": [
        {
          "output_type": "execute_result",
          "data": {
            "text/plain": [
              "array([ 4730.,  1642.,   825.,     0.,     0.,     0.,  4429.,     0.,\n",
              "          78.,     0.,     0.,     0.,     0.,     0.,  5390.,  9784.,\n",
              "           0.,     0., 15532.,     0.,  1643.,     0., 10717.,  1686.,\n",
              "           0.,  2854.,    93.,   100.,     0.,     0.])"
            ]
          },
          "metadata": {
            "tags": []
          },
          "execution_count": 182
        }
      ]
    },
    {
      "cell_type": "code",
      "metadata": {
        "id": "LyUz-sAEZrSm",
        "outputId": "0126a465-3c99-4a4a-be9d-895dc924005e",
        "colab": {
          "base_uri": "https://localhost:8080/",
          "height": 269
        }
      },
      "source": [
        "merge_matrix_d = new_normalize(merge_matrix_d)\n",
        "merge_matrix_d.shape\n",
        "group_ , member_ = group_plot(merge_matrix_d,group=4)"
      ],
      "execution_count": null,
      "outputs": [
        {
          "output_type": "display_data",
          "data": {
            "image/png": "[encoded data removed]",
            "text/plain": [
              "<Figure size 432x288 with 2 Axes>"
            ]
          },
          "metadata": {
            "tags": [],
            "needs_background": "light"
          }
        }
      ]
    },
    {
      "cell_type": "code",
      "metadata": {
        "id": "-jA82B_lS0v5",
        "outputId": "8809665f-dfa2-46d3-8aba-6c91689f7b5b",
        "colab": {
          "base_uri": "https://localhost:8080/",
          "height": 998
        }
      },
      "source": [
        "# 測試: 抓出當中的一個 group(real)  \n",
        "group = 4\n",
        "group_matrix , group_member = group_plot(np_buy_res,group)\n",
        "print(len(group_member))\n",
        "# TODO : 這邊要注意 merge_matrix_d (shape : 882 , 30 ) 才是跟 np_buy_res shape 對齊的 raw data!!!! (用原本的 merge_matrix shape : 962 , 30 找 group member 買賣量會出錯@@ !!!)\n",
        "# TODO : 另外注意到 member 買賣量 = 0.0 的代表原本買賣量是負的 (因為BS filter過了~)\n",
        "for member in group_member:\n",
        "  print(f\"the buyer {Idx_to_buyer(member)} buy {merge_matrix_d[member][18]} stocks! \")"
      ],
      "execution_count": null,
      "outputs": [
        {
          "output_type": "stream",
          "text": [
            "42\n",
            "the buyer 土銀-彰化 buy 119.0 stocks! \n",
            "the buyer 中國信託-嘉義 buy 15532.0 stocks! \n",
            "the buyer 元大-竹東 buy 205.0 stocks! \n",
            "the buyer 元大-竹科 buy 387.0 stocks! \n",
            "the buyer 元大-佳里 buy 859.0 stocks! \n",
            "the buyer 元大-林園 buy 1026.0 stocks! \n",
            "the buyer 元大-前金 buy 131.0 stocks! \n",
            "the buyer 元大-國際證券 buy 370.0 stocks! \n",
            "the buyer 元大-博愛 buy 662.0 stocks! \n",
            "the buyer 元大-頭份 buy 1225.0 stocks! \n",
            "the buyer 元富-中港 buy 229.0 stocks! \n",
            "the buyer 元富-吉利 buy 17.0 stocks! \n",
            "the buyer 元富-板橋 buy 138.0 stocks! \n",
            "the buyer 元富-敦南 buy 402.0 stocks! \n",
            "the buyer 日盛-中和 buy 183.0 stocks! \n",
            "the buyer 日盛-竹北 buy 653.0 stocks! \n",
            "the buyer 日盛-花蓮 buy 430.0 stocks! \n",
            "the buyer 日進 buy 1477.0 stocks! \n",
            "the buyer 台新銀 buy 683.0 stocks! \n",
            "the buyer 台灣企銀 buy 491.0 stocks! \n",
            "the buyer 台灣匯立證券 buy 0.0 stocks! \n",
            "the buyer 永興-大墩 buy 233.0 stocks! \n",
            "the buyer 永興-台中 buy 309.0 stocks! \n",
            "the buyer 永豐金-國際證券 buy 468.0 stocks! \n",
            "the buyer 永豐金-敦南 buy 427.0 stocks! \n",
            "the buyer 兆豐-北高雄 buy 474.0 stocks! \n",
            "the buyer 兆豐-忠孝 buy 701.0 stocks! \n",
            "the buyer 宏遠-桃園 buy 577.0 stocks! \n",
            "the buyer 亞東-台中 buy 0.0 stocks! \n",
            "the buyer 和興 buy 365.0 stocks! \n",
            "the buyer 高橋-內壢 buy 5237.0 stocks! \n",
            "the buyer 國票-中港 buy 354.0 stocks! \n",
            "the buyer 國票-台南 buy 895.0 stocks! \n",
            "the buyer 康和-內湖 buy 564.0 stocks! \n",
            "the buyer 第一金-國際證券 buy 395.0 stocks! \n",
            "the buyer 統一-金門 buy 196.0 stocks! \n",
            "the buyer 凱基-士林 buy 165.0 stocks! \n",
            "the buyer 凱基-永康 buy 422.0 stocks! \n",
            "the buyer 凱基-虎尾 buy 225.0 stocks! \n",
            "the buyer 富邦-民雄 buy 202.0 stocks! \n",
            "the buyer 華南永昌-小港 buy 215.0 stocks! \n",
            "the buyer 華南永昌-鶯歌 buy 2059.0 stocks! \n"
          ],
          "name": "stdout"
        },
        {
          "output_type": "display_data",
          "data": {
            "image/png": "[encoded data removed]",
            "text/plain": [
              "<Figure size 432x288 with 2 Axes>"
            ]
          },
          "metadata": {
            "tags": [],
            "needs_background": "light"
          }
        }
      ]
    },
    {
      "cell_type": "code",
      "metadata": {
        "id": "z5jDcOWsZMp9"
      },
      "source": [
        "def Idx_to_buyer(idx):\n",
        "  rev_dic = reverse_dic(B.buyer_index)\n",
        "  return rev_dic[idx]"
      ],
      "execution_count": null,
      "outputs": []
    },
    {
      "cell_type": "code",
      "metadata": {
        "id": "3J5F7z9dZ3TO",
        "outputId": "e99de01b-f3cb-46af-c793-b07de6b369e4",
        "colab": {
          "base_uri": "https://localhost:8080/",
          "height": 1000
        }
      },
      "source": [
        "# TODO 測試: 以此 group = 9 (營建類股) 抓出的焦點券商 , 反利用原始 raw matrix , 檢查這些焦點券商買超的個股是那些 ?\n",
        "# 如果是 fake matrix 結果會?\n",
        "np_data_sum = data_preprocess(data_sum , Buyer_threshold = 0 , filter = True , buy_or_sell = 'buy') # filter and normalize 原始 raw matrix\n",
        "group_matrix_full , member = group_plot(np_data_sum , group) # 取出 group 9 的券商\n",
        "\n",
        "df = pd.DataFrame(group_matrix_full)\n",
        "#df_ = df.sum(0)\n",
        "#l = df_.values.tolist()\n",
        "#sorted(l)\n",
        "df = B.drop_cln_row(df , drop_portion= \"Stock\" ,Lower_bound=0)\n",
        "df_np = np.array(df.values.tolist())\n",
        "#plt.imshow(df_np)\n",
        "df_sum = df.sum(0) # sum over every stock \n",
        "df_sum = df_sum.sort_values(ascending=False) # sort by 各股 stock 買賣量  \n",
        "idx_list = df_sum.index.tolist()\n",
        "value_list = df_sum.values.tolist()\n",
        "\n",
        "# 印出此 group 券商前幾買賣的產業類別\n",
        "data_dummy = []\n",
        "for idx ,value in zip(idx_list,value_list):\n",
        "  for key ,values in stockIdex_cate.items():\n",
        "    if idx in values:\n",
        "      data_dummy.append((key,value))\n",
        "      if key not in [\"光電\",\"金融保險\",\"半導體\"]:\n",
        "        print(key,value)\n"
      ],
      "execution_count": null,
      "outputs": [
        {
          "output_type": "stream",
          "text": [
            "After preprocessing the matrix shape: (888, 1683) \n",
            "塑膠 1.1658324556622661\n",
            "通信網路 0.698034638674576\n",
            "金融 0.2810798268437051\n",
            "其他 0.2252447449562955\n",
            "塑膠 0.2093061811466958\n",
            "塑膠 0.19656330052276166\n",
            "觀光 0.1929208179304929\n",
            "鋼鐵 0.18170433380331683\n",
            "電器電纜 0.15653646472102595\n",
            "塑膠 0.15498454762352287\n",
            "塑膠 0.15417749035707742\n",
            "塑膠 0.139043970287354\n",
            "塑膠 0.1289159465625613\n",
            "其他電子 0.12865744627181536\n",
            "塑膠 0.12728638751441085\n",
            "通信網路 0.11788800866904617\n",
            "通信網路 0.1150289580978685\n",
            "塑膠 0.11375560264804953\n",
            "其他電子 0.11095424211518991\n",
            "橡膠 0.1099616779470113\n",
            "電子零組件 0.10612651926170767\n",
            "航運業 0.10028509535989798\n",
            "電腦及週邊設備 0.09879468561567716\n",
            "電腦及週邊設備 0.09791080788628058\n",
            "塑膠 0.09727581941496007\n",
            "造紙 0.09635153652003857\n",
            "食品 0.09467723675308078\n",
            "其他電子 0.09424745897967678\n",
            "航運業 0.08993322422661107\n",
            "電腦及週邊設備 0.08647918881841715\n",
            "化工 0.08412490673128825\n",
            "電腦及週邊設備 0.08155034829031067\n",
            "食品 0.08039050030715968\n",
            "紡織纖維 0.0765761599437172\n",
            "塑膠 0.07632423724836737\n",
            "電子零組件 0.0760104465691149\n",
            "電子零組件 0.07355356554983267\n",
            "電子通路 0.07192646364817988\n",
            "電子零組件 0.07122388386430581\n",
            "通信網路 0.07111435821212331\n",
            "玻璃陶瓷 0.06875089699027279\n",
            "電子零組件 0.06866847029504608\n",
            "通信網路 0.06774408299089443\n",
            "電腦及週邊設備 0.06747083906175254\n",
            "其他電子 0.06717649140801737\n",
            "造紙 0.0663662431883331\n",
            "化工 0.06628666373384144\n",
            "電腦及週邊設備 0.06619221609862722\n",
            "電子零組件 0.06603318187165011\n",
            "電子零組件 0.06496572226759213\n",
            "建材營造 0.06415513986953908\n",
            "電腦及週邊設備 0.06350580939611943\n",
            "電子零組件 0.06324019615364147\n",
            "電腦及週邊設備 0.06187133600313442\n",
            "化工 0.06115135946445463\n",
            "紡織纖維 0.05989439084996006\n",
            "汽車 0.05858816878941949\n",
            "建材營造 0.058104621655612206\n",
            "航運業 0.057896198061596044\n",
            "建材營造 0.057312529245294876\n",
            "建材營造 0.056750978808334525\n",
            "鋼鐵 0.05639744565874208\n",
            "建材營造 0.05532754484339535\n",
            "電子零組件 0.05497394750152946\n",
            "其他電子 0.05369465388600891\n",
            "航運業 0.053374887550712735\n",
            "通信網路 0.05252309016332478\n",
            "其他電子 0.0518936553758669\n",
            "電子零組件 0.0516852192845902\n",
            "電機機械 0.051562820274788944\n",
            "電腦及週邊設備 0.05071776304937125\n",
            "電子零組件 0.05039555367865891\n",
            "鋼鐵 0.050195429354747856\n",
            "航運業 0.049773990067169295\n",
            "貿易百貨 0.04972587073370088\n",
            "電器電纜 0.04923770357567286\n",
            "電子零組件 0.04910161738510039\n",
            "生技醫療 0.048758633674572775\n",
            "電腦及週邊設備 0.048732114343235856\n",
            "橡膠 0.048467810689403985\n",
            "其他電子 0.04825140919663444\n",
            "其他 0.04765272002156142\n",
            "電子零組件 0.04756974082721516\n",
            "化工 0.047449549222493906\n",
            "電子零組件 0.04738009012764499\n",
            "貿易百貨 0.0464946976854811\n",
            "電子零組件 0.046336943459925777\n",
            "航運業 0.045550527150605986\n",
            "電子零組件 0.04548117787732524\n",
            "造紙 0.04376559200821813\n",
            "電子零組件 0.04374879033174685\n",
            "電子通路 0.04303393065808585\n",
            "文化創意 0.042616340513591346\n",
            "電子通路 0.0424119802275591\n",
            "航運業 0.04235211035122003\n",
            "通信網路 0.042014782199574996\n",
            "通信網路 0.04161736359327483\n",
            "紡織纖維 0.04151854801537056\n",
            "建材營造 0.041446408522644904\n",
            "橡膠 0.04140675449902334\n",
            "建材營造 0.041322989027002106\n",
            "電腦及週邊設備 0.04091600090269711\n",
            "汽車 0.040822843140310094\n",
            "塑膠 0.040795106237627984\n",
            "電子零組件 0.040592063770863336\n",
            "電子零組件 0.040093093083264295\n",
            "通信網路 0.03990458157516106\n",
            "貿易百貨 0.039821597041606926\n",
            "電機機械 0.039136768213044466\n",
            "電機機械 0.03912949524748175\n",
            "鋼鐵 0.03912611809474969\n",
            "建材營造 0.03863043458240816\n",
            "紡織纖維 0.03840080049801804\n",
            "通信網路 0.03797275863260764\n",
            "其他 0.037630011841102665\n",
            "貿易百貨 0.037506898236903216\n",
            "其他電子 0.03749748055776705\n",
            "食品 0.03717878082356289\n",
            "通信網路 0.03714169312310198\n",
            "其他 0.03656104007312368\n",
            "電器電纜 0.036529341312461446\n",
            "紡織纖維 0.03626045400686789\n",
            "電腦及週邊設備 0.03605753950341366\n",
            "通信網路 0.03564985012237446\n",
            "電腦及週邊設備 0.035309211096549845\n",
            "電子通路 0.03512103198351197\n",
            "航運業 0.03509567093057505\n",
            "生技醫療 0.035065230232234776\n",
            "其他電子 0.03485982372684683\n",
            "其他電子 0.034782691895835424\n",
            "建材營造 0.03468353717181895\n",
            "電子零組件 0.03452247468150145\n",
            "電腦及週邊設備 0.034516010550073105\n",
            "建材營造 0.034355251011384036\n",
            "觀光 0.034255368646942445\n",
            "電器電纜 0.0337565586035055\n",
            "建材營造 0.033733549796766085\n",
            "資訊服務 0.03368730727093372\n",
            "食品 0.03351229295524331\n",
            "電子零組件 0.03350546305983048\n",
            "電子通路 0.033097885538861775\n",
            "其他 0.03200054944877198\n",
            "電機機械 0.03176456751690944\n",
            "電子零組件 0.031750492379492665\n",
            "航運業 0.03172106074352074\n",
            "化工 0.031448412940971865\n",
            "建材營造 0.03144586761099091\n",
            "電子零組件 0.03136169333679814\n",
            "建材營造 0.031231867877711105\n",
            "電子零組件 0.03104397046392161\n",
            "鋼鐵 0.03099632645671529\n",
            "其他電子 0.03090492641528955\n",
            "建材營造 0.03076651612419118\n",
            "電子零組件 0.030668067005292014\n",
            "資訊服務 0.030622546760195806\n",
            "紡織纖維 0.030596099667523115\n",
            "其他電子 0.030474752893520654\n",
            "電腦及週邊設備 0.03040548897639161\n",
            "電腦及週邊設備 0.030326367041077974\n",
            "電子零組件 0.03025013242620707\n",
            "電子通路 0.0302487889747865\n",
            "紡織纖維 0.030001265959122517\n",
            "建材營造 0.029981948616185746\n",
            "電腦及週邊設備 0.029891737032727652\n",
            "其他 0.029812059219679273\n",
            "電腦及週邊設備 0.028842545633165573\n",
            "電子零組件 0.028813851724423273\n",
            "橡膠 0.028786648768425644\n",
            "紡織纖維 0.028397548453959563\n",
            "電子零組件 0.02828563925689507\n",
            "生技醫療 0.0281948396663027\n",
            "生技醫療 0.02817025277898726\n",
            "通信網路 0.028164719665029623\n",
            "電子零組件 0.028065273449324104\n",
            "通信網路 0.02793863476515205\n",
            "通信網路 0.027893262785859862\n",
            "塑膠 0.0278476765214267\n",
            "電腦及週邊設備 0.02767204596274963\n",
            "建材營造 0.027504402395505556\n",
            "其他 0.027486329178658748\n",
            "電腦及週邊設備 0.02744391937826867\n",
            "生技醫療 0.027431303293355712\n",
            "化工 0.02742365464859306\n",
            "電子零組件 0.027332883425961622\n",
            "電腦及週邊設備 0.02718130658972167\n",
            "貿易百貨 0.02711434891518954\n",
            "其他電子 0.027011375479218547\n",
            "電腦及週邊設備 0.02701060670252788\n",
            "電腦及週邊設備 0.026992684067077943\n",
            "其他電子 0.026991634890744364\n",
            "生技醫療 0.026888408531363657\n",
            "電子零組件 0.026838075799287483\n",
            "觀光 0.02681574678805709\n",
            "貿易百貨 0.026651199906854973\n",
            "鋼鐵 0.0266228625536077\n",
            "資訊服務 0.02629181444998574\n",
            "電腦及週邊設備 0.026182962337074952\n",
            "通信網路 0.026119427771653894\n",
            "電子零組件 0.026071702720421953\n",
            "鋼鐵 0.02599403173398701\n",
            "電子零組件 0.025983414209239192\n",
            "電腦及週邊設備 0.02597149037814501\n",
            "電子零組件 0.025936183197384406\n",
            "電腦及週邊設備 0.025736191264711515\n",
            "航運業 0.025635838984137852\n",
            "其他電子 0.025581494016361873\n",
            "電腦及週邊設備 0.025521159969387534\n",
            "電腦及週邊設備 0.0254882754352043\n",
            "電子零組件 0.025468191509539596\n",
            "化工 0.025459700837337344\n",
            "化工 0.025407430669475317\n",
            "生技醫療 0.025228078967344508\n",
            "通信網路 0.025104582205509353\n",
            "橡膠 0.02502807941833561\n",
            "生技醫療 0.02498331048665292\n",
            "電腦及週邊設備 0.02484796350553243\n",
            "電機機械 0.024708839139007288\n",
            "電子零組件 0.02462266604912191\n",
            "建材營造 0.024541229074825477\n",
            "電機機械 0.024448073219036467\n",
            "建材營造 0.02424534605471357\n",
            "資訊服務 0.024240784706268198\n",
            "化工 0.02419227588494655\n",
            "通信網路 0.024182508026208884\n",
            "電機機械 0.024166833109254413\n",
            "玻璃陶瓷 0.0240099897063882\n",
            "建材營造 0.02396143227186384\n",
            "紡織纖維 0.0237673855931679\n",
            "航運業 0.023741672353989433\n",
            "電機機械 0.02370850878156356\n",
            "觀光 0.023672796496969434\n",
            "通信網路 0.0236425870366977\n",
            "電子零組件 0.023619866239531665\n",
            "紡織纖維 0.023545899169002224\n",
            "電腦及週邊設備 0.02324389668118085\n",
            "電機機械 0.02315336633479195\n",
            "其他電子 0.02313789240636708\n",
            "電子零組件 0.02312103647520744\n",
            "通信網路 0.023097402203807096\n",
            "電子零組件 0.022930128483251815\n",
            "其他電子 0.02284285470752754\n",
            "紡織纖維 0.022737000699496978\n",
            "生技醫療 0.022602807209541522\n",
            "紡織纖維 0.022564657022304303\n",
            "生技醫療 0.022553773579049297\n",
            "通信網路 0.02250859262968373\n",
            "觀光 0.022507495736518744\n",
            "其他電子 0.022347185964978623\n",
            "通信網路 0.022275881271200428\n",
            "其他 0.02226850282945342\n",
            "電子零組件 0.02224415761419161\n",
            "電子零組件 0.022220635310256854\n",
            "其他 0.02220105391495089\n",
            "電腦及週邊設備 0.02219393042127797\n",
            "電機機械 0.02215903102084245\n",
            "電腦及週邊設備 0.022124139359931915\n",
            "通信網路 0.022099781385882214\n",
            "電子零組件 0.02209969687060508\n",
            "電腦及週邊設備 0.022089836455965916\n",
            "電機機械 0.021944545026217493\n",
            "建材營造 0.021906252900062567\n",
            "電子零組件 0.021745649022514614\n",
            "電器電纜 0.021637892194383928\n",
            "電腦及週邊設備 0.02146730168497854\n",
            "建材營造 0.02143530196219867\n",
            "電腦及週邊設備 0.021400287792891527\n",
            "汽車 0.021242913199598572\n",
            "鋼鐵 0.02119545590325008\n",
            "化工 0.021153235436407965\n",
            "生技醫療 0.021137602035128614\n",
            "貿易百貨 0.02111905853838718\n",
            "汽車 0.021098808931938735\n",
            "其他電子 0.02109128325073367\n",
            "水泥 0.02108196487545284\n",
            "生技醫療 0.02107873890489421\n",
            "通信網路 0.02107488133995184\n",
            "電子零組件 0.021015818459001624\n",
            "通信網路 0.020973653998103657\n",
            "電子零組件 0.020963756064712\n",
            "其他 0.020946857601983584\n",
            "電腦及週邊設備 0.020909997063127825\n",
            "電子通路 0.020855050669672446\n",
            "玻璃陶瓷 0.020845562182182135\n",
            "電機機械 0.020793896544651604\n",
            "建材營造 0.020786279021265862\n",
            "其他 0.020755019726725506\n",
            "其他 0.020721578082878334\n",
            "電機機械 0.020696141585228964\n",
            "鋼鐵 0.0206761869659373\n",
            "鋼鐵 0.020672095741461113\n",
            "電腦及週邊設備 0.020532711744831983\n",
            "水泥 0.020523905363449755\n",
            "電機機械 0.020495407400950166\n",
            "其他 0.020416497308837184\n",
            "建材營造 0.02037944243148966\n",
            "食品 0.02036482164136777\n",
            "化工 0.0203381657683302\n",
            "其他 0.0202997758811877\n",
            "航運業 0.020250766159751004\n",
            "電子零組件 0.02015930800154351\n",
            "電機機械 0.02005985033135863\n",
            "生技醫療 0.020034705118973557\n",
            "食品 0.020001272510242897\n",
            "電子零組件 0.019978689865815663\n",
            "其他電子 0.0199428200590581\n",
            "建材營造 0.01992376374726535\n",
            "其他電子 0.01988904142065062\n",
            "電腦及週邊設備 0.019848638489646485\n",
            "其他電子 0.019786124324006744\n",
            "資訊服務 0.01978595405901368\n",
            "電腦及週邊設備 0.01962607682268287\n",
            "其他電子 0.019583356291719745\n",
            "電腦及週邊設備 0.019498254447842294\n",
            "生技醫療 0.019476846909294698\n",
            "其他電子 0.019448219673740316\n",
            "紡織纖維 0.019405485228718097\n",
            "電子零組件 0.019373043831169445\n",
            "其他 0.01928432665563757\n",
            "鋼鐵 0.019246694477379957\n",
            "其他 0.01911915734221457\n",
            "航運業 0.019111803995200995\n",
            "油電燃氣 0.01910333108825346\n",
            "生技醫療 0.01905333081808127\n",
            "電機機械 0.018866047357910625\n",
            "文化創意 0.018780233185532007\n",
            "生技醫療 0.018761992145029816\n",
            "鋼鐵 0.018639948553300974\n",
            "其他 0.018585333037327144\n",
            "油電燃氣 0.018579458156876564\n",
            "電子零組件 0.018566552806962525\n",
            "紡織纖維 0.018553117408261318\n",
            "電子零組件 0.01845561322595904\n",
            "鋼鐵 0.01843456044043279\n",
            "電子零組件 0.01826625847716569\n",
            "其他 0.01821088486862504\n",
            "化工 0.01806619590787186\n",
            "電子零組件 0.018057655430609255\n",
            "電子零組件 0.018033231916019552\n",
            "電子零組件 0.017989951387396737\n",
            "電腦及週邊設備 0.017956944196672417\n",
            "資訊服務 0.017919890425094093\n",
            "電機機械 0.01788096404574834\n",
            "建材營造 0.017876839796735437\n",
            "電子零組件 0.017847494779617876\n",
            "生技醫療 0.017843430462733963\n",
            "電子零組件 0.017802891502946967\n",
            "電子通路 0.017769957388226218\n",
            "金融 0.01768187674406857\n",
            "鋼鐵 0.017661176541197657\n",
            "其他 0.017636603579426067\n",
            "紡織纖維 0.017629645345401866\n",
            "通信網路 0.017605536188506334\n",
            "電子零組件 0.017548342118324994\n",
            "其他 0.017510541226804184\n",
            "航運業 0.017491505419958024\n",
            "建材營造 0.01741433171069123\n",
            "電子零組件 0.01737686745107023\n",
            "資訊服務 0.017323542160200645\n",
            "電子零組件 0.017300834525455975\n",
            "電腦及週邊設備 0.01729827191686176\n",
            "其他電子 0.01710974485228351\n",
            "金融 0.016978998014079212\n",
            "電機機械 0.01693667261408731\n",
            "電腦及週邊設備 0.01692560365596058\n",
            "鋼鐵 0.016827600495330084\n",
            "貿易百貨 0.016811251132916157\n",
            "電子零組件 0.016757199357283332\n",
            "其他電子 0.01674209485740108\n",
            "電機機械 0.016546416058248123\n",
            "生技醫療 0.01649858523778278\n",
            "航運業 0.0164452917168407\n",
            "電腦及週邊設備 0.016440106106929475\n",
            "航運業 0.016361775589497866\n",
            "電子零組件 0.016355560869029617\n",
            "電腦及週邊設備 0.016290715336098334\n",
            "建材營造 0.016264325403105833\n",
            "建材營造 0.016056717980814452\n",
            "電子通路 0.016049671525138705\n",
            "電子零組件 0.016043230464880508\n",
            "油電燃氣 0.016031884722699626\n",
            "電子零組件 0.01602882173337973\n",
            "電機機械 0.015974446848177056\n",
            "生技醫療 0.015964198641373304\n",
            "通信網路 0.01594285695039956\n",
            "電腦及週邊設備 0.01593180825107571\n",
            "電子零組件 0.015819951921476564\n",
            "其他電子 0.015814489139511816\n",
            "電子零組件 0.01580354705979169\n",
            "電子零組件 0.015780565158860185\n",
            "存託憑證 0.015757188546577885\n",
            "電子零組件 0.015750876555951126\n",
            "電機機械 0.01574101819187337\n",
            "電腦及週邊設備 0.015696845734193356\n",
            "化工 0.01563988699562752\n",
            "其他 0.015552475726958902\n",
            "食品 0.015461184046670528\n",
            "電子零組件 0.015338391421544171\n",
            "化工 0.015294586930837883\n",
            "電子零組件 0.015235867944434626\n",
            "汽車 0.015172065176960717\n",
            "電子通路 0.015152962882916126\n",
            "電子零組件 0.015117246460078037\n",
            "觀光 0.01508057642938896\n",
            "電機機械 0.015077079886846683\n",
            "電子零組件 0.01498570563659394\n",
            "電器電纜 0.014952834374858223\n",
            "電子通路 0.014934540490797973\n",
            "電機機械 0.01492588263956691\n",
            "電機機械 0.014893213203993668\n",
            "電腦及週邊設備 0.014810632781461676\n",
            "紡織纖維 0.014802728790500229\n",
            "貿易百貨 0.014782562558178669\n",
            "資訊服務 0.014758677466046009\n",
            "電子零組件 0.014743210739388786\n",
            "其他 0.014739130448631876\n",
            "化工 0.014678666681535673\n",
            "電器電纜 0.014675668740326832\n",
            "其他電子 0.014621301935902923\n",
            "電機機械 0.014616580645647286\n",
            "汽車 0.014590502360778336\n",
            "其他電子 0.014584117249409802\n",
            "生技醫療 0.014460798325754056\n",
            "塑膠 0.01439411908442981\n",
            "鋼鐵 0.0143934040379919\n",
            "文化創意 0.014360838805721962\n",
            "生技醫療 0.014319440799066345\n",
            "電子零組件 0.01429862539327659\n",
            "其他 0.014177640428862995\n",
            "其他電子 0.014160268601082627\n",
            "其他 0.014156776060753664\n",
            "通信網路 0.014127250436800354\n",
            "建材營造 0.014107820526933873\n",
            "電子零組件 0.014090854404961469\n",
            "電子通路 0.014081961976783679\n",
            "貿易百貨 0.014079227860173136\n",
            "其他電子 0.014056858926956016\n",
            "其他 0.014055496584307995\n",
            "電子零組件 0.014038718700312345\n",
            "紡織纖維 0.013996820224258867\n",
            "電腦及週邊設備 0.013948197074492285\n",
            "生技醫療 0.01393723608116377\n",
            "電腦及週邊設備 0.013930835336104067\n",
            "生技醫療 0.013915584841298389\n",
            "生技醫療 0.013861246765430121\n",
            "建材營造 0.013843905548079303\n",
            "電子零組件 0.013815048512762166\n",
            "生技醫療 0.013686427589785118\n",
            "電腦及週邊設備 0.01368313898735057\n",
            "其他 0.013674784999353446\n",
            "觀光 0.013666573033024333\n",
            "電腦及週邊設備 0.013617934556418769\n",
            "電子通路 0.013610426888387426\n",
            "通信網路 0.013608454466421777\n",
            "電器電纜 0.013571509784879523\n",
            "電機機械 0.01350448756227644\n",
            "電子通路 0.013493099926672341\n",
            "通信網路 0.013490262510189704\n",
            "橡膠 0.013484035632839477\n",
            "化工 0.01347508814761831\n",
            "電機機械 0.013465040960349825\n",
            "電機機械 0.013405978919649406\n",
            "電器電纜 0.013363904207649364\n",
            "建材營造 0.01333560490860821\n",
            "電子零組件 0.013304486016789154\n",
            "生技醫療 0.013275520118293097\n",
            "食品 0.013261363944218516\n",
            "貿易百貨 0.013228634024238552\n",
            "水泥 0.013217347840862172\n",
            "電子零組件 0.013198001192910525\n",
            "通信網路 0.0131730593772999\n",
            "電子零組件 0.01316171632011941\n",
            "化工 0.013153641207177134\n",
            "建材營造 0.013144972422807561\n",
            "生技醫療 0.013134643437483495\n",
            "電子零組件 0.013092829810406569\n",
            "鋼鐵 0.013082574276964758\n",
            "油電燃氣 0.01306950524250689\n",
            "食品 0.013034539755420817\n",
            "化工 0.012940275299432131\n",
            "電機機械 0.012893852841968602\n",
            "通信網路 0.012889941584963404\n",
            "橡膠 0.012868748715695528\n",
            "電子零組件 0.01280991881029983\n",
            "生技醫療 0.012782873178803975\n",
            "通信網路 0.012775957987153596\n",
            "資訊服務 0.012761857498522738\n",
            "電子零組件 0.012740968058364685\n",
            "化工 0.012707561662161677\n",
            "電腦及週邊設備 0.01268209406853327\n",
            "紡織纖維 0.012672911441871387\n",
            "電機機械 0.012644075470178616\n",
            "生技醫療 0.012569908364600653\n",
            "電子零組件 0.012559961996251994\n",
            "生技醫療 0.012557589835316386\n",
            "電子通路 0.012531549437303422\n",
            "紡織纖維 0.012514542537472362\n",
            "電子零組件 0.012492420387309083\n",
            "建材營造 0.012466212176261015\n",
            "鋼鐵 0.012460037291042687\n",
            "建材營造 0.012447372753067142\n",
            "塑膠 0.012431950044440757\n",
            "文化創意 0.012431242394586515\n",
            "化工 0.012387901586419257\n",
            "電子零組件 0.012286850767783002\n",
            "其他電子 0.012270062764250807\n",
            "生技醫療 0.012269564758147139\n",
            "航運業 0.012223942193672503\n",
            "電子零組件 0.012209319023926583\n",
            "電機機械 0.012175398216530044\n",
            "建材營造 0.012170207573440782\n",
            "觀光 0.012145826890846848\n",
            "航運業 0.01211122140902205\n",
            "塑膠 0.012106520262892285\n",
            "電腦及週邊設備 0.012095806219237249\n",
            "其他電子 0.012088931603455654\n",
            "電腦及週邊設備 0.012076880169594791\n",
            "其他電子 0.012068984174555552\n",
            "電腦及週邊設備 0.012027665077824178\n",
            "電子零組件 0.011981507308575827\n",
            "其他電子 0.011935264922116644\n",
            "電機機械 0.011926441513424538\n",
            "電子零組件 0.01188478757916071\n",
            "汽車 0.011836146080040832\n",
            "通信網路 0.011817692065770045\n",
            "電子零組件 0.011774584549784374\n",
            "資訊服務 0.01173303498731885\n",
            "化工 0.011634793472596994\n",
            "電子零組件 0.011518789015931065\n",
            "電子通路 0.011514443140745593\n",
            "汽車 0.011507824455746453\n",
            "生技醫療 0.011495658331509218\n",
            "電腦及週邊設備 0.011489673941423119\n",
            "資訊服務 0.011488726558155487\n",
            "生技醫療 0.011390347098335937\n",
            "其他 0.011371883513005457\n",
            "電子零組件 0.01133543856780159\n",
            "食品 0.0113014840260329\n",
            "電子零組件 0.011284680720738889\n",
            "生技醫療 0.011274648062357314\n",
            "通信網路 0.01125171431435618\n",
            "電子零組件 0.011196922408129608\n",
            "食品 0.011187339518237777\n",
            "電子零組件 0.011083519606046517\n",
            "電腦及週邊設備 0.011078986355490419\n",
            "電子零組件 0.011027277535471969\n",
            "金融 0.010962006402803889\n",
            "電子零組件 0.010961839633972336\n",
            "造紙 0.010958385705664597\n",
            "電子零組件 0.010935570966193511\n",
            "電子通路 0.010879215823459909\n",
            "通信網路 0.010877370223015305\n",
            "生技醫療 0.010871444602106132\n",
            "建材營造 0.010864276431221497\n",
            "電機機械 0.0108637344351132\n",
            "文化創意 0.010824211003966803\n",
            "通信網路 0.010804951816428847\n",
            "電子零組件 0.010781599361617931\n",
            "生技醫療 0.010762744989418047\n",
            "文化創意 0.01071453859024365\n",
            "生技醫療 0.010711461162778964\n",
            "航運業 0.010685416963917355\n",
            "航運業 0.010663001059971661\n",
            "塑膠 0.010638651411135246\n",
            "電腦及週邊設備 0.010636330362667968\n",
            "觀光 0.010603955809608361\n",
            "鋼鐵 0.010598815612162887\n",
            "存託憑證 0.010591833402872659\n",
            "其他 0.010552842507972194\n",
            "其他 0.010524530799600584\n",
            "其他 0.010496037149183656\n",
            "通信網路 0.01043170240127061\n",
            "生技醫療 0.010431515008788568\n",
            "化工 0.010421400080800681\n",
            "橡膠 0.010336995884061933\n",
            "建材營造 0.010267859035467829\n",
            "鋼鐵 0.010264329286166076\n",
            "其他 0.010256812055754046\n",
            "紡織纖維 0.010185255799543996\n",
            "電機機械 0.010159365050134355\n",
            "電子零組件 0.010059301582900027\n",
            "生技醫療 0.010046857425174888\n",
            "其他 0.010043344053047127\n",
            "電子零組件 0.01002312005110357\n",
            "其他 0.009970598208591638\n",
            "電機機械 0.009963805715488414\n",
            "電子零組件 0.009956711439624457\n",
            "汽車 0.009944753764424764\n",
            "造紙 0.009884239438209274\n",
            "生技醫療 0.009880705963116247\n",
            "其他 0.00986450951340802\n",
            "電子零組件 0.009864126899261248\n",
            "電子零組件 0.00986059876275285\n",
            "通信網路 0.009854858555644873\n",
            "貿易百貨 0.009847444314321177\n",
            "電子零組件 0.009831377745227545\n",
            "電機機械 0.009778592118744876\n",
            "汽車 0.009761000488507202\n",
            "水泥 0.009742726484920633\n",
            "化工 0.009742026885800985\n",
            "電腦及週邊設備 0.009740613175512412\n",
            "生技醫療 0.009710315751589552\n",
            "通信網路 0.009671315279357984\n",
            "汽車 0.009637811799182366\n",
            "電子零組件 0.009471794852227924\n",
            "電腦及週邊設備 0.009467086970525012\n",
            "航運業 0.009446456434786735\n",
            "電子零組件 0.009426870519052888\n",
            "鋼鐵 0.009337649196102858\n",
            "航運業 0.009336956636866402\n",
            "橡膠 0.009331306582727565\n",
            "電子零組件 0.009326752699145215\n",
            "農業科技業 0.009307017541005425\n",
            "貿易百貨 0.00929126465014585\n",
            "建材營造 0.009274853331527446\n",
            "生技醫療 0.009273825308530636\n",
            "電子零組件 0.009253480599217745\n",
            "通信網路 0.009245270919412673\n",
            "金融 0.009245170187232818\n",
            "建材營造 0.009224348171600512\n",
            "通信網路 0.009188891796170783\n",
            "紡織纖維 0.009174888649292478\n",
            "建材營造 0.009171319083419654\n",
            "通信網路 0.009149525191119544\n",
            "電子商務 0.009136782513638982\n",
            "其他 0.00912942388311349\n",
            "文化創意 0.009125225089492655\n",
            "其他電子 0.009042914689950084\n",
            "電子零組件 0.00903826549113986\n",
            "電機機械 0.009033683334854584\n",
            "電機機械 0.009013495651553256\n",
            "電子零組件 0.008999460623648288\n",
            "鋼鐵 0.00899179098784344\n",
            "鋼鐵 0.008988907545319821\n",
            "電腦及週邊設備 0.008983584159907026\n",
            "其他 0.00886542385424064\n",
            "建材營造 0.008850517229567128\n",
            "其他電子 0.0088226328617742\n",
            "電子零組件 0.008783252165266419\n",
            "汽車 0.008782671246564204\n",
            "電子通路 0.008765906374194775\n",
            "電子零組件 0.008765468441693944\n",
            "汽車 0.0087124713020589\n",
            "其他電子 0.008708140537793119\n",
            "其他 0.008708043509390638\n",
            "生技醫療 0.008693634689680447\n",
            "電子零組件 0.008679624102925625\n",
            "電腦及週邊設備 0.00865365622189624\n",
            "鋼鐵 0.008623539401478447\n",
            "電腦及週邊設備 0.008605411409939184\n",
            "生技醫療 0.008573024652159918\n",
            "其他電子 0.008565054787222874\n",
            "其他 0.008553345121462533\n",
            "通信網路 0.008552366986780474\n",
            "其他 0.008535016615435514\n",
            "資訊服務 0.008529630821528682\n",
            "電子通路 0.008527028471160613\n",
            "生技醫療 0.0085115657384578\n",
            "生技醫療 0.008493383205187586\n",
            "通信網路 0.008491557133380512\n",
            "電腦及週邊設備 0.008458622301271049\n",
            "油電燃氣 0.008419143077696119\n",
            "其他 0.00838813566209593\n",
            "建材營造 0.008326071843038841\n",
            "貿易百貨 0.008311838697381838\n",
            "電子零組件 0.00828621500195545\n",
            "貿易百貨 0.008227480960961566\n",
            "電腦及週邊設備 0.00821933698069731\n",
            "生技醫療 0.008160121340352954\n",
            "文化創意 0.00815162079122512\n",
            "存託憑證 0.008149620937534852\n",
            "生技醫療 0.008112976722173816\n",
            "化工 0.008079114760517411\n",
            "電腦及週邊設備 0.008056554766745393\n",
            "紡織纖維 0.008021581042776244\n",
            "資訊服務 0.008020191217597878\n",
            "貿易百貨 0.007956268657176243\n",
            "電子零組件 0.007908396548979657\n",
            "電機機械 0.007878005300337144\n",
            "電機機械 0.00786380934964147\n",
            "電腦及週邊設備 0.007852103368961824\n",
            "電子零組件 0.00784288689781175\n",
            "電子通路 0.007804077954413287\n",
            "電機機械 0.007784760030525729\n",
            "紡織纖維 0.007767562984751493\n",
            "存託憑證 0.007761621674950577\n",
            "其他電子 0.007711946558690193\n",
            "觀光 0.0077054400091456235\n",
            "建材營造 0.007704946774886093\n",
            "生技醫療 0.007692422294102188\n",
            "其他電子 0.007688076357263115\n",
            "資訊服務 0.007632142861819311\n",
            "電子零組件 0.007630341896978037\n",
            "電子零組件 0.007616362823724617\n",
            "食品 0.007585195556300114\n",
            "電子零組件 0.007548430956280287\n",
            "電子零組件 0.007520239901344694\n",
            "觀光 0.0075134446765597355\n",
            "化工 0.007486977238652639\n",
            "其他電子 0.0074806865458769065\n",
            "觀光 0.007478377561032525\n",
            "其他電子 0.007391518685903053\n",
            "電腦及週邊設備 0.00737793456667108\n",
            "通信網路 0.0073750628979546515\n",
            "資訊服務 0.007361442105808746\n",
            "電子零組件 0.007356249058310603\n",
            "通信網路 0.007328489191244915\n",
            "電子商務 0.007317699026060005\n",
            "鋼鐵 0.0072764954613033835\n",
            "汽車 0.007242262384943873\n",
            "資訊服務 0.007203771929058654\n",
            "生技醫療 0.007196222164969919\n",
            "電子零組件 0.0071553980003355964\n",
            "汽車 0.007132734148274408\n",
            "通信網路 0.007108143434916388\n",
            "其他電子 0.007086168779822377\n",
            "生技醫療 0.007065765182144875\n",
            "航運業 0.007008212849468788\n",
            "通信網路 0.006990868440349792\n",
            "建材營造 0.006972671045530941\n",
            "通信網路 0.006959687344683298\n",
            "電子商務 0.006938613580583742\n",
            "資訊服務 0.006933946824918014\n",
            "其他電子 0.006930662751813808\n",
            "造紙 0.0069103155473812065\n",
            "資訊服務 0.006890814498133427\n",
            "通信網路 0.006810201485715581\n",
            "鋼鐵 0.006805007487412138\n",
            "其他 0.006801068221930659\n",
            "化工 0.006782871470949437\n",
            "生技醫療 0.0067784089734258205\n",
            "電機機械 0.006743339452102744\n",
            "電腦及週邊設備 0.006743036563727219\n",
            "汽車 0.006735232306782415\n",
            "貿易百貨 0.006706412549404378\n",
            "貿易百貨 0.006690146535176028\n",
            "通信網路 0.006641677595703015\n",
            "生技醫療 0.0066340044752244125\n",
            "電子零組件 0.0066229874413452775\n",
            "其他 0.006583220281859691\n",
            "電機機械 0.0065581639470734445\n",
            "電子零組件 0.0065565702314531885\n",
            "電子零組件 0.006552226079644671\n",
            "電子通路 0.006533302184550359\n",
            "食品 0.006532047805684739\n",
            "觀光 0.006483128782168667\n",
            "生技醫療 0.006421472803064381\n",
            "資訊服務 0.00639801889274835\n",
            "電子零組件 0.0063512385404215135\n",
            "金融 0.00632954040199841\n",
            "觀光 0.00627087975032611\n",
            "電子零組件 0.006262292575609462\n",
            "電腦及週邊設備 0.006239787923014106\n",
            "生技醫療 0.006223504797954105\n",
            "電腦及週邊設備 0.006190078991833087\n",
            "電子零組件 0.006184598181914733\n",
            "電子零組件 0.006181905508265008\n",
            "電子零組件 0.0061649726443438555\n",
            "電機機械 0.006157638636123796\n",
            "其他電子 0.006151041672219484\n",
            "其他 0.006150850077404479\n",
            "食品 0.0061330998269806215\n",
            "生技醫療 0.006126243237061867\n",
            "食品 0.0060997941975204535\n",
            "其他 0.0060993428419884735\n",
            "其他 0.006094415270621579\n",
            "其他 0.00609326901328433\n",
            "化工 0.006077279718771376\n",
            "鋼鐵 0.006067932500151561\n",
            "建材營造 0.00606209536157014\n",
            "貿易百貨 0.0060612556505630424\n",
            "紡織纖維 0.005996234966662576\n",
            "文化創意 0.005995095020134523\n",
            "通信網路 0.005993571323286912\n",
            "電子零組件 0.005985552932542693\n",
            "汽車 0.0059659284774616125\n",
            "電子零組件 0.005950024557752331\n",
            "其他 0.005946566714825408\n",
            "其他 0.005946378281289209\n",
            "其他 0.0059463208408501835\n",
            "文化創意 0.005921959754924966\n",
            "其他 0.0059158156435479125\n",
            "電子通路 0.005899303725988991\n",
            "生技醫療 0.005879462548910486\n",
            "文化創意 0.005878945428839913\n",
            "生技醫療 0.0058645517722830665\n",
            "其他電子 0.005862724460223654\n",
            "電子零組件 0.005861685300621783\n",
            "通信網路 0.005851562170295359\n",
            "食品 0.005824458030000915\n",
            "生技醫療 0.0058172127878388345\n",
            "電子零組件 0.0058090208497251815\n",
            "其他 0.005803369614060637\n",
            "電子商務 0.005757440094322634\n",
            "電子通路 0.005750909864685716\n",
            "資訊服務 0.005728023488450444\n",
            "電子通路 0.005722877035727245\n",
            "電腦及週邊設備 0.005713402528609567\n",
            "紡織纖維 0.005710288278913322\n",
            "生技醫療 0.005682703027392292\n",
            "通信網路 0.0056712652301261594\n",
            "文化創意 0.0056675385593432815\n",
            "資訊服務 0.005658427789575543\n",
            "資訊服務 0.005646228478943877\n",
            "電腦及週邊設備 0.005634029159384716\n",
            "觀光 0.005619032439612598\n",
            "觀光 0.005591039206467048\n",
            "其他 0.005590075596353919\n",
            "電子零組件 0.005540651874465542\n",
            "電子零組件 0.005536734185762909\n",
            "電機機械 0.00553421322489929\n",
            "電子通路 0.005534105699425033\n",
            "電腦及週邊設備 0.00550842205214231\n",
            "電腦及週邊設備 0.005489830377580125\n",
            "生技醫療 0.005487400518415946\n",
            "電子零組件 0.005439667261309728\n",
            "觀光 0.005434583622522825\n",
            "汽車 0.00542423519976166\n",
            "通信網路 0.005417728957791537\n",
            "電子零組件 0.005409030941552586\n",
            "其他電子 0.005405234082475926\n",
            "電子商務 0.005389733359010864\n",
            "紡織纖維 0.005357312998442951\n",
            "電子零組件 0.00535470832732301\n",
            "文化創意 0.005338042741020767\n",
            "通信網路 0.0053083620104386175\n",
            "電子零組件 0.005299430443832544\n",
            "電子零組件 0.005246410508240714\n",
            "其他電子 0.005240932513729029\n",
            "電子零組件 0.0052355733317462965\n",
            "生技醫療 0.005233350210518913\n",
            "電機機械 0.005217948526090773\n",
            "電子通路 0.005201848498331059\n",
            "電腦及週邊設備 0.005155394643873552\n",
            "電子零組件 0.005148194859475124\n",
            "電機機械 0.005142768664584682\n",
            "生技醫療 0.005137582189245437\n",
            "其他電子 0.0051363040710346265\n",
            "汽車 0.005124046019358337\n",
            "生技醫療 0.005119911609790364\n",
            "電子零組件 0.005092023391881493\n",
            "生技醫療 0.005089968188248041\n",
            "建材營造 0.005080036965180229\n",
            "紡織纖維 0.005078703076382591\n",
            "其他 0.005067119906567583\n",
            "電子零組件 0.004991662542658951\n",
            "化工 0.0049819768448724\n",
            "電子零組件 0.004941701022077975\n",
            "其他電子 0.0049264290743816054\n",
            "電機機械 0.0049172891040338285\n",
            "電腦及週邊設備 0.004908097446292158\n",
            "鋼鐵 0.004896761299007805\n",
            "汽車 0.004872886372778029\n",
            "建材營造 0.00486411182441203\n",
            "建材營造 0.004861681817778912\n",
            "通信網路 0.00484693856749961\n",
            "其他 0.00483751365660293\n",
            "電子通路 0.004823370667835717\n",
            "電機機械 0.004822113186906133\n",
            "其他電子 0.00481507060388241\n",
            "貿易百貨 0.004795079144777013\n",
            "電器電纜 0.00474724743889798\n",
            "電子零組件 0.004712163246881283\n",
            "通信網路 0.004711700423260344\n",
            "資訊服務 0.0047063547492827516\n",
            "橡膠 0.0046555082358110495\n",
            "電機機械 0.004614534183101726\n",
            "汽車 0.004610556831467747\n",
            "橡膠 0.00456247248156705\n",
            "汽車 0.004554580325239916\n",
            "電子零組件 0.004539216593505304\n",
            "生技醫療 0.004521061838739987\n",
            "化工 0.004517414268644922\n",
            "化工 0.0045135499381064315\n",
            "其他電子 0.004505827059080883\n",
            "其他 0.0044889184921149084\n",
            "鋼鐵 0.004442495871108304\n",
            "資訊服務 0.004417527292172113\n",
            "電腦及週邊設備 0.0044065847834547185\n",
            "電腦及週邊設備 0.004350529113521458\n",
            "通信網路 0.004311110016854952\n",
            "建材營造 0.004308101684227153\n",
            "通信網路 0.004267319720377806\n",
            "其他電子 0.004215372286631823\n",
            "生技醫療 0.0041974873589528455\n",
            "電機機械 0.004187685454423673\n",
            "油電燃氣 0.004114750832447321\n",
            "電機機械 0.004105209228910018\n",
            "建材營造 0.00408067292273994\n",
            "建材營造 0.0040634879763474215\n",
            "生技醫療 0.004059552424310521\n",
            "電腦及週邊設備 0.004058373392171843\n",
            "其他 0.004049668329119148\n",
            "農業科技業 0.004032984911488596\n",
            "塑膠 0.004020329120812694\n",
            "鋼鐵 0.004019371985663131\n",
            "通信網路 0.00398139376517149\n",
            "生技醫療 0.003972359351965687\n",
            "其他電子 0.003949373042149917\n",
            "其他電子 0.003910473825258777\n",
            "汽車 0.0038954833400748896\n",
            "生技醫療 0.003880965149606089\n",
            "其他 0.0038802913175260564\n",
            "電子零組件 0.0038567859499918063\n",
            "化工 0.0038532149959025386\n",
            "電腦及週邊設備 0.0038413653353191555\n",
            "電機機械 0.0038373532246754887\n",
            "電腦及週邊設備 0.0038091987622411814\n",
            "建材營造 0.003788497058790459\n",
            "觀光 0.003778829426369924\n",
            "紡織纖維 0.0037516348587610534\n",
            "電機機械 0.0037398580368888596\n",
            "其他電子 0.0037369884450502515\n",
            "生技醫療 0.0037248952957547364\n",
            "電機機械 0.003686606726462321\n",
            "通信網路 0.0036834428681426353\n",
            "化工 0.0036341385671883096\n",
            "汽車 0.0035998938402207817\n",
            "文化創意 0.00359376123994793\n",
            "化工 0.0035812905205456712\n",
            "貿易百貨 0.0035749740695340385\n",
            "其他 0.003574455960339537\n",
            "電子零組件 0.0035596563879199353\n",
            "觀光 0.003528969310778716\n",
            "電子通路 0.0035252867000696996\n",
            "電機機械 0.0035182655287781554\n",
            "電腦及週邊設備 0.003511371881318954\n",
            "生技醫療 0.003490923947250789\n",
            "汽車 0.0034582033457230183\n",
            "貿易百貨 0.003441176753155811\n",
            "電機機械 0.003426393584474977\n",
            "其他 0.0033725721938309646\n",
            "生技醫療 0.003359642983299791\n",
            "其他 0.0033584479191802324\n",
            "紡織纖維 0.0033317310289387504\n",
            "其他電子 0.0033270434404028383\n",
            "其他電子 0.003309436093552211\n",
            "生技醫療 0.0032950789245986697\n",
            "其他 0.0032817103437087947\n",
            "電機機械 0.0032795592931611434\n",
            "電子零組件 0.003245842472528633\n",
            "文化創意 0.0032331484012630167\n",
            "生技醫療 0.003229393806958194\n",
            "鋼鐵 0.0032166933334765208\n",
            "電機機械 0.0032128307728476434\n",
            "電子零組件 0.003174140457429013\n",
            "電子零組件 0.0031727711644043465\n",
            "鋼鐵 0.0031639792389031598\n",
            "鋼鐵 0.0031552266473269916\n",
            "建材營造 0.003140069142720744\n",
            "其他電子 0.003113896099060265\n",
            "其他電子 0.003108787388480616\n",
            "紡織纖維 0.0030978055630445376\n",
            "電子零組件 0.0030960360972436016\n",
            "建材營造 0.0030814525207521998\n",
            "汽車 0.0030255946422309476\n",
            "生技醫療 0.003022729893707546\n",
            "紡織纖維 0.0030182249832907495\n",
            "化工 0.0030137620766784333\n",
            "電子通路 0.003004043150946537\n",
            "電機機械 0.003000904498713645\n",
            "電子零組件 0.002998318667283114\n",
            "食品 0.002923955163180439\n",
            "航運業 0.0029056785739640634\n",
            "化工 0.002897451658499971\n",
            "通信網路 0.002893609882581298\n",
            "塑膠 0.0028832876576761965\n",
            "農業科技業 0.0028831410384025317\n",
            "生技醫療 0.002872799408768742\n",
            "電子零組件 0.002854237538641736\n",
            "電子零組件 0.00285213744675207\n",
            "其他電子 0.0028482862815251107\n",
            "紡織纖維 0.002835310422169945\n",
            "電器電纜 0.002823060093550039\n",
            "觀光 0.0028135104191630935\n",
            "電子零組件 0.0028019658742009434\n",
            "油電燃氣 0.002800671742479987\n",
            "其他電子 0.0027792519289016144\n",
            "化工 0.0027636550753853757\n",
            "電腦及週邊設備 0.002747046682982631\n",
            "其他 0.0027383101330324313\n",
            "電腦及週邊設備 0.0027338317536918662\n",
            "化工 0.002693842021560082\n",
            "鋼鐵 0.002676907449903047\n",
            "其他 0.0026634921067985643\n",
            "資訊服務 0.0026582297920842123\n",
            "電子零組件 0.0026447422805351787\n",
            "電腦及週邊設備 0.002606841616147132\n",
            "觀光 0.00260489702857177\n",
            "電子商務 0.0025884104749814164\n",
            "油電燃氣 0.002586343044371992\n",
            "通信網路 0.002579501333251882\n",
            "其他 0.002566120256869064\n",
            "生技醫療 0.00255777252018059\n",
            "紡織纖維 0.0025543699925410484\n",
            "電腦及週邊設備 0.002547308612393359\n",
            "紡織纖維 0.0025471976494184116\n",
            "生技醫療 0.002508374761561654\n",
            "資訊服務 0.002505704233706798\n",
            "其他 0.0025046614901644317\n",
            "通信網路 0.0024995356439147924\n",
            "電子零組件 0.002496709044902459\n",
            "鋼鐵 0.0024898592038051877\n",
            "建材營造 0.002489080235274867\n",
            "生技醫療 0.002477840905801153\n",
            "電機機械 0.0024743674541565113\n",
            "建材營造 0.0024516069021207326\n",
            "生技醫療 0.0024399807437512763\n",
            "生技醫療 0.0024307821190290534\n",
            "文化創意 0.0023968109505703985\n",
            "資訊服務 0.002360759928235074\n",
            "電機機械 0.0023575327283272\n",
            "生技醫療 0.002349520679362074\n",
            "電子零組件 0.002347169757570396\n",
            "化工 0.0023445401829454886\n",
            "紡織纖維 0.002330479791392009\n",
            "生技醫療 0.002326751659377805\n",
            "化工 0.002302084314410987\n",
            "通信網路 0.002300748157939828\n",
            "電子零組件 0.002297582136108331\n",
            "電子零組件 0.0022597557498151423\n",
            "觀光 0.0022597183957762104\n",
            "電機機械 0.0022471268100641623\n",
            "電子零組件 0.002236512421673731\n",
            "電器電纜 0.002217507631799444\n",
            "電子零組件 0.002185980060239995\n",
            "通信網路 0.002172851679470771\n",
            "玻璃陶瓷 0.0021608662785945303\n",
            "電機機械 0.0021554317048507426\n",
            "水泥 0.0021510320579263384\n",
            "塑膠 0.0021497123001744715\n",
            "汽車 0.0021478416251704126\n",
            "電子零組件 0.0021462744321351563\n",
            "通信網路 0.0021415601988610377\n",
            "電子零組件 0.0021181002793276248\n",
            "電子零組件 0.002088705221275281\n",
            "電子零組件 0.002082170889379956\n",
            "電子零組件 0.0020431744029979033\n",
            "電子零組件 0.002036143702802846\n",
            "建材營造 0.002030657758427303\n",
            "其他電子 0.00202566375709293\n",
            "貿易百貨 0.0020176911812675854\n",
            "其他電子 0.002002924168713165\n",
            "電機機械 0.0019949756123742272\n",
            "電機機械 0.0019765841160395824\n",
            "電器電纜 0.001976207833566759\n",
            "資訊服務 0.0019665299935583743\n",
            "生技醫療 0.0019604907605706174\n",
            "電子通路 0.001947076046094942\n",
            "電子通路 0.001942640605936866\n",
            "觀光 0.0019164267750960578\n",
            "其他 0.0019042009756968026\n",
            "其他電子 0.0018862919794399482\n",
            "紡織纖維 0.0018838612172070563\n",
            "其他 0.0018756378749815907\n",
            "食品 0.001872335101041019\n",
            "鋼鐵 0.0018613232830708261\n",
            "通信網路 0.0018546700301125885\n",
            "其他電子 0.001846040280015103\n",
            "食品 0.0018376585294600963\n",
            "其他 0.0018155135105388572\n",
            "建材營造 0.001810113952301459\n",
            "汽車 0.0017945212696402956\n",
            "建材營造 0.0017813459950272103\n",
            "電子零組件 0.001768281683808098\n",
            "生技醫療 0.001710422016346591\n",
            "汽車 0.001700326855141212\n",
            "文化創意 0.0016984280787568265\n",
            "紡織纖維 0.0016939708124067035\n",
            "生技醫療 0.0016911923489228132\n",
            "其他 0.0016807253247894806\n",
            "生技醫療 0.0016668866579293798\n",
            "生技醫療 0.0016392390973648178\n",
            "其他電子 0.0016386614519088615\n",
            "觀光 0.0015936507855325297\n",
            "資訊服務 0.0015863043046385728\n",
            "電腦及週邊設備 0.0015842198920175844\n",
            "觀光 0.0015692532474115477\n",
            "觀光 0.0015542397277525052\n",
            "電腦及週邊設備 0.001532990698289863\n",
            "建材營造 0.00153240186252578\n",
            "汽車 0.0015222399471091592\n",
            "電子零組件 0.0014995089422751343\n",
            "電子零組件 0.0014937122888536978\n",
            "貿易百貨 0.0014692813696982835\n",
            "貿易百貨 0.0014583294471393012\n",
            "其他 0.001452207183773129\n",
            "文化創意 0.0014409891969504472\n",
            "其他 0.0014184361607390429\n",
            "電器電纜 0.0014075582782630343\n",
            "化工 0.0014057269694254186\n",
            "生技醫療 0.001387023235631081\n",
            "建材營造 0.001366558569202241\n",
            "存託憑證 0.0013624167042046468\n",
            "電子零組件 0.0013529988715232808\n",
            "食品 0.0013506900775369754\n",
            "電子零組件 0.0013326333877326042\n",
            "通信網路 0.0013250880715420673\n",
            "貿易百貨 0.0012927918500299448\n",
            "電子零組件 0.00129247575297317\n",
            "其他 0.0012822099374177425\n",
            "電子零組件 0.001280423073786617\n",
            "鋼鐵 0.0012752681290286497\n",
            "建材營造 0.001263356405121325\n",
            "汽車 0.0012532208220870195\n",
            "食品 0.001237772190315919\n",
            "其他 0.0012331849175684906\n",
            "電機機械 0.0012287162877636744\n",
            "電子零組件 0.0012034547117419432\n",
            "電子零組件 0.0011949580975096927\n",
            "電機機械 0.0011896891691920556\n",
            "生技醫療 0.0011838028135871092\n",
            "電器電纜 0.0011778424484791357\n",
            "其他 0.0011531856138599689\n",
            "電腦及週邊設備 0.001148417475245687\n",
            "生技醫療 0.0011375772805905934\n",
            "生技醫療 0.0011233218259047045\n",
            "建材營造 0.0011000257708003015\n",
            "電機機械 0.0010977860576328285\n",
            "文化創意 0.0010763680114697647\n",
            "生技醫療 0.0010702291753619463\n",
            "通信網路 0.0010663330649139761\n",
            "其他 0.001009137664935281\n",
            "電子通路 0.0010019863282033571\n",
            "其他 0.0010009128132161776\n",
            "紡織纖維 0.0009879126009161262\n",
            "電機機械 0.0009822247883192149\n",
            "電子零組件 0.0009707826765606706\n",
            "通信網路 0.0009624474783776202\n",
            "生技醫療 0.0009575169721583688\n",
            "電腦及週邊設備 0.0009559473807829496\n",
            "其他 0.0009555248947984923\n",
            "其他電子 0.0009520304404010423\n",
            "生技醫療 0.0009435709687605407\n",
            "通信網路 0.0009369022583130864\n",
            "電腦及週邊設備 0.000929995844047797\n",
            "建材營造 0.0009202740784406339\n",
            "塑膠 0.000916114585068534\n",
            "紡織纖維 0.0009129174059320492\n",
            "其他電子 0.000867335072909771\n",
            "存託憑證 0.0008545206577445961\n",
            "資訊服務 0.000850157968515387\n",
            "電子零組件 0.0008493006274164907\n",
            "其他電子 0.0008379458427084632\n",
            "化工 0.0008364142792023554\n",
            "通信網路 0.0008344184658776456\n",
            "電子零組件 0.0007887808960112907\n",
            "電機機械 0.0007674294237450389\n",
            "生技醫療 0.0007210802123032133\n",
            "鋼鐵 0.0007206121445670636\n",
            "資訊服務 0.0007095539397993834\n",
            "電機機械 0.0007095539397993834\n",
            "鋼鐵 0.0006972213360109012\n",
            "其他 0.0006942089642595832\n",
            "紡織纖維 0.0006880962889380041\n",
            "其他 0.0006726594332089822\n",
            "航運業 0.0006580017433719156\n",
            "電機機械 0.0006563902716607828\n",
            "生技醫療 0.0006559825524635829\n",
            "電子零組件 0.0006349737420691835\n",
            "玻璃陶瓷 0.0006223237507683205\n",
            "生技醫療 0.0006166462590799417\n",
            "其他電子 0.0006072539364477941\n",
            "電腦及週邊設備 0.0006053436421943223\n",
            "生技醫療 0.0005895415871155627\n",
            "金融 0.0005873807900253398\n",
            "紡織纖維 0.0005687254459802915\n",
            "貿易百貨 0.0005594233108181133\n",
            "電子零組件 0.0005372673798640145\n",
            "其他 0.0005219337707009149\n",
            "觀光 0.0005160889090841846\n",
            "金融 0.0004999603270455714\n",
            "觀光 0.00044745304405050424\n",
            "貿易百貨 0.00044290450408392986\n",
            "其他 0.000439810342121484\n",
            "文化創意 0.00043480646053282383\n",
            "紡織纖維 0.00040958060647211997\n",
            "航運業 0.00036029483493107614\n",
            "其他電子 0.0003568097508812365\n",
            "航運業 0.0003511620496110752\n",
            "觀光 0.00034525163693616145\n",
            "建材營造 0.000307916355147512\n",
            "其他 0.00029054114966189275\n",
            "電腦及週邊設備 0.00027694280854469053\n",
            "生技醫療 0.00027417696952874234\n",
            "農業科技業 0.00027353568126824493\n",
            "觀光 0.00023828985077906884\n",
            "文化創意 0.00022607426976015198\n",
            "生技醫療 0.0001990279802318951\n",
            "通信網路 0.00019140846193097514\n",
            "電腦及週邊設備 0.00017875474343806633\n",
            "紡織纖維 0.00017116390982936254\n",
            "電機機械 0.00016683943346138046\n",
            "電子零組件 0.00014196474481233354\n",
            "生技醫療 0.00013281817648435568\n",
            "電子零組件 0.000130213261848372\n",
            "貿易百貨 9.074912984076253e-05\n",
            "電子零組件 2.4029602852564005e-05\n"
          ],
          "name": "stdout"
        },
        {
          "output_type": "display_data",
          "data": {
            "image/png": "[encoded data removed]",
            "text/plain": [
              "<Figure size 432x288 with 1 Axes>"
            ]
          },
          "metadata": {
            "tags": [],
            "needs_background": "light"
          }
        }
      ]
    },
    {
      "cell_type": "code",
      "metadata": {
        "id": "RLxmqRJ0v6yb",
        "outputId": "2b4b552c-58da-4e06-b016-74383aca0295",
        "colab": {
          "base_uri": "https://localhost:8080/",
          "height": 639
        }
      },
      "source": [
        "y = []\n",
        "for idx ,data in enumerate(data_dummy):\n",
        "  if data[0] == \"塑膠\":\n",
        "    y.append(idx)\n",
        "plt.hist(y, bins = 100)"
      ],
      "execution_count": null,
      "outputs": [
        {
          "output_type": "execute_result",
          "data": {
            "text/plain": [
              "(array([1., 3., 5., 1., 1., 0., 0., 0., 0., 0., 0., 1., 0., 0., 0., 0., 0.,\n",
              "        1., 0., 0., 0., 0., 0., 0., 0., 0., 0., 0., 0., 0., 0., 0., 0., 0.,\n",
              "        0., 0., 0., 0., 0., 1., 0., 0., 0., 0., 0., 1., 1., 0., 0., 0., 0.,\n",
              "        1., 0., 0., 0., 0., 0., 0., 0., 0., 0., 0., 0., 0., 0., 0., 0., 0.,\n",
              "        0., 0., 0., 0., 0., 0., 0., 0., 0., 0., 0., 1., 0., 0., 0., 0., 0.,\n",
              "        1., 0., 0., 0., 0., 0., 1., 0., 0., 0., 0., 0., 0., 0., 1.]),\n",
              " array([   0.  ,   13.89,   27.78,   41.67,   55.56,   69.45,   83.34,\n",
              "          97.23,  111.12,  125.01,  138.9 ,  152.79,  166.68,  180.57,\n",
              "         194.46,  208.35,  222.24,  236.13,  250.02,  263.91,  277.8 ,\n",
              "         291.69,  305.58,  319.47,  333.36,  347.25,  361.14,  375.03,\n",
              "         388.92,  402.81,  416.7 ,  430.59,  444.48,  458.37,  472.26,\n",
              "         486.15,  500.04,  513.93,  527.82,  541.71,  555.6 ,  569.49,\n",
              "         583.38,  597.27,  611.16,  625.05,  638.94,  652.83,  666.72,\n",
              "         680.61,  694.5 ,  708.39,  722.28,  736.17,  750.06,  763.95,\n",
              "         777.84,  791.73,  805.62,  819.51,  833.4 ,  847.29,  861.18,\n",
              "         875.07,  888.96,  902.85,  916.74,  930.63,  944.52,  958.41,\n",
              "         972.3 ,  986.19, 1000.08, 1013.97, 1027.86, 1041.75, 1055.64,\n",
              "        1069.53, 1083.42, 1097.31, 1111.2 , 1125.09, 1138.98, 1152.87,\n",
              "        1166.76, 1180.65, 1194.54, 1208.43, 1222.32, 1236.21, 1250.1 ,\n",
              "        1263.99, 1277.88, 1291.77, 1305.66, 1319.55, 1333.44, 1347.33,\n",
              "        1361.22, 1375.11, 1389.  ]),\n",
              " <a list of 100 Patch objects>)"
            ]
          },
          "metadata": {
            "tags": []
          },
          "execution_count": 285
        },
        {
          "output_type": "display_data",
          "data": {
            "image/png": "[encoded data removed]",
            "text/plain": [
              "<Figure size 432x288 with 1 Axes>"
            ]
          },
          "metadata": {
            "tags": [],
            "needs_background": "light"
          }
        }
      ]
    },
    {
      "cell_type": "code",
      "metadata": {
        "id": "xCmHgG8PdiUP",
        "outputId": "bf760f88-6a6d-4ea9-eaec-7b2933e60043",
        "colab": {
          "base_uri": "https://localhost:8080/",
          "height": 598
        }
      },
      "source": [
        "for key ,value in stockIdex_cate.items():\n",
        "  print(key ,value)"
      ],
      "execution_count": null,
      "outputs": [
        {
          "output_type": "stream",
          "text": [
            "水泥 [1715, 0, 1, 2, 3, 4, 5]\n",
            "食品 [6, 7, 8, 9, 10, 11, 12, 13, 14, 15, 16, 17, 18, 19, 20, 21, 22, 23, 24, 26, 170, 196, 27, 29, 212, 913, 914, 981]\n",
            "塑膠 [31, 32, 33, 34, 35, 36, 37, 38, 39, 40, 41, 42, 45, 46, 47, 48, 49, 51, 54, 55, 918, 915, 916, 917, 1585, 1709]\n",
            "紡織纖維 [56, 57, 58, 59, 60, 62, 63, 64, 65, 67, 72, 73, 74, 76, 77, 78, 79, 80, 81, 82, 83, 84, 85, 86, 87, 88, 89, 90, 91, 92, 93, 94, 95, 96, 97, 99, 100, 101, 102, 103, 104, 927, 932, 933, 919, 920, 921, 922, 924, 925, 926, 928, 930, 931]\n",
            "電機機械 [105, 106, 107, 108, 110, 111, 112, 114, 115, 120, 121, 122, 123, 124, 125, 126, 128, 130, 131, 132, 133, 134, 135, 136, 143, 147, 148, 255, 337, 648, 940, 945, 951, 959, 961, 964, 966, 968, 969, 971, 972, 973, 1100, 1569, 1588, 1664, 140, 141, 145, 149, 153, 155, 262, 263, 265, 285, 288, 645, 652, 668, 724, 734, 934, 935, 936, 937, 938, 939, 941, 942, 944, 946, 947, 948, 950, 954, 956, 957, 965, 967, 970, 974, 1232, 1384, 1461, 1463, 1502, 1533, 1549, 1573, 1710]\n",
            "電器電纜 [156, 157, 158, 159, 160, 161, 162, 163, 164, 165, 166, 167, 168, 1025, 1096, 257, 976]\n",
            "化工 [172, 173, 174, 175, 176, 177, 178, 179, 180, 182, 183, 184, 185, 186, 187, 188, 189, 191, 194, 201, 202, 858, 984, 986, 987, 994, 1002, 1004, 1005, 1006, 197, 977, 978, 979, 980, 982, 983, 985, 995, 1001, 1007, 1417, 1419]\n",
            "生技醫療 [154, 169, 171, 181, 190, 192, 193, 195, 199, 200, 205, 208, 210, 211, 647, 855, 863, 865, 867, 873, 883, 884, 887, 888, 889, 891, 895, 901, 910, 993, 999, 1410, 1433, 1479, 137, 151, 198, 203, 204, 206, 209, 213, 220, 635, 651, 657, 664, 862, 864, 866, 868, 869, 871, 872, 874, 875, 876, 877, 878, 879, 880, 881, 882, 885, 886, 890, 892, 893, 894, 896, 897, 898, 899, 900, 902, 903, 905, 906, 907, 908, 909, 911, 912, 988, 989, 991, 992, 996, 997, 998, 1000, 1018, 1111, 1240, 1337, 1393, 1398, 1402, 1404, 1411, 1413, 1414, 1424, 1426, 1431, 1435, 1443, 1446, 1447, 1454, 1464, 1466, 1475, 1478, 1577, 1592, 1594, 1595, 1610, 1613]\n",
            "玻璃陶瓷 [214, 216, 218, 219, 222]\n",
            "造紙 [223, 224, 225, 226, 227, 228]\n",
            "鋼鐵 [229, 230, 231, 232, 233, 234, 235, 236, 237, 238, 239, 240, 241, 242, 243, 244, 245, 246, 247, 248, 249, 250, 251, 252, 254, 264, 564, 1059, 1184, 1712, 253, 259, 260, 261, 1060, 1061, 1062, 1063, 1064, 1065, 1343, 1584, 1598, 1652, 1714]\n",
            "橡膠 [266, 267, 268, 269, 270, 271, 272, 273, 274, 275, 1452, 1066]\n",
            "汽車 [44, 52, 53, 109, 116, 117, 118, 119, 127, 129, 138, 146, 150, 276, 277, 278, 279, 280, 283, 284, 286, 287, 289, 290, 291, 429, 714, 958, 963, 975, 1367, 1462]\n",
            "半導體 [293, 294, 307, 308, 311, 312, 314, 315, 320, 331, 336, 343, 349, 356, 361, 381, 382, 386, 391, 393, 395, 399, 416, 566, 571, 573, 590, 591, 596, 608, 630, 654, 678, 731, 740, 774, 776, 779, 784, 802, 804, 830, 844, 861, 1022, 1037, 1042, 1044, 1045, 1090, 1098, 1107, 1153, 1300, 1334, 1338, 1345, 1354, 1379, 1395, 1425, 1428, 1430, 1437, 1445, 1499, 1503, 1532, 1551, 1556, 1558, 1574, 1575, 632, 636, 640, 649, 665, 669, 670, 680, 681, 682, 684, 705, 720, 722, 738, 771, 773, 790, 791, 796, 801, 838, 840, 857, 1043, 1046, 1048, 1055, 1091, 1092, 1103, 1105, 1112, 1118, 1120, 1123, 1137, 1151, 1158, 1160, 1218, 1219, 1239, 1245, 1253, 1282, 1297, 1320, 1326, 1329, 1333, 1347, 1366, 1370, 1376, 1388, 1397, 1399, 1407, 1409, 1412, 1420, 1429, 1436, 1442, 1459, 1471, 1474, 1487, 1489, 1495, 1501, 1509, 1518, 1536, 1538, 1576, 1581, 679]\n",
            "電腦及週邊設備 [292, 295, 304, 309, 321, 322, 325, 326, 330, 332, 333, 341, 342, 344, 345, 348, 353, 354, 355, 359, 367, 372, 373, 387, 405, 562, 565, 570, 574, 578, 601, 611, 614, 673, 732, 755, 763, 851, 856, 1021, 1030, 1077, 1087, 1089, 1228, 1238, 1268, 1274, 1304, 1327, 1331, 1358, 1378, 1450, 1456, 1482, 1554, 1560, 1566, 1681, 139, 619, 625, 661, 662, 685, 689, 708, 710, 747, 749, 767, 781, 799, 807, 813, 819, 828, 848, 859, 1023, 1026, 1053, 1079, 1101, 1106, 1126, 1131, 1138, 1141, 1150, 1154, 1163, 1231, 1233, 1255, 1263, 1264, 1288, 1325, 1357, 1390, 1444, 1448, 1488, 1517, 1529, 1570, 1596]\n",
            "光電 [303, 313, 339, 352, 360, 362, 374, 383, 390, 406, 421, 423, 424, 567, 576, 580, 587, 594, 604, 605, 606, 613, 643, 716, 726, 730, 737, 743, 748, 759, 778, 783, 794, 798, 805, 816, 835, 837, 850, 1028, 1029, 1032, 1039, 1041, 1050, 1083, 1084, 1159, 1227, 1230, 1241, 1266, 1270, 1278, 1307, 1322, 1323, 1359, 1368, 1374, 1386, 1392, 1396, 1405, 1481, 1493, 1547, 1548, 1568, 617, 637, 672, 696, 713, 718, 736, 739, 744, 752, 764, 769, 775, 814, 817, 822, 834, 843, 847, 990, 1027, 1047, 1057, 1078, 1082, 1085, 1086, 1095, 1113, 1128, 1133, 1139, 1143, 1235, 1269, 1319, 1330, 1339, 1341, 1383, 1438, 1440, 1497, 1516, 1520, 1524, 1537, 1552, 1571, 1034]\n",
            "通信網路 [299, 302, 310, 316, 363, 368, 384, 389, 392, 396, 420, 430, 581, 583, 600, 602, 615, 702, 725, 733, 808, 841, 849, 854, 1012, 1014, 1051, 1132, 1244, 1249, 1257, 1313, 1365, 1380, 1391, 1486, 1498, 1545, 621, 631, 644, 646, 666, 675, 699, 719, 746, 753, 757, 793, 795, 824, 832, 836, 842, 1011, 1013, 1016, 1017, 1052, 1121, 1124, 1221, 1250, 1265, 1272, 1290, 1315, 1336, 1340, 1348, 1381, 1385, 1401, 1403, 1408, 1422, 1427, 1441, 1453, 1506, 1515, 1519, 1543, 1561, 1562]\n",
            "電子零組件 [98, 142, 256, 296, 298, 305, 306, 324, 334, 335, 340, 346, 347, 351, 357, 364, 366, 369, 370, 376, 377, 379, 385, 397, 398, 401, 403, 407, 410, 412, 414, 418, 419, 425, 426, 563, 569, 572, 577, 579, 582, 588, 593, 597, 599, 612, 627, 671, 695, 700, 706, 712, 723, 735, 758, 777, 787, 806, 810, 811, 826, 829, 839, 955, 1019, 1020, 1024, 1033, 1040, 1054, 1058, 1152, 1220, 1226, 1242, 1248, 1258, 1260, 1267, 1291, 1296, 1303, 1310, 1321, 1344, 1352, 1362, 1377, 1394, 1485, 1494, 1508, 1513, 1546, 1567, 1572, 50, 152, 221, 620, 626, 628, 633, 634, 641, 655, 656, 658, 659, 663, 676, 686, 690, 692, 694, 701, 704, 707, 711, 715, 727, 728, 745, 750, 754, 761, 762, 766, 770, 780, 786, 809, 812, 818, 823, 827, 846, 860, 953, 1031, 1049, 1081, 1102, 1109, 1114, 1116, 1117, 1119, 1122, 1125, 1129, 1142, 1147, 1148, 1149, 1155, 1161, 1165, 1225, 1234, 1236, 1237, 1243, 1261, 1262, 1275, 1276, 1277, 1285, 1293, 1301, 1302, 1305, 1306, 1308, 1314, 1317, 1346, 1351, 1355, 1360, 1364, 1369, 1371, 1382, 1387, 1432, 1473, 1507, 1510, 1511, 1526, 1528, 1531, 1539, 1541, 1550, 1555, 1557, 1559, 1563, 1579, 1580, 1586, 300]\n",
            "電子通路 [317, 365, 378, 400, 568, 584, 589, 592, 603, 609, 660, 703, 772, 852, 1140, 1289, 1361, 1525, 1527, 1553, 667, 674, 717, 741, 1224, 1229, 1259, 1324, 1350, 1353, 1504, 1522, 1523, 1534, 1542]\n",
            "資訊服務 [375, 394, 408, 409, 415, 585, 638, 1056, 1069, 1223, 1283, 1311, 642, 797, 1038, 1067, 1068, 1072, 1073, 1074, 1075, 1110, 1135, 1136, 1247, 1254, 1318, 1328, 1335, 1373, 1423, 1455, 1458, 1490, 1491, 1544, 1578, 1599]\n",
            "其他電子 [297, 301, 323, 328, 329, 338, 350, 358, 371, 380, 402, 404, 411, 413, 417, 422, 427, 575, 586, 598, 698, 742, 765, 815, 833, 1080, 1246, 1292, 1295, 1299, 1312, 1363, 1375, 1439, 1492, 1500, 1565, 207, 618, 629, 639, 688, 691, 697, 709, 721, 729, 756, 760, 782, 788, 789, 800, 803, 820, 825, 831, 960, 1003, 1070, 1130, 1145, 1162, 1164, 1183, 1252, 1256, 1287, 1342, 1356, 1389, 1421, 1465, 1476, 1480, 1514, 1535, 1540, 1564, 1589, 1609, 1622, 319]\n",
            "建材營造 [43, 69, 71, 75, 215, 217, 431, 432, 433, 434, 435, 436, 438, 439, 440, 441, 442, 443, 444, 445, 446, 447, 448, 449, 450, 451, 452, 453, 454, 455, 456, 457, 459, 520, 554, 607, 610, 683, 853, 1170, 1172, 1174, 1175, 1177, 1180, 1181, 1182, 1186, 1279, 1676, 1707, 458, 653, 751, 870, 923, 1015, 1071, 1076, 1115, 1146, 1166, 1167, 1168, 1169, 1171, 1173, 1176, 1178, 1185, 1273, 1286, 1309, 1316, 1349, 1605]\n",
            "航運業 [281, 461, 462, 463, 464, 465, 466, 467, 468, 469, 470, 472, 474, 475, 476, 477, 478, 479, 480, 483, 1190, 1191, 1587, 482, 484, 1187, 1188, 1189, 1192]\n",
            "觀光 [485, 486, 487, 488, 489, 490, 491, 494, 495, 498, 500, 504, 508, 1196, 1623, 1661, 1704, 28, 30, 492, 493, 496, 497, 499, 501, 502, 503, 505, 506, 507, 509, 557, 677, 768, 1104, 1127, 1193, 1194, 1195, 1530]\n",
            "金融保險 [510, 511, 512, 513, 514, 515, 516, 517, 518, 519, 521, 522, 523, 524, 525, 526, 527, 528, 529, 530, 531, 532, 533, 534, 535, 536, 537, 538, 539, 540, 541, 1200, 1202, 1209, 1215]\n",
            "貿易百貨 [66, 460, 471, 542, 543, 545, 546, 547, 548, 549, 550, 551, 552, 558, 559, 561, 1010, 1207, 1208, 1608, 1617, 1621, 553, 555, 560, 650, 1203, 1204, 1205, 1206, 1294, 1521, 1611, 1662, 1713]\n",
            "油電燃氣 [473, 1416, 1648, 1678, 1684, 1689, 1694, 1698, 1642, 1644, 1649, 1653]\n",
            "存託憑證 [1665, 1666, 1667, 1668, 1669, 1670, 1671]\n",
            "其他 [61, 68, 70, 113, 258, 318, 327, 388, 428, 437, 544, 595, 792, 949, 1097, 1199, 1284, 1400, 1415, 1451, 1457, 1469, 1472, 1477, 1483, 1484, 1505, 1582, 1593, 1597, 1603, 1607, 1616, 1624, 1625, 1626, 1627, 1629, 1632, 1633, 1634, 1635, 1636, 1638, 1639, 1672, 1673, 1674, 1675, 1677, 1679, 1680, 1682, 1683, 1685, 1686, 1687, 1688, 1690, 1691, 1692, 1693, 1695, 1696, 1697, 1699, 1700, 1701, 1702, 1703, 1705, 1706, 1711, 144, 282, 481, 687, 929, 943, 952, 962, 1036, 1093, 1108, 1134, 1144, 1157, 1179, 1280, 1298, 1332, 1467, 1468, 1470, 1496, 1583, 1590, 1591, 1600, 1601, 1602, 1604, 1606, 1612, 1614, 1615, 1618, 1630, 1640, 1641, 1643, 1645, 1647, 1650, 1651, 1654, 1655, 1656, 1657, 1658, 1659, 1660, 1663]\n",
            "金融 [1197, 1198, 1201, 1210, 1211, 1212, 1213, 1214, 1216]\n",
            "文化創意 [556, 622, 624, 693, 785, 821, 1008, 1009, 1088, 1156, 1217, 1222, 1251, 1271, 1281, 1372, 1406, 1434, 1460, 1619, 1620, 1637, 1646, 1708, 616, 1035]\n",
            "農業科技業 [25, 904, 1418, 1449]\n",
            "電子商務 [623, 845, 1094, 1099, 1512, 1628, 1631]\n"
          ],
          "name": "stdout"
        }
      ]
    },
    {
      "cell_type": "code",
      "metadata": {
        "id": "cJ9SMokuQ0sm",
        "outputId": "41b39ff4-c596-42e2-821c-03bcf7c12b01",
        "colab": {
          "base_uri": "https://localhost:8080/",
          "height": 267
        }
      },
      "source": [
        "group_matrix = group_plot(new_mat , 0 )"
      ],
      "execution_count": null,
      "outputs": [
        {
          "output_type": "display_data",
          "data": {
            "image/png": "[encoded data removed]",
            "text/plain": [
              "<Figure size 432x288 with 1 Axes>"
            ]
          },
          "metadata": {
            "tags": [],
            "needs_background": "light"
          }
        }
      ]
    },
    {
      "cell_type": "code",
      "metadata": {
        "id": "8gIIM2VdQ2br",
        "outputId": "a3d647bc-d8aa-440a-df7b-2a9e4f1985d4",
        "colab": {
          "base_uri": "https://localhost:8080/",
          "height": 267
        }
      },
      "source": [
        "group_matrix = group_plot(new_mat , 1 )"
      ],
      "execution_count": null,
      "outputs": [
        {
          "output_type": "display_data",
          "data": {
            "image/png": "[encoded data removed]",
            "text/plain": [
              "<Figure size 432x288 with 1 Axes>"
            ]
          },
          "metadata": {
            "tags": [],
            "needs_background": "light"
          }
        }
      ]
    },
    {
      "cell_type": "code",
      "metadata": {
        "id": "co100_KaQ4gc",
        "outputId": "963897f5-50bb-4ae0-c48c-68ff8b8c09a7",
        "colab": {
          "base_uri": "https://localhost:8080/",
          "height": 266
        }
      },
      "source": [
        "group_matrix = group_plot(new_mat , 2 )"
      ],
      "execution_count": null,
      "outputs": [
        {
          "output_type": "display_data",
          "data": {
            "image/png": "[encoded data removed]",
            "text/plain": [
              "<Figure size 432x288 with 1 Axes>"
            ]
          },
          "metadata": {
            "tags": [],
            "needs_background": "light"
          }
        }
      ]
    },
    {
      "cell_type": "code",
      "metadata": {
        "id": "6oc8CQKOJfuU",
        "outputId": "94095798-fcd0-4279-a8d1-4ca6398fc5b9",
        "colab": {
          "base_uri": "https://localhost:8080/",
          "height": 266
        }
      },
      "source": [
        "group_matrix = group_plot(new_mat , 3 )"
      ],
      "execution_count": null,
      "outputs": [
        {
          "output_type": "display_data",
          "data": {
            "image/png": "[encoded data removed]",
            "text/plain": [
              "<Figure size 432x288 with 1 Axes>"
            ]
          },
          "metadata": {
            "tags": [],
            "needs_background": "light"
          }
        }
      ]
    },
    {
      "cell_type": "code",
      "metadata": {
        "id": "DsbCdThAHdhi",
        "outputId": "4ff1d0fa-cbdd-4d7d-cfe4-7bddf614a84a",
        "colab": {
          "base_uri": "https://localhost:8080/",
          "height": 267
        }
      },
      "source": [
        "group_matrix = group_plot(new_mat , 4 )"
      ],
      "execution_count": null,
      "outputs": [
        {
          "output_type": "display_data",
          "data": {
            "image/png": "[encoded data removed]",
            "text/plain": [
              "<Figure size 432x288 with 1 Axes>"
            ]
          },
          "metadata": {
            "tags": [],
            "needs_background": "light"
          }
        }
      ]
    },
    {
      "cell_type": "code",
      "metadata": {
        "id": "e4Wy9cVVJHSX",
        "outputId": "295bdcc2-8644-4fae-8dbb-d5ed5a851ef7",
        "colab": {
          "base_uri": "https://localhost:8080/",
          "height": 267
        }
      },
      "source": [
        "group_plot(new_mat , 5 )"
      ],
      "execution_count": null,
      "outputs": [
        {
          "output_type": "display_data",
          "data": {
            "image/png": "[encoded data removed]",
            "text/plain": [
              "<Figure size 432x288 with 1 Axes>"
            ]
          },
          "metadata": {
            "tags": [],
            "needs_background": "light"
          }
        }
      ]
    },
    {
      "cell_type": "code",
      "metadata": {
        "id": "KOS3-8xpJmY3",
        "outputId": "916140be-4856-49dc-e620-1939b89373d5",
        "colab": {
          "base_uri": "https://localhost:8080/",
          "height": 268
        }
      },
      "source": [
        "group_plot(new_mat , 6 )"
      ],
      "execution_count": null,
      "outputs": [
        {
          "output_type": "display_data",
          "data": {
            "image/png": "[encoded data removed]",
            "text/plain": [
              "<Figure size 432x288 with 1 Axes>"
            ]
          },
          "metadata": {
            "tags": [],
            "needs_background": "light"
          }
        }
      ]
    },
    {
      "cell_type": "code",
      "metadata": {
        "id": "qSWPKgZhJoxJ",
        "outputId": "ae99a496-9464-46d6-f91c-073caa37082a",
        "colab": {
          "base_uri": "https://localhost:8080/",
          "height": 266
        }
      },
      "source": [
        "group_plot(new_mat , 7 )"
      ],
      "execution_count": null,
      "outputs": [
        {
          "output_type": "display_data",
          "data": {
            "image/png": "[encoded data removed]",
            "text/plain": [
              "<Figure size 432x288 with 1 Axes>"
            ]
          },
          "metadata": {
            "tags": [],
            "needs_background": "light"
          }
        }
      ]
    },
    {
      "cell_type": "code",
      "metadata": {
        "id": "2EKh79JMJqfO",
        "outputId": "9f4456fb-91d1-4b95-a72a-443beec240e2",
        "colab": {
          "base_uri": "https://localhost:8080/",
          "height": 266
        }
      },
      "source": [
        "group_plot(new_mat , 8 )"
      ],
      "execution_count": null,
      "outputs": [
        {
          "output_type": "display_data",
          "data": {
            "image/png": "[encoded data removed]",
            "text/plain": [
              "<Figure size 432x288 with 1 Axes>"
            ]
          },
          "metadata": {
            "tags": [],
            "needs_background": "light"
          }
        }
      ]
    },
    {
      "cell_type": "code",
      "metadata": {
        "id": "j_hBtn9YJslL",
        "outputId": "4e26d45f-da23-4d34-9c24-6379b2d6e01a",
        "colab": {
          "base_uri": "https://localhost:8080/",
          "height": 267
        }
      },
      "source": [
        "group_plot(new_mat , 9 )"
      ],
      "execution_count": null,
      "outputs": [
        {
          "output_type": "display_data",
          "data": {
            "image/png": "[encoded data removed]",
            "text/plain": [
              "<Figure size 432x288 with 1 Axes>"
            ]
          },
          "metadata": {
            "tags": [],
            "needs_background": "light"
          }
        }
      ]
    },
    {
      "cell_type": "code",
      "metadata": {
        "id": "YgZOK8OjJufc",
        "outputId": "a93319c9-a439-407c-ecf8-0d52cc84ecba",
        "colab": {
          "base_uri": "https://localhost:8080/",
          "height": 267
        }
      },
      "source": [
        "group_plot(new_mat , 10 )"
      ],
      "execution_count": null,
      "outputs": [
        {
          "output_type": "display_data",
          "data": {
            "image/png": "[encoded data removed]",
            "text/plain": [
              "<Figure size 432x288 with 1 Axes>"
            ]
          },
          "metadata": {
            "tags": [],
            "needs_background": "light"
          }
        }
      ]
    },
    {
      "cell_type": "code",
      "metadata": {
        "id": "zUB8dZBeO4h5",
        "outputId": "25054c7b-5b62-47df-8014-0ffe831bbd19",
        "colab": {
          "base_uri": "https://localhost:8080/",
          "height": 267
        }
      },
      "source": [
        "group_plot(new_mat , 11 )"
      ],
      "execution_count": null,
      "outputs": [
        {
          "output_type": "display_data",
          "data": {
            "image/png": "[encoded data removed]",
            "text/plain": [
              "<Figure size 432x288 with 1 Axes>"
            ]
          },
          "metadata": {
            "tags": [],
            "needs_background": "light"
          }
        }
      ]
    },
    {
      "cell_type": "code",
      "metadata": {
        "id": "qlQXYtxYPq2O",
        "outputId": "1fc8ac24-105a-4ed0-b4c2-29c981fc785d",
        "colab": {
          "base_uri": "https://localhost:8080/",
          "height": 266
        }
      },
      "source": [
        "group_plot(new_mat , 12 )"
      ],
      "execution_count": null,
      "outputs": [
        {
          "output_type": "display_data",
          "data": {
            "image/png": "[encoded data removed]",
            "text/plain": [
              "<Figure size 432x288 with 1 Axes>"
            ]
          },
          "metadata": {
            "tags": [],
            "needs_background": "light"
          }
        }
      ]
    },
    {
      "cell_type": "code",
      "metadata": {
        "id": "k_hULBmqRAvq",
        "outputId": "11da6fc0-d944-4181-e532-dba17c5b5655",
        "colab": {
          "base_uri": "https://localhost:8080/",
          "height": 267
        }
      },
      "source": [
        "group_plot(new_mat , 13 )"
      ],
      "execution_count": null,
      "outputs": [
        {
          "output_type": "display_data",
          "data": {
            "image/png": "[encoded data removed]",
            "text/plain": [
              "<Figure size 432x288 with 1 Axes>"
            ]
          },
          "metadata": {
            "tags": [],
            "needs_background": "light"
          }
        }
      ]
    },
    {
      "cell_type": "code",
      "metadata": {
        "id": "nPNbCGoWRCyH",
        "outputId": "97b34a97-6257-4d98-8a71-5bf022550308",
        "colab": {
          "base_uri": "https://localhost:8080/",
          "height": 268
        }
      },
      "source": [
        "group_plot(new_mat , 14 )"
      ],
      "execution_count": null,
      "outputs": [
        {
          "output_type": "display_data",
          "data": {
            "image/png": "[encoded data removed]",
            "text/plain": [
              "<Figure size 432x288 with 1 Axes>"
            ]
          },
          "metadata": {
            "tags": [],
            "needs_background": "light"
          }
        }
      ]
    },
    {
      "cell_type": "code",
      "metadata": {
        "id": "t_AkHDPtREhZ",
        "outputId": "e04c4862-022d-4c12-e76e-9e3f97edff1d",
        "colab": {
          "base_uri": "https://localhost:8080/",
          "height": 265
        }
      },
      "source": [
        "group_plot(new_mat , 15 )"
      ],
      "execution_count": null,
      "outputs": [
        {
          "output_type": "display_data",
          "data": {
            "image/png": "[encoded data removed]",
            "text/plain": [
              "<Figure size 432x288 with 1 Axes>"
            ]
          },
          "metadata": {
            "tags": [],
            "needs_background": "light"
          }
        }
      ]
    },
    {
      "cell_type": "code",
      "metadata": {
        "id": "aF41kEYORjUm",
        "outputId": "c22d8882-8ef0-4ffa-ea72-7116391635b5",
        "colab": {
          "base_uri": "https://localhost:8080/",
          "height": 266
        }
      },
      "source": [
        "group_plot(new_mat , 16 )"
      ],
      "execution_count": null,
      "outputs": [
        {
          "output_type": "display_data",
          "data": {
            "image/png": "[encoded data removed]",
            "text/plain": [
              "<Figure size 432x288 with 1 Axes>"
            ]
          },
          "metadata": {
            "tags": [],
            "needs_background": "light"
          }
        }
      ]
    },
    {
      "cell_type": "code",
      "metadata": {
        "id": "TuplgBEPUMMw",
        "outputId": "22c874a7-19a1-471a-ea2c-43c1468610c5",
        "colab": {
          "base_uri": "https://localhost:8080/",
          "height": 266
        }
      },
      "source": [
        "group_plot(new_mat , 17 )"
      ],
      "execution_count": null,
      "outputs": [
        {
          "output_type": "display_data",
          "data": {
            "image/png": "[encoded data removed]",
            "text/plain": [
              "<Figure size 432x288 with 1 Axes>"
            ]
          },
          "metadata": {
            "tags": [],
            "needs_background": "light"
          }
        }
      ]
    },
    {
      "cell_type": "code",
      "metadata": {
        "id": "7GFdTz9xUOBT",
        "outputId": "8e50183b-f19f-4682-9c02-8af8ba5d1a11",
        "colab": {
          "base_uri": "https://localhost:8080/",
          "height": 267
        }
      },
      "source": [
        "group_plot(new_mat , 18 )"
      ],
      "execution_count": null,
      "outputs": [
        {
          "output_type": "display_data",
          "data": {
            "image/png": "[encoded data removed]",
            "text/plain": [
              "<Figure size 432x288 with 1 Axes>"
            ]
          },
          "metadata": {
            "tags": [],
            "needs_background": "light"
          }
        }
      ]
    },
    {
      "cell_type": "code",
      "metadata": {
        "id": "QhWq3pwiUPmh",
        "outputId": "77683aee-8ae3-4476-9e98-330b8f6b6129",
        "colab": {
          "base_uri": "https://localhost:8080/",
          "height": 265
        }
      },
      "source": [
        "group_plot(new_mat , 19 )"
      ],
      "execution_count": null,
      "outputs": [
        {
          "output_type": "display_data",
          "data": {
            "image/png": "[encoded data removed]",
            "text/plain": [
              "<Figure size 432x288 with 1 Axes>"
            ]
          },
          "metadata": {
            "tags": [],
            "needs_background": "light"
          }
        }
      ]
    },
    {
      "cell_type": "markdown",
      "metadata": {
        "id": "swJEC11bwLqF"
      },
      "source": [
        "# 這邊想大概解釋一下為何 \"group shuffle\" 對 t-SNE 結果看起來影響不大:\n",
        "1. 這裡先解釋為何一開始沒做 stock grouping 做不太出來 , 原因很簡單 , 因為 group 數量太多(1716) , 買家數量(962)遠小於它 , 故大部分 matrix element 都等於0 , 換句話說 data 太分散 , 或者是說意思是買家之間的有意義的交集太少 (有點像是將一個人的特徵或個性分成了幾千幾萬種,這樣每個人幾乎都是獨一無二的個體了! ), 做 factorization 降維後結果就是超級多的小團體,當然看不出來! \n",
        "\n",
        "2. 做grouping(產業類別)後 , 特徵量減少且更加精簡 , 自然對買家的特性差異更一目了然 ; 但這邊回到問題: 為何 feature group shuffle 後結果似乎跟原本定義好的 group 結果類似呢 ? 原因其實也很單純 , 試想一個例子: 假設買家1 跟買家2 一樣都愛好我定義好的產業 A , B , C(假設他們倆都各投資一百張), 今天假設我\"重新定義了產業類別\", 也就是 A ,B ,C 裡的某些公司甲乙丙, 都被重新分配到了新的產業分類裡 (EX: A_甲 -> C , A_乙 -> D)  , 那買家1 對 A ,B ,C裡面各投資的100張 ,就會被\"切割\"到新的類別裡,\n",
        "但這邊注意到 ,買家2 的投資 , 一樣的被切割到了\"一樣的新的產業類別\"裡! 簡單來說結論就是, 兩個投資理念一樣的人,不管產業類別怎麼 grouping , 他們都投資理念 (latent vector) 是不太會受影響的! 故他們之間做完 t-SNE 的結果應該也不會有太大的差距!  "
      ]
    },
    {
      "cell_type": "code",
      "metadata": {
        "id": "s5DRMgsYiqu2",
        "outputId": "3f5041b5-df7c-43c3-d285-ae7d073ad186",
        "colab": {
          "base_uri": "https://localhost:8080/",
          "height": 238
        }
      },
      "source": [
        "df_sum_0 = df_buy.abs().sum(axis=0)\n",
        "print(len(df_sum_0))\n",
        "df_sum_0_re = df_sum_0.groupby(pd.cut(df_sum_0,np.arange(0,180000,100))).count()\n",
        "df_sum_0_re "
      ],
      "execution_count": null,
      "outputs": [
        {
          "output_type": "stream",
          "text": [
            "962\n"
          ],
          "name": "stdout"
        },
        {
          "output_type": "execute_result",
          "data": {
            "text/plain": [
              "(0, 100]            1\n",
              "(100, 200]          0\n",
              "(200, 300]          0\n",
              "(300, 400]          3\n",
              "(400, 500]          7\n",
              "                   ..\n",
              "(179400, 179500]    0\n",
              "(179500, 179600]    0\n",
              "(179600, 179700]    0\n",
              "(179700, 179800]    0\n",
              "(179800, 179900]    0\n",
              "Length: 1799, dtype: int64"
            ]
          },
          "metadata": {
            "tags": []
          },
          "execution_count": 24
        }
      ]
    },
    {
      "cell_type": "code",
      "metadata": {
        "id": "LRdSk38IuFia"
      },
      "source": [
        "#for i ,j in enumerate(df_sum_0_re):\n",
        "#  print((\"{}~{}:\".format((i)*100,(i+1)*100),j))\n",
        "\n",
        "#　Comment :　800張以下的點全砍"
      ],
      "execution_count": null,
      "outputs": []
    },
    {
      "cell_type": "code",
      "metadata": {
        "id": "U4YIEc-TwDKQ",
        "outputId": "121e94df-5266-48ec-924e-8b9e4b578d5c",
        "colab": {
          "base_uri": "https://localhost:8080/",
          "height": 136
        }
      },
      "source": [
        "drop_idx = df_sum_0[df_sum_0 < 800].index # 分點買賣<800張的濾掉\n",
        "print(\"drop ratio:{}%\".format(len(drop_idx)/len(df_sum_0)*100))\n",
        "drop_idx"
      ],
      "execution_count": null,
      "outputs": [
        {
          "output_type": "stream",
          "text": [
            "drop ratio:15.800415800415802%\n"
          ],
          "name": "stdout"
        },
        {
          "output_type": "execute_result",
          "data": {
            "text/plain": [
              "Index(['土銀-士林', '土銀-玉里', '土銀-白河', '土銀-和平', '土銀-南港', '土銀-建國', '大展-台南', '大鼎',\n",
              "       '大慶-中和', '大慶-台南',\n",
              "       ...\n",
              "       '德信-三重', '德信-台北(停)', '德信-和平', '聯邦-大業', '聯邦-富強', '聯邦-嘉義', '聯邦-興中', '豐銀',\n",
              "       '豐德', '豐興'],\n",
              "      dtype='object', length=152)"
            ]
          },
          "metadata": {
            "tags": []
          },
          "execution_count": 27
        }
      ]
    },
    {
      "cell_type": "code",
      "metadata": {
        "id": "MXTouJ5LyIHQ",
        "outputId": "96187659-1452-4e5d-9455-09b25621a795",
        "colab": {
          "base_uri": "https://localhost:8080/",
          "height": 524
        }
      },
      "source": [
        "df_buy.drop(drop_idx,axis = 1,inplace=True)\n",
        "df_buy"
      ],
      "execution_count": null,
      "outputs": [
        {
          "output_type": "execute_result",
          "data": {
            "text/html": [
              "<div>\n",
              "<style scoped>\n",
              "    .dataframe tbody tr th:only-of-type {\n",
              "        vertical-align: middle;\n",
              "    }\n",
              "\n",
              "    .dataframe tbody tr th {\n",
              "        vertical-align: top;\n",
              "    }\n",
              "\n",
              "    .dataframe thead th {\n",
              "        text-align: right;\n",
              "    }\n",
              "</style>\n",
              "<table border=\"1\" class=\"dataframe\">\n",
              "  <thead>\n",
              "    <tr style=\"text-align: right;\">\n",
              "      <th></th>\n",
              "      <th>(牛牛牛)亞證券</th>\n",
              "      <th>(牛牛牛)亞-網路</th>\n",
              "      <th>(牛牛牛)亞-鑫豐</th>\n",
              "      <th>土銀</th>\n",
              "      <th>土銀-台中</th>\n",
              "      <th>土銀-台南</th>\n",
              "      <th>土銀-花蓮</th>\n",
              "      <th>土銀-高雄</th>\n",
              "      <th>土銀-新竹</th>\n",
              "      <th>土銀-嘉義</th>\n",
              "      <th>土銀-彰化</th>\n",
              "      <th>大和國泰</th>\n",
              "      <th>大昌</th>\n",
              "      <th>大昌-安康</th>\n",
              "      <th>大昌-桃園</th>\n",
              "      <th>大昌-新竹</th>\n",
              "      <th>大昌-新店</th>\n",
              "      <th>大昌-樹林</th>\n",
              "      <th>大展</th>\n",
              "      <th>大慶</th>\n",
              "      <th>大慶-中壢</th>\n",
              "      <th>大慶-台中</th>\n",
              "      <th>大慶-長榮</th>\n",
              "      <th>大慶-泰山</th>\n",
              "      <th>大慶-富順</th>\n",
              "      <th>大慶-楊梅</th>\n",
              "      <th>大慶-蘆洲</th>\n",
              "      <th>中國信託</th>\n",
              "      <th>中國信託-三重</th>\n",
              "      <th>中國信託-中壢</th>\n",
              "      <th>中國信託-文心</th>\n",
              "      <th>中國信託-永康</th>\n",
              "      <th>中國信託-忠孝</th>\n",
              "      <th>中國信託-松江</th>\n",
              "      <th>中國信託-高雄</th>\n",
              "      <th>中國信託-新竹</th>\n",
              "      <th>中國信託-嘉義</th>\n",
              "      <th>中農</th>\n",
              "      <th>元大證券</th>\n",
              "      <th>元大-八德</th>\n",
              "      <th>...</th>\n",
              "      <th>群益金鼎-海山</th>\n",
              "      <th>群益金鼎-高盛</th>\n",
              "      <th>群益金鼎-高雄</th>\n",
              "      <th>群益金鼎-基隆</th>\n",
              "      <th>群益金鼎-崇德</th>\n",
              "      <th>群益金鼎-敦南</th>\n",
              "      <th>群益金鼎-開元</th>\n",
              "      <th>群益金鼎-新竹</th>\n",
              "      <th>群益金鼎-新店</th>\n",
              "      <th>群益金鼎-新莊</th>\n",
              "      <th>群益金鼎-瑞豐</th>\n",
              "      <th>群益金鼎-萬華</th>\n",
              "      <th>群益金鼎-經國</th>\n",
              "      <th>群益金鼎-嘉義</th>\n",
              "      <th>群益金鼎-彰化</th>\n",
              "      <th>群益金鼎-鳳山</th>\n",
              "      <th>群益金鼎-潭子</th>\n",
              "      <th>群益金鼎-館前</th>\n",
              "      <th>彰銀</th>\n",
              "      <th>彰銀-台中</th>\n",
              "      <th>福邦證券</th>\n",
              "      <th>福勝</th>\n",
              "      <th>臺銀</th>\n",
              "      <th>臺銀-民權</th>\n",
              "      <th>臺銀-金山</th>\n",
              "      <th>臺銀-高雄</th>\n",
              "      <th>臺銀-新竹</th>\n",
              "      <th>臺銀-臺中</th>\n",
              "      <th>臺銀-臺南</th>\n",
              "      <th>臺銀-鳳山</th>\n",
              "      <th>德信</th>\n",
              "      <th>德信-中正</th>\n",
              "      <th>德信-新營</th>\n",
              "      <th>摩根大通</th>\n",
              "      <th>聯邦商銀</th>\n",
              "      <th>聯邦-三重</th>\n",
              "      <th>聯邦-高雄</th>\n",
              "      <th>聯邦-敦化</th>\n",
              "      <th>聯邦-雙和</th>\n",
              "      <th>豐農</th>\n",
              "    </tr>\n",
              "  </thead>\n",
              "  <tbody>\n",
              "    <tr>\n",
              "      <th>1102</th>\n",
              "      <td>0</td>\n",
              "      <td>0</td>\n",
              "      <td>0</td>\n",
              "      <td>4</td>\n",
              "      <td>0</td>\n",
              "      <td>0</td>\n",
              "      <td>0</td>\n",
              "      <td>8</td>\n",
              "      <td>0</td>\n",
              "      <td>45</td>\n",
              "      <td>0</td>\n",
              "      <td>400</td>\n",
              "      <td>0</td>\n",
              "      <td>0</td>\n",
              "      <td>0</td>\n",
              "      <td>0</td>\n",
              "      <td>0</td>\n",
              "      <td>0</td>\n",
              "      <td>0</td>\n",
              "      <td>10</td>\n",
              "      <td>0</td>\n",
              "      <td>0</td>\n",
              "      <td>0</td>\n",
              "      <td>0</td>\n",
              "      <td>11</td>\n",
              "      <td>8</td>\n",
              "      <td>0</td>\n",
              "      <td>0</td>\n",
              "      <td>0</td>\n",
              "      <td>47</td>\n",
              "      <td>23</td>\n",
              "      <td>0</td>\n",
              "      <td>0</td>\n",
              "      <td>7</td>\n",
              "      <td>0</td>\n",
              "      <td>10</td>\n",
              "      <td>21</td>\n",
              "      <td>0</td>\n",
              "      <td>-2216</td>\n",
              "      <td>0</td>\n",
              "      <td>...</td>\n",
              "      <td>16</td>\n",
              "      <td>0</td>\n",
              "      <td>0</td>\n",
              "      <td>0</td>\n",
              "      <td>6</td>\n",
              "      <td>0</td>\n",
              "      <td>0</td>\n",
              "      <td>-7</td>\n",
              "      <td>0</td>\n",
              "      <td>0</td>\n",
              "      <td>0</td>\n",
              "      <td>0</td>\n",
              "      <td>-17</td>\n",
              "      <td>0</td>\n",
              "      <td>0</td>\n",
              "      <td>0</td>\n",
              "      <td>0</td>\n",
              "      <td>0</td>\n",
              "      <td>0</td>\n",
              "      <td>5</td>\n",
              "      <td>0</td>\n",
              "      <td>0</td>\n",
              "      <td>0</td>\n",
              "      <td>0</td>\n",
              "      <td>16</td>\n",
              "      <td>0</td>\n",
              "      <td>0</td>\n",
              "      <td>14</td>\n",
              "      <td>0</td>\n",
              "      <td>0</td>\n",
              "      <td>0</td>\n",
              "      <td>0</td>\n",
              "      <td>0</td>\n",
              "      <td>-566</td>\n",
              "      <td>0</td>\n",
              "      <td>2</td>\n",
              "      <td>-6</td>\n",
              "      <td>1</td>\n",
              "      <td>0</td>\n",
              "      <td>0</td>\n",
              "    </tr>\n",
              "    <tr>\n",
              "      <th>1103</th>\n",
              "      <td>0</td>\n",
              "      <td>0</td>\n",
              "      <td>0</td>\n",
              "      <td>0</td>\n",
              "      <td>0</td>\n",
              "      <td>0</td>\n",
              "      <td>0</td>\n",
              "      <td>0</td>\n",
              "      <td>-13</td>\n",
              "      <td>0</td>\n",
              "      <td>0</td>\n",
              "      <td>0</td>\n",
              "      <td>0</td>\n",
              "      <td>0</td>\n",
              "      <td>0</td>\n",
              "      <td>-10</td>\n",
              "      <td>0</td>\n",
              "      <td>0</td>\n",
              "      <td>0</td>\n",
              "      <td>0</td>\n",
              "      <td>0</td>\n",
              "      <td>0</td>\n",
              "      <td>0</td>\n",
              "      <td>0</td>\n",
              "      <td>0</td>\n",
              "      <td>0</td>\n",
              "      <td>0</td>\n",
              "      <td>0</td>\n",
              "      <td>0</td>\n",
              "      <td>0</td>\n",
              "      <td>0</td>\n",
              "      <td>0</td>\n",
              "      <td>0</td>\n",
              "      <td>-20</td>\n",
              "      <td>0</td>\n",
              "      <td>0</td>\n",
              "      <td>0</td>\n",
              "      <td>0</td>\n",
              "      <td>0</td>\n",
              "      <td>0</td>\n",
              "      <td>...</td>\n",
              "      <td>0</td>\n",
              "      <td>0</td>\n",
              "      <td>0</td>\n",
              "      <td>0</td>\n",
              "      <td>0</td>\n",
              "      <td>0</td>\n",
              "      <td>0</td>\n",
              "      <td>0</td>\n",
              "      <td>0</td>\n",
              "      <td>0</td>\n",
              "      <td>0</td>\n",
              "      <td>0</td>\n",
              "      <td>0</td>\n",
              "      <td>0</td>\n",
              "      <td>0</td>\n",
              "      <td>0</td>\n",
              "      <td>0</td>\n",
              "      <td>0</td>\n",
              "      <td>0</td>\n",
              "      <td>0</td>\n",
              "      <td>0</td>\n",
              "      <td>0</td>\n",
              "      <td>0</td>\n",
              "      <td>0</td>\n",
              "      <td>0</td>\n",
              "      <td>0</td>\n",
              "      <td>0</td>\n",
              "      <td>0</td>\n",
              "      <td>0</td>\n",
              "      <td>0</td>\n",
              "      <td>0</td>\n",
              "      <td>0</td>\n",
              "      <td>0</td>\n",
              "      <td>0</td>\n",
              "      <td>0</td>\n",
              "      <td>-4</td>\n",
              "      <td>0</td>\n",
              "      <td>0</td>\n",
              "      <td>0</td>\n",
              "      <td>0</td>\n",
              "    </tr>\n",
              "    <tr>\n",
              "      <th>1104</th>\n",
              "      <td>0</td>\n",
              "      <td>0</td>\n",
              "      <td>0</td>\n",
              "      <td>0</td>\n",
              "      <td>0</td>\n",
              "      <td>0</td>\n",
              "      <td>0</td>\n",
              "      <td>0</td>\n",
              "      <td>0</td>\n",
              "      <td>0</td>\n",
              "      <td>0</td>\n",
              "      <td>0</td>\n",
              "      <td>0</td>\n",
              "      <td>0</td>\n",
              "      <td>0</td>\n",
              "      <td>0</td>\n",
              "      <td>0</td>\n",
              "      <td>0</td>\n",
              "      <td>0</td>\n",
              "      <td>0</td>\n",
              "      <td>0</td>\n",
              "      <td>0</td>\n",
              "      <td>0</td>\n",
              "      <td>0</td>\n",
              "      <td>0</td>\n",
              "      <td>0</td>\n",
              "      <td>0</td>\n",
              "      <td>0</td>\n",
              "      <td>0</td>\n",
              "      <td>0</td>\n",
              "      <td>0</td>\n",
              "      <td>0</td>\n",
              "      <td>0</td>\n",
              "      <td>0</td>\n",
              "      <td>0</td>\n",
              "      <td>0</td>\n",
              "      <td>0</td>\n",
              "      <td>0</td>\n",
              "      <td>0</td>\n",
              "      <td>0</td>\n",
              "      <td>...</td>\n",
              "      <td>0</td>\n",
              "      <td>0</td>\n",
              "      <td>0</td>\n",
              "      <td>0</td>\n",
              "      <td>0</td>\n",
              "      <td>0</td>\n",
              "      <td>0</td>\n",
              "      <td>0</td>\n",
              "      <td>0</td>\n",
              "      <td>0</td>\n",
              "      <td>0</td>\n",
              "      <td>0</td>\n",
              "      <td>0</td>\n",
              "      <td>0</td>\n",
              "      <td>0</td>\n",
              "      <td>0</td>\n",
              "      <td>0</td>\n",
              "      <td>0</td>\n",
              "      <td>0</td>\n",
              "      <td>0</td>\n",
              "      <td>0</td>\n",
              "      <td>0</td>\n",
              "      <td>0</td>\n",
              "      <td>0</td>\n",
              "      <td>0</td>\n",
              "      <td>0</td>\n",
              "      <td>0</td>\n",
              "      <td>0</td>\n",
              "      <td>0</td>\n",
              "      <td>0</td>\n",
              "      <td>0</td>\n",
              "      <td>0</td>\n",
              "      <td>0</td>\n",
              "      <td>0</td>\n",
              "      <td>0</td>\n",
              "      <td>0</td>\n",
              "      <td>0</td>\n",
              "      <td>0</td>\n",
              "      <td>0</td>\n",
              "      <td>0</td>\n",
              "    </tr>\n",
              "    <tr>\n",
              "      <th>1108</th>\n",
              "      <td>0</td>\n",
              "      <td>0</td>\n",
              "      <td>0</td>\n",
              "      <td>0</td>\n",
              "      <td>0</td>\n",
              "      <td>0</td>\n",
              "      <td>0</td>\n",
              "      <td>0</td>\n",
              "      <td>0</td>\n",
              "      <td>0</td>\n",
              "      <td>0</td>\n",
              "      <td>0</td>\n",
              "      <td>0</td>\n",
              "      <td>10</td>\n",
              "      <td>0</td>\n",
              "      <td>0</td>\n",
              "      <td>0</td>\n",
              "      <td>0</td>\n",
              "      <td>0</td>\n",
              "      <td>0</td>\n",
              "      <td>0</td>\n",
              "      <td>0</td>\n",
              "      <td>0</td>\n",
              "      <td>0</td>\n",
              "      <td>0</td>\n",
              "      <td>0</td>\n",
              "      <td>0</td>\n",
              "      <td>0</td>\n",
              "      <td>0</td>\n",
              "      <td>0</td>\n",
              "      <td>0</td>\n",
              "      <td>0</td>\n",
              "      <td>0</td>\n",
              "      <td>0</td>\n",
              "      <td>0</td>\n",
              "      <td>0</td>\n",
              "      <td>0</td>\n",
              "      <td>0</td>\n",
              "      <td>0</td>\n",
              "      <td>0</td>\n",
              "      <td>...</td>\n",
              "      <td>0</td>\n",
              "      <td>0</td>\n",
              "      <td>0</td>\n",
              "      <td>0</td>\n",
              "      <td>0</td>\n",
              "      <td>0</td>\n",
              "      <td>0</td>\n",
              "      <td>0</td>\n",
              "      <td>-5</td>\n",
              "      <td>0</td>\n",
              "      <td>0</td>\n",
              "      <td>0</td>\n",
              "      <td>0</td>\n",
              "      <td>0</td>\n",
              "      <td>0</td>\n",
              "      <td>0</td>\n",
              "      <td>0</td>\n",
              "      <td>0</td>\n",
              "      <td>0</td>\n",
              "      <td>0</td>\n",
              "      <td>0</td>\n",
              "      <td>0</td>\n",
              "      <td>0</td>\n",
              "      <td>0</td>\n",
              "      <td>0</td>\n",
              "      <td>0</td>\n",
              "      <td>0</td>\n",
              "      <td>0</td>\n",
              "      <td>0</td>\n",
              "      <td>0</td>\n",
              "      <td>0</td>\n",
              "      <td>0</td>\n",
              "      <td>0</td>\n",
              "      <td>0</td>\n",
              "      <td>0</td>\n",
              "      <td>0</td>\n",
              "      <td>0</td>\n",
              "      <td>0</td>\n",
              "      <td>0</td>\n",
              "      <td>0</td>\n",
              "    </tr>\n",
              "    <tr>\n",
              "      <th>1109</th>\n",
              "      <td>0</td>\n",
              "      <td>0</td>\n",
              "      <td>0</td>\n",
              "      <td>0</td>\n",
              "      <td>0</td>\n",
              "      <td>0</td>\n",
              "      <td>0</td>\n",
              "      <td>0</td>\n",
              "      <td>0</td>\n",
              "      <td>0</td>\n",
              "      <td>0</td>\n",
              "      <td>0</td>\n",
              "      <td>0</td>\n",
              "      <td>0</td>\n",
              "      <td>0</td>\n",
              "      <td>0</td>\n",
              "      <td>0</td>\n",
              "      <td>0</td>\n",
              "      <td>0</td>\n",
              "      <td>0</td>\n",
              "      <td>0</td>\n",
              "      <td>0</td>\n",
              "      <td>0</td>\n",
              "      <td>0</td>\n",
              "      <td>0</td>\n",
              "      <td>0</td>\n",
              "      <td>0</td>\n",
              "      <td>0</td>\n",
              "      <td>0</td>\n",
              "      <td>0</td>\n",
              "      <td>0</td>\n",
              "      <td>0</td>\n",
              "      <td>0</td>\n",
              "      <td>0</td>\n",
              "      <td>0</td>\n",
              "      <td>0</td>\n",
              "      <td>0</td>\n",
              "      <td>0</td>\n",
              "      <td>0</td>\n",
              "      <td>0</td>\n",
              "      <td>...</td>\n",
              "      <td>0</td>\n",
              "      <td>0</td>\n",
              "      <td>0</td>\n",
              "      <td>0</td>\n",
              "      <td>0</td>\n",
              "      <td>0</td>\n",
              "      <td>0</td>\n",
              "      <td>0</td>\n",
              "      <td>0</td>\n",
              "      <td>0</td>\n",
              "      <td>0</td>\n",
              "      <td>0</td>\n",
              "      <td>0</td>\n",
              "      <td>0</td>\n",
              "      <td>0</td>\n",
              "      <td>0</td>\n",
              "      <td>0</td>\n",
              "      <td>0</td>\n",
              "      <td>0</td>\n",
              "      <td>0</td>\n",
              "      <td>0</td>\n",
              "      <td>0</td>\n",
              "      <td>0</td>\n",
              "      <td>0</td>\n",
              "      <td>0</td>\n",
              "      <td>0</td>\n",
              "      <td>0</td>\n",
              "      <td>0</td>\n",
              "      <td>0</td>\n",
              "      <td>0</td>\n",
              "      <td>0</td>\n",
              "      <td>0</td>\n",
              "      <td>0</td>\n",
              "      <td>0</td>\n",
              "      <td>0</td>\n",
              "      <td>0</td>\n",
              "      <td>0</td>\n",
              "      <td>0</td>\n",
              "      <td>0</td>\n",
              "      <td>0</td>\n",
              "    </tr>\n",
              "    <tr>\n",
              "      <th>...</th>\n",
              "      <td>...</td>\n",
              "      <td>...</td>\n",
              "      <td>...</td>\n",
              "      <td>...</td>\n",
              "      <td>...</td>\n",
              "      <td>...</td>\n",
              "      <td>...</td>\n",
              "      <td>...</td>\n",
              "      <td>...</td>\n",
              "      <td>...</td>\n",
              "      <td>...</td>\n",
              "      <td>...</td>\n",
              "      <td>...</td>\n",
              "      <td>...</td>\n",
              "      <td>...</td>\n",
              "      <td>...</td>\n",
              "      <td>...</td>\n",
              "      <td>...</td>\n",
              "      <td>...</td>\n",
              "      <td>...</td>\n",
              "      <td>...</td>\n",
              "      <td>...</td>\n",
              "      <td>...</td>\n",
              "      <td>...</td>\n",
              "      <td>...</td>\n",
              "      <td>...</td>\n",
              "      <td>...</td>\n",
              "      <td>...</td>\n",
              "      <td>...</td>\n",
              "      <td>...</td>\n",
              "      <td>...</td>\n",
              "      <td>...</td>\n",
              "      <td>...</td>\n",
              "      <td>...</td>\n",
              "      <td>...</td>\n",
              "      <td>...</td>\n",
              "      <td>...</td>\n",
              "      <td>...</td>\n",
              "      <td>...</td>\n",
              "      <td>...</td>\n",
              "      <td>...</td>\n",
              "      <td>...</td>\n",
              "      <td>...</td>\n",
              "      <td>...</td>\n",
              "      <td>...</td>\n",
              "      <td>...</td>\n",
              "      <td>...</td>\n",
              "      <td>...</td>\n",
              "      <td>...</td>\n",
              "      <td>...</td>\n",
              "      <td>...</td>\n",
              "      <td>...</td>\n",
              "      <td>...</td>\n",
              "      <td>...</td>\n",
              "      <td>...</td>\n",
              "      <td>...</td>\n",
              "      <td>...</td>\n",
              "      <td>...</td>\n",
              "      <td>...</td>\n",
              "      <td>...</td>\n",
              "      <td>...</td>\n",
              "      <td>...</td>\n",
              "      <td>...</td>\n",
              "      <td>...</td>\n",
              "      <td>...</td>\n",
              "      <td>...</td>\n",
              "      <td>...</td>\n",
              "      <td>...</td>\n",
              "      <td>...</td>\n",
              "      <td>...</td>\n",
              "      <td>...</td>\n",
              "      <td>...</td>\n",
              "      <td>...</td>\n",
              "      <td>...</td>\n",
              "      <td>...</td>\n",
              "      <td>...</td>\n",
              "      <td>...</td>\n",
              "      <td>...</td>\n",
              "      <td>...</td>\n",
              "      <td>...</td>\n",
              "      <td>...</td>\n",
              "    </tr>\n",
              "    <tr>\n",
              "      <th>9955</th>\n",
              "      <td>0</td>\n",
              "      <td>0</td>\n",
              "      <td>0</td>\n",
              "      <td>0</td>\n",
              "      <td>0</td>\n",
              "      <td>0</td>\n",
              "      <td>0</td>\n",
              "      <td>0</td>\n",
              "      <td>0</td>\n",
              "      <td>0</td>\n",
              "      <td>0</td>\n",
              "      <td>0</td>\n",
              "      <td>0</td>\n",
              "      <td>0</td>\n",
              "      <td>0</td>\n",
              "      <td>0</td>\n",
              "      <td>0</td>\n",
              "      <td>0</td>\n",
              "      <td>0</td>\n",
              "      <td>0</td>\n",
              "      <td>0</td>\n",
              "      <td>0</td>\n",
              "      <td>0</td>\n",
              "      <td>0</td>\n",
              "      <td>0</td>\n",
              "      <td>0</td>\n",
              "      <td>0</td>\n",
              "      <td>0</td>\n",
              "      <td>0</td>\n",
              "      <td>0</td>\n",
              "      <td>0</td>\n",
              "      <td>0</td>\n",
              "      <td>0</td>\n",
              "      <td>0</td>\n",
              "      <td>0</td>\n",
              "      <td>0</td>\n",
              "      <td>-4</td>\n",
              "      <td>0</td>\n",
              "      <td>0</td>\n",
              "      <td>0</td>\n",
              "      <td>...</td>\n",
              "      <td>0</td>\n",
              "      <td>0</td>\n",
              "      <td>0</td>\n",
              "      <td>0</td>\n",
              "      <td>5</td>\n",
              "      <td>0</td>\n",
              "      <td>0</td>\n",
              "      <td>0</td>\n",
              "      <td>0</td>\n",
              "      <td>0</td>\n",
              "      <td>0</td>\n",
              "      <td>0</td>\n",
              "      <td>0</td>\n",
              "      <td>0</td>\n",
              "      <td>0</td>\n",
              "      <td>0</td>\n",
              "      <td>0</td>\n",
              "      <td>0</td>\n",
              "      <td>0</td>\n",
              "      <td>0</td>\n",
              "      <td>0</td>\n",
              "      <td>0</td>\n",
              "      <td>0</td>\n",
              "      <td>30</td>\n",
              "      <td>0</td>\n",
              "      <td>0</td>\n",
              "      <td>0</td>\n",
              "      <td>0</td>\n",
              "      <td>0</td>\n",
              "      <td>23</td>\n",
              "      <td>0</td>\n",
              "      <td>0</td>\n",
              "      <td>0</td>\n",
              "      <td>0</td>\n",
              "      <td>0</td>\n",
              "      <td>0</td>\n",
              "      <td>0</td>\n",
              "      <td>2</td>\n",
              "      <td>0</td>\n",
              "      <td>0</td>\n",
              "    </tr>\n",
              "    <tr>\n",
              "      <th>9958</th>\n",
              "      <td>0</td>\n",
              "      <td>0</td>\n",
              "      <td>0</td>\n",
              "      <td>0</td>\n",
              "      <td>0</td>\n",
              "      <td>4</td>\n",
              "      <td>4</td>\n",
              "      <td>0</td>\n",
              "      <td>0</td>\n",
              "      <td>0</td>\n",
              "      <td>0</td>\n",
              "      <td>0</td>\n",
              "      <td>0</td>\n",
              "      <td>0</td>\n",
              "      <td>-7</td>\n",
              "      <td>-11</td>\n",
              "      <td>0</td>\n",
              "      <td>0</td>\n",
              "      <td>-8</td>\n",
              "      <td>-27</td>\n",
              "      <td>0</td>\n",
              "      <td>0</td>\n",
              "      <td>0</td>\n",
              "      <td>0</td>\n",
              "      <td>-13</td>\n",
              "      <td>-7</td>\n",
              "      <td>0</td>\n",
              "      <td>0</td>\n",
              "      <td>0</td>\n",
              "      <td>9</td>\n",
              "      <td>0</td>\n",
              "      <td>-14</td>\n",
              "      <td>43</td>\n",
              "      <td>0</td>\n",
              "      <td>0</td>\n",
              "      <td>-30</td>\n",
              "      <td>-4</td>\n",
              "      <td>0</td>\n",
              "      <td>0</td>\n",
              "      <td>0</td>\n",
              "      <td>...</td>\n",
              "      <td>0</td>\n",
              "      <td>0</td>\n",
              "      <td>0</td>\n",
              "      <td>11</td>\n",
              "      <td>0</td>\n",
              "      <td>0</td>\n",
              "      <td>0</td>\n",
              "      <td>0</td>\n",
              "      <td>7</td>\n",
              "      <td>0</td>\n",
              "      <td>0</td>\n",
              "      <td>0</td>\n",
              "      <td>0</td>\n",
              "      <td>13</td>\n",
              "      <td>55</td>\n",
              "      <td>13</td>\n",
              "      <td>0</td>\n",
              "      <td>0</td>\n",
              "      <td>0</td>\n",
              "      <td>9</td>\n",
              "      <td>0</td>\n",
              "      <td>0</td>\n",
              "      <td>0</td>\n",
              "      <td>17</td>\n",
              "      <td>0</td>\n",
              "      <td>0</td>\n",
              "      <td>0</td>\n",
              "      <td>25</td>\n",
              "      <td>0</td>\n",
              "      <td>0</td>\n",
              "      <td>0</td>\n",
              "      <td>0</td>\n",
              "      <td>0</td>\n",
              "      <td>0</td>\n",
              "      <td>0</td>\n",
              "      <td>0</td>\n",
              "      <td>0</td>\n",
              "      <td>0</td>\n",
              "      <td>0</td>\n",
              "      <td>0</td>\n",
              "    </tr>\n",
              "    <tr>\n",
              "      <th>9960</th>\n",
              "      <td>0</td>\n",
              "      <td>0</td>\n",
              "      <td>0</td>\n",
              "      <td>0</td>\n",
              "      <td>0</td>\n",
              "      <td>0</td>\n",
              "      <td>0</td>\n",
              "      <td>0</td>\n",
              "      <td>0</td>\n",
              "      <td>0</td>\n",
              "      <td>0</td>\n",
              "      <td>0</td>\n",
              "      <td>0</td>\n",
              "      <td>0</td>\n",
              "      <td>0</td>\n",
              "      <td>0</td>\n",
              "      <td>0</td>\n",
              "      <td>0</td>\n",
              "      <td>0</td>\n",
              "      <td>0</td>\n",
              "      <td>0</td>\n",
              "      <td>0</td>\n",
              "      <td>0</td>\n",
              "      <td>0</td>\n",
              "      <td>0</td>\n",
              "      <td>0</td>\n",
              "      <td>0</td>\n",
              "      <td>0</td>\n",
              "      <td>0</td>\n",
              "      <td>0</td>\n",
              "      <td>0</td>\n",
              "      <td>0</td>\n",
              "      <td>0</td>\n",
              "      <td>0</td>\n",
              "      <td>0</td>\n",
              "      <td>0</td>\n",
              "      <td>0</td>\n",
              "      <td>0</td>\n",
              "      <td>0</td>\n",
              "      <td>0</td>\n",
              "      <td>...</td>\n",
              "      <td>0</td>\n",
              "      <td>0</td>\n",
              "      <td>0</td>\n",
              "      <td>0</td>\n",
              "      <td>0</td>\n",
              "      <td>0</td>\n",
              "      <td>0</td>\n",
              "      <td>0</td>\n",
              "      <td>0</td>\n",
              "      <td>0</td>\n",
              "      <td>0</td>\n",
              "      <td>0</td>\n",
              "      <td>0</td>\n",
              "      <td>0</td>\n",
              "      <td>0</td>\n",
              "      <td>0</td>\n",
              "      <td>0</td>\n",
              "      <td>0</td>\n",
              "      <td>0</td>\n",
              "      <td>0</td>\n",
              "      <td>0</td>\n",
              "      <td>0</td>\n",
              "      <td>0</td>\n",
              "      <td>0</td>\n",
              "      <td>0</td>\n",
              "      <td>0</td>\n",
              "      <td>0</td>\n",
              "      <td>0</td>\n",
              "      <td>0</td>\n",
              "      <td>0</td>\n",
              "      <td>0</td>\n",
              "      <td>0</td>\n",
              "      <td>0</td>\n",
              "      <td>0</td>\n",
              "      <td>0</td>\n",
              "      <td>0</td>\n",
              "      <td>0</td>\n",
              "      <td>0</td>\n",
              "      <td>0</td>\n",
              "      <td>0</td>\n",
              "    </tr>\n",
              "    <tr>\n",
              "      <th>9962</th>\n",
              "      <td>0</td>\n",
              "      <td>0</td>\n",
              "      <td>0</td>\n",
              "      <td>0</td>\n",
              "      <td>0</td>\n",
              "      <td>0</td>\n",
              "      <td>0</td>\n",
              "      <td>0</td>\n",
              "      <td>0</td>\n",
              "      <td>0</td>\n",
              "      <td>0</td>\n",
              "      <td>0</td>\n",
              "      <td>0</td>\n",
              "      <td>0</td>\n",
              "      <td>0</td>\n",
              "      <td>0</td>\n",
              "      <td>0</td>\n",
              "      <td>0</td>\n",
              "      <td>0</td>\n",
              "      <td>0</td>\n",
              "      <td>0</td>\n",
              "      <td>0</td>\n",
              "      <td>0</td>\n",
              "      <td>0</td>\n",
              "      <td>0</td>\n",
              "      <td>0</td>\n",
              "      <td>0</td>\n",
              "      <td>0</td>\n",
              "      <td>0</td>\n",
              "      <td>0</td>\n",
              "      <td>0</td>\n",
              "      <td>0</td>\n",
              "      <td>0</td>\n",
              "      <td>0</td>\n",
              "      <td>0</td>\n",
              "      <td>0</td>\n",
              "      <td>0</td>\n",
              "      <td>0</td>\n",
              "      <td>0</td>\n",
              "      <td>0</td>\n",
              "      <td>...</td>\n",
              "      <td>0</td>\n",
              "      <td>0</td>\n",
              "      <td>0</td>\n",
              "      <td>0</td>\n",
              "      <td>0</td>\n",
              "      <td>0</td>\n",
              "      <td>0</td>\n",
              "      <td>0</td>\n",
              "      <td>0</td>\n",
              "      <td>0</td>\n",
              "      <td>0</td>\n",
              "      <td>0</td>\n",
              "      <td>0</td>\n",
              "      <td>0</td>\n",
              "      <td>0</td>\n",
              "      <td>0</td>\n",
              "      <td>0</td>\n",
              "      <td>0</td>\n",
              "      <td>0</td>\n",
              "      <td>0</td>\n",
              "      <td>0</td>\n",
              "      <td>0</td>\n",
              "      <td>0</td>\n",
              "      <td>0</td>\n",
              "      <td>0</td>\n",
              "      <td>0</td>\n",
              "      <td>0</td>\n",
              "      <td>0</td>\n",
              "      <td>0</td>\n",
              "      <td>0</td>\n",
              "      <td>0</td>\n",
              "      <td>0</td>\n",
              "      <td>0</td>\n",
              "      <td>0</td>\n",
              "      <td>0</td>\n",
              "      <td>0</td>\n",
              "      <td>0</td>\n",
              "      <td>0</td>\n",
              "      <td>0</td>\n",
              "      <td>0</td>\n",
              "    </tr>\n",
              "    <tr>\n",
              "      <th>1101</th>\n",
              "      <td>0</td>\n",
              "      <td>0</td>\n",
              "      <td>0</td>\n",
              "      <td>6</td>\n",
              "      <td>0</td>\n",
              "      <td>17</td>\n",
              "      <td>0</td>\n",
              "      <td>-8</td>\n",
              "      <td>0</td>\n",
              "      <td>0</td>\n",
              "      <td>1</td>\n",
              "      <td>0</td>\n",
              "      <td>0</td>\n",
              "      <td>0</td>\n",
              "      <td>0</td>\n",
              "      <td>6</td>\n",
              "      <td>17</td>\n",
              "      <td>0</td>\n",
              "      <td>0</td>\n",
              "      <td>0</td>\n",
              "      <td>33</td>\n",
              "      <td>0</td>\n",
              "      <td>0</td>\n",
              "      <td>0</td>\n",
              "      <td>0</td>\n",
              "      <td>10</td>\n",
              "      <td>0</td>\n",
              "      <td>0</td>\n",
              "      <td>0</td>\n",
              "      <td>-75</td>\n",
              "      <td>0</td>\n",
              "      <td>26</td>\n",
              "      <td>0</td>\n",
              "      <td>0</td>\n",
              "      <td>22</td>\n",
              "      <td>0</td>\n",
              "      <td>0</td>\n",
              "      <td>0</td>\n",
              "      <td>569</td>\n",
              "      <td>0</td>\n",
              "      <td>...</td>\n",
              "      <td>0</td>\n",
              "      <td>8</td>\n",
              "      <td>0</td>\n",
              "      <td>4</td>\n",
              "      <td>0</td>\n",
              "      <td>0</td>\n",
              "      <td>0</td>\n",
              "      <td>-9</td>\n",
              "      <td>0</td>\n",
              "      <td>-42</td>\n",
              "      <td>0</td>\n",
              "      <td>0</td>\n",
              "      <td>0</td>\n",
              "      <td>0</td>\n",
              "      <td>0</td>\n",
              "      <td>0</td>\n",
              "      <td>0</td>\n",
              "      <td>0</td>\n",
              "      <td>0</td>\n",
              "      <td>31</td>\n",
              "      <td>0</td>\n",
              "      <td>0</td>\n",
              "      <td>0</td>\n",
              "      <td>-16</td>\n",
              "      <td>0</td>\n",
              "      <td>0</td>\n",
              "      <td>11</td>\n",
              "      <td>0</td>\n",
              "      <td>23</td>\n",
              "      <td>0</td>\n",
              "      <td>0</td>\n",
              "      <td>0</td>\n",
              "      <td>-4</td>\n",
              "      <td>-1396</td>\n",
              "      <td>0</td>\n",
              "      <td>2</td>\n",
              "      <td>0</td>\n",
              "      <td>14</td>\n",
              "      <td>0</td>\n",
              "      <td>0</td>\n",
              "    </tr>\n",
              "  </tbody>\n",
              "</table>\n",
              "<p>1716 rows × 810 columns</p>\n",
              "</div>"
            ],
            "text/plain": [
              "      (牛牛牛)亞證券  (牛牛牛)亞-網路  (牛牛牛)亞-鑫豐  土銀  土銀-台中  ...  聯邦-三重  聯邦-高雄  聯邦-敦化  聯邦-雙和  豐農\n",
              "1102         0          0          0   4      0  ...      2     -6      1      0   0\n",
              "1103         0          0          0   0      0  ...     -4      0      0      0   0\n",
              "1104         0          0          0   0      0  ...      0      0      0      0   0\n",
              "1108         0          0          0   0      0  ...      0      0      0      0   0\n",
              "1109         0          0          0   0      0  ...      0      0      0      0   0\n",
              "...        ...        ...        ...  ..    ...  ...    ...    ...    ...    ...  ..\n",
              "9955         0          0          0   0      0  ...      0      0      2      0   0\n",
              "9958         0          0          0   0      0  ...      0      0      0      0   0\n",
              "9960         0          0          0   0      0  ...      0      0      0      0   0\n",
              "9962         0          0          0   0      0  ...      0      0      0      0   0\n",
              "1101         0          0          0   6      0  ...      2      0     14      0   0\n",
              "\n",
              "[1716 rows x 810 columns]"
            ]
          },
          "metadata": {
            "tags": []
          },
          "execution_count": 28
        }
      ]
    },
    {
      "cell_type": "code",
      "metadata": {
        "id": "269IAFjefI0x",
        "outputId": "7bcdbad8-9b0b-428a-dfd4-f17975ac6c8e",
        "colab": {
          "base_uri": "https://localhost:8080/",
          "height": 221
        }
      },
      "source": [
        "# Stock aspect\n",
        "df_buy.abs().sum(axis=1)"
      ],
      "execution_count": null,
      "outputs": [
        {
          "output_type": "execute_result",
          "data": {
            "text/plain": [
              "1102    12283\n",
              "1103      793\n",
              "1104      160\n",
              "1108      177\n",
              "1109       20\n",
              "        ...  \n",
              "9955      490\n",
              "9958     4101\n",
              "9960        0\n",
              "9962       67\n",
              "1101    14579\n",
              "Length: 1716, dtype: int64"
            ]
          },
          "metadata": {
            "tags": []
          },
          "execution_count": 29
        }
      ]
    },
    {
      "cell_type": "code",
      "metadata": {
        "id": "FJoiNdl5ro8C",
        "outputId": "858f6ea2-c9a0-466c-d33e-73a05b1eeb5a",
        "colab": {
          "base_uri": "https://localhost:8080/",
          "height": 221
        }
      },
      "source": [
        "df_sum_1 = df_buy.abs().sum(axis=1) #這邊不該用 abs() , 因為有賣超(負)的存在, 後續會再修改\n",
        "df_sum_1_re = df_sum_1.groupby(pd.cut(df_sum_1,np.arange(0,180000,100))).count()\n",
        "df_sum_1_re"
      ],
      "execution_count": null,
      "outputs": [
        {
          "output_type": "execute_result",
          "data": {
            "text/plain": [
              "(0, 100]            548\n",
              "(100, 200]          175\n",
              "(200, 300]          104\n",
              "(300, 400]           70\n",
              "(400, 500]           57\n",
              "                   ... \n",
              "(179400, 179500]      0\n",
              "(179500, 179600]      0\n",
              "(179600, 179700]      0\n",
              "(179700, 179800]      0\n",
              "(179800, 179900]      0\n",
              "Length: 1799, dtype: int64"
            ]
          },
          "metadata": {
            "tags": []
          },
          "execution_count": 30
        }
      ]
    },
    {
      "cell_type": "code",
      "metadata": {
        "id": "uWbg8Qdr97oA"
      },
      "source": [
        "'''\n",
        "def DicToMat_2D(dic):\n",
        "    \n",
        "    mat_elemet = []\n",
        "    mat_keyvaluemap = []\n",
        "    for i , key in enumerate(dic):           \n",
        "        mat_elemet.append([])\n",
        "        mat_keyvaluemap.append([])\n",
        "        \n",
        "        for j , subkey in enumerate(dic[key]):             \n",
        "            mat_elemet[i].append(dic[key][subkey])\n",
        "            mat_keyvaluemap[i].append((key,subkey))\n",
        "    \n",
        "    return mat_elemet , mat_keyvaluemap\n",
        "    \n",
        "def MatToDic_2D(mat, maps , swap = False):\n",
        "    \n",
        "    def transpose(lists):        \n",
        "        lists = np.array(lists)\n",
        "        lists = np.swapaxes(lists,1,0).tolist()\n",
        "        return lists    \n",
        "    \n",
        "    dic = {}\n",
        "    key_idx,subkey_idx = 0 , 1 \n",
        "    if swap:   \n",
        "        #if want to swap the dict key ,value \n",
        "        maps , mat = transpose(maps) ,transpose(mat)\n",
        "        key_idx,subkey_idx = 1 , 0   # need reverse the priority of key&subkey due to transpose of maps matrix  \n",
        "                            \n",
        "    for i , row_ele in enumerate(mat):      \n",
        "        for j , col_ele in enumerate(mat[i]):             \n",
        "            key ,subkey , value = maps[i][j][key_idx], maps[i][j][subkey_idx], mat[i][j]          \n",
        "            if key not in dic:\n",
        "                dic.update( { key : { subkey : value } } )\n",
        "            else:\n",
        "                dic[key].update({subkey : value})                                   \n",
        "    return dic\n",
        "\n",
        "  \n",
        "d1 = {\n",
        "    \"10/1\":{\"1\":12,\"2\":56,\"3\":22},\n",
        "    \"10/2\":{\"1\":14,\"2\":78,\"3\":4},\n",
        "    \"10/3\":{\"1\":1,\"2\":6,\"3\":108},\n",
        "}\n",
        "\n",
        "d2 = {\n",
        "    \"10/1\":{\"1\":12,\"2\":56,\"3\":22},\n",
        "    \"10/2\":{\"1\":14,\"2\":78,\"3\":4},\n",
        "    \"10/3\":{\"1\":1,\"2\":6,\"3\":108},\n",
        "}\n",
        "\n",
        "def DicToMat_1(dic  , layer_index , layer_number = 3 ,mat_elemet = [] ,mat_keyvaluemap = [] ,dummy_key = []):\n",
        "  \n",
        "    if layer_index > 1 :\n",
        "        \n",
        "        for i , key in enumerate(dic):\n",
        "            \n",
        "            mat_elemet.append([])\n",
        "            mat_keyvaluemap.append([])     \n",
        "            dummy_key.append(key)\n",
        "            DicToMat_2(dic[key] , layer_index-1 ,mat_elemet = mat_elemet[i] ,mat_keyvaluemap = mat_keyvaluemap[i] ,dummy_key = dummy_key) \n",
        "            dummy_key.pop()\n",
        "          \n",
        "    else :\n",
        "        \n",
        "        for k , key in enumerate(dic):\n",
        "            \n",
        "            dummy_key.append(key)\n",
        "            mat_elemet.append(dic[key])\n",
        "            mat_keyvaluemap.append(dummy_key.copy())\n",
        "            dummy_key.pop()  # remove the last element \n",
        "        \n",
        "    return mat_elemet , mat_keyvaluemap\n",
        "            \n",
        "\n",
        "'''"
      ],
      "execution_count": null,
      "outputs": []
    },
    {
      "cell_type": "code",
      "metadata": {
        "id": "YY9uwcONLTl5",
        "outputId": "ce15de9e-88d2-48dd-cd47-2b20baabb775",
        "colab": {
          "base_uri": "https://localhost:8080/",
          "height": 153
        }
      },
      "source": [
        "dict_sample = {\"9802\":{\"10/2\":{'1':[1,2],'2':[1,2],'3':[1,2]},\"10/3\":{'1':[1,2],'2':[1,2],'3':[1,2]},\"10/4\":{'1':[1,2],'2':[1,2],'3':[1,2]},\"10/5\":{'1':[1,2],'2':[1,2],'3':[1,2]}},\"2330\":{\"10/2\":{'1':[1,2],'2':[1,2],'3':[1,2]},\"10/3\":{'1':[1,2],'2':[1,2],'3':[1,2]},\"10/4\":{'1':[1,2],'2':[1,2],'3':[1,2]},\"10/5\":{'1':[1,2],'2':[1,2],'3':[1,2]}}}\n",
        "dict_sample"
      ],
      "execution_count": null,
      "outputs": [
        {
          "output_type": "execute_result",
          "data": {
            "text/plain": [
              "{'2330': {'10/2': {'1': [1, 2], '2': [1, 2], '3': [1, 2]},\n",
              "  '10/3': {'1': [1, 2], '2': [1, 2], '3': [1, 2]},\n",
              "  '10/4': {'1': [1, 2], '2': [1, 2], '3': [1, 2]},\n",
              "  '10/5': {'1': [1, 2], '2': [1, 2], '3': [1, 2]}},\n",
              " '9802': {'10/2': {'1': [1, 2], '2': [1, 2], '3': [1, 2]},\n",
              "  '10/3': {'1': [1, 2], '2': [1, 2], '3': [1, 2]},\n",
              "  '10/4': {'1': [1, 2], '2': [1, 2], '3': [1, 2]},\n",
              "  '10/5': {'1': [1, 2], '2': [1, 2], '3': [1, 2]}}}"
            ]
          },
          "metadata": {
            "tags": []
          },
          "execution_count": 8
        }
      ]
    },
    {
      "cell_type": "code",
      "metadata": {
        "id": "VjnQoFEMX18m"
      },
      "source": [
        "def dict_depth(dic):\n",
        "    if isinstance(dic, dict): # if is dict type \n",
        "        return 1 + (max(map(dict_depth, dic.values())) if dic else 0) # layer+1 and do recursion on the dict.values , and catch the max value in the recursion of dict.value\n",
        "    return 0\n",
        "\n",
        "# permute lists\n",
        "def permutation(lists ,permute ):\n",
        "\n",
        "      lists = np.array(lists)\n",
        "      lists = np.transpose(lists, permute) \n",
        "      lists = lists.tolist()  \n",
        "      return lists \n",
        "\n",
        "# transform dict to list \n",
        "def DicToMat(dic  , layer_index  , layer_number  , mat_elemet = None  , mat_keyvaluemap = None ):\n",
        "  \n",
        "    # Try : re-change the index-keymap to the following flat-form : {\"1\":[9802,2230],\"2\":[10/2,10/3,10/4,10/5],\"3\":[1,2,3]} which is easy to search ?!  \n",
        "\n",
        "    for i , key in enumerate(dic):\n",
        "\n",
        "        # create the layer-key dict : mat_keyvaluemap.\n",
        "        if layer_index not in mat_keyvaluemap:\n",
        "            mat_keyvaluemap.update({layer_index:[key]})  \n",
        "        elif key not in mat_keyvaluemap[layer_index]:\n",
        "            mat_keyvaluemap[layer_index].append(key)  \n",
        "            \n",
        "        if layer_index > 1 :\n",
        "            mat_elemet.append([]) # if layer_index 不等於 1 (bottom condition) , 則持續加入空 list\n",
        "            DicToMat(dic = dic[key] , layer_index = layer_index-1 ,layer_number = layer_number ,mat_elemet = mat_elemet[i] ,mat_keyvaluemap = mat_keyvaluemap )  # 利用 recursion 來處理不定layer數目的 dict , layer = layer_index-1 , mat_elemet = mat_elemet[i] \n",
        "        else :\n",
        "            mat_elemet.append(dic[key]) #如果已在最深一層裡, 直接寫入 data  \n",
        "    return mat_elemet , mat_keyvaluemap\n",
        "\n",
        "# transform list to dict\n",
        "def MatToDic(mat , maps , layer_index  , layer_number  , dic = None, permute = None ):\n",
        "    \n",
        "    # Try : re-change the index-keymap to the following flat-form : {\"3\":[9802,2230],\"2\":[10/2,10/3,10/4,10/5],\"1\":[1,2,3]} which is easy to search ?!\n",
        "      \n",
        "    #創造 permutation - index_layer 比對 pairs\n",
        "    idx_layer_pairs = {}\n",
        "    for idx ,keys in enumerate(maps.keys()):\n",
        "        idx_layer_pairs.update({idx:keys})\n",
        "\n",
        "    \n",
        "    NOW_IN_LAYER = idx_layer_pairs[permute[layer_number-layer_index]] # 從 permute 順序 0 開始 , 逐 layers construct keys in dict  \n",
        "    if layer_index > 1 :     \n",
        "        for i , row in enumerate(mat):\n",
        "            \n",
        "            key = maps[ NOW_IN_LAYER ][ i ]  # 從 permute 順序 0 開始 , 逐 layers construct keys in dict   \n",
        "            dic.update({key:{}})  # if layer_index 不等於 1 (not bottom condition) , 則持續加入空 dict (並 construct keys in dict ) \n",
        "            MatToDic(mat = mat[i], maps = maps , layer_index = layer_index - 1 , layer_number = layer_number ,  dic = dic[key] , permute = permute  )  # 利用 recursion 來處理不定layer數目的 dict , layer = layer_index-1 , mat = mat[i] , dic = dic[key] \n",
        "          \n",
        "    else :\n",
        "        for k , ele in enumerate(mat):\n",
        "            \n",
        "            key , value = maps[ NOW_IN_LAYER ][ k ] , mat[k]         \n",
        "            if key not in dic:\n",
        "                dic.update( { key :  value }  ) #如果已在最深一層裡, 直接寫入 data  \n",
        "                         \n",
        "    return dic \n",
        "\n",
        "#swap keys \n",
        "def Swap_Key(dic ,permute ):    \n",
        "\n",
        "    dic_depth = dict_depth(dic) #get the depth of dict\n",
        "\n",
        "    mat_elemet , mat_keyvaluemap = DicToMat( dic  , layer_index = dic_depth , layer_number = dic_depth , mat_elemet = [] , mat_keyvaluemap = {}) # transform dict to matrix\n",
        "    mat_elemet = permutation(mat_elemet , permute) # matrix permutation \n",
        "    new_dic = MatToDic( mat = mat_elemet , maps = mat_keyvaluemap , layer_index = dic_depth , layer_number = dic_depth , permute = permute , dic = {}) # transform matrix to dict\n",
        "\n",
        "    return new_dic \n",
        "\n",
        "#######################################################\n"
      ],
      "execution_count": null,
      "outputs": []
    },
    {
      "cell_type": "code",
      "metadata": {
        "id": "nQK1oN7rkEBg",
        "outputId": "fea75165-8945-4d75-a5d8-1c01eb401a0f",
        "colab": {
          "base_uri": "https://localhost:8080/",
          "height": 153
        }
      },
      "source": [
        "import numpy as np\n",
        "dict1 , _ = DicToMat(dict_sample  , 3  , 3 , mat_elemet = []  , mat_keyvaluemap = {} )\n",
        "dict2 , _ = DicToMat(dict_sample  , 3  , 3 , mat_elemet = []  , mat_keyvaluemap = {} )\n",
        "a = np.array(dict1)\n",
        "b = np.array(dict2)\n",
        "(a+b).tolist()"
      ],
      "execution_count": null,
      "outputs": [
        {
          "output_type": "execute_result",
          "data": {
            "text/plain": [
              "[[[[2, 4], [2, 4], [2, 4]],\n",
              "  [[2, 4], [2, 4], [2, 4]],\n",
              "  [[2, 4], [2, 4], [2, 4]],\n",
              "  [[2, 4], [2, 4], [2, 4]]],\n",
              " [[[2, 4], [2, 4], [2, 4]],\n",
              "  [[2, 4], [2, 4], [2, 4]],\n",
              "  [[2, 4], [2, 4], [2, 4]],\n",
              "  [[2, 4], [2, 4], [2, 4]]]]"
            ]
          },
          "metadata": {
            "tags": []
          },
          "execution_count": 12
        }
      ]
    },
    {
      "cell_type": "code",
      "metadata": {
        "id": "ElRWbBF5k3Kn",
        "outputId": "dac477db-c669-4c0f-8194-e41ec543dc20",
        "colab": {
          "base_uri": "https://localhost:8080/",
          "height": 153
        }
      },
      "source": [
        "dict1"
      ],
      "execution_count": null,
      "outputs": [
        {
          "output_type": "execute_result",
          "data": {
            "text/plain": [
              "[[[[1, 2], [1, 2], [1, 2]],\n",
              "  [[1, 2], [1, 2], [1, 2]],\n",
              "  [[1, 2], [1, 2], [1, 2]],\n",
              "  [[1, 2], [1, 2], [1, 2]]],\n",
              " [[[1, 2], [1, 2], [1, 2]],\n",
              "  [[1, 2], [1, 2], [1, 2]],\n",
              "  [[1, 2], [1, 2], [1, 2]],\n",
              "  [[1, 2], [1, 2], [1, 2]]]]"
            ]
          },
          "metadata": {
            "tags": []
          },
          "execution_count": 13
        }
      ]
    },
    {
      "cell_type": "code",
      "metadata": {
        "id": "f5g9_1eudFxU",
        "outputId": "75afd358-bf52-42b4-c58c-3f761211e35d",
        "colab": {
          "base_uri": "https://localhost:8080/",
          "height": 199
        }
      },
      "source": [
        "import h5py\n",
        "i\n",
        "depth = dict_depth(dict_sample)"
      ],
      "execution_count": null,
      "outputs": [
        {
          "output_type": "error",
          "ename": "NameError",
          "evalue": "ignored",
          "traceback": [
            "\u001b[0;31m---------------------------------------------------------------------------\u001b[0m",
            "\u001b[0;31mNameError\u001b[0m                                 Traceback (most recent call last)",
            "\u001b[0;32m<ipython-input-6-6991fbd0a53a>\u001b[0m in \u001b[0;36m<module>\u001b[0;34m()\u001b[0m\n\u001b[1;32m      1\u001b[0m \u001b[0;32mimport\u001b[0m \u001b[0mh5py\u001b[0m\u001b[0;34m\u001b[0m\u001b[0;34m\u001b[0m\u001b[0m\n\u001b[0;32m----> 2\u001b[0;31m \u001b[0mi\u001b[0m\u001b[0;34m\u001b[0m\u001b[0;34m\u001b[0m\u001b[0m\n\u001b[0m\u001b[1;32m      3\u001b[0m \u001b[0mdepth\u001b[0m \u001b[0;34m=\u001b[0m \u001b[0mdict_depth\u001b[0m\u001b[0;34m(\u001b[0m\u001b[0mdict_sample\u001b[0m\u001b[0;34m)\u001b[0m\u001b[0;34m\u001b[0m\u001b[0;34m\u001b[0m\u001b[0m\n",
            "\u001b[0;31mNameError\u001b[0m: name 'i' is not defined"
          ]
        }
      ]
    },
    {
      "cell_type": "code",
      "metadata": {
        "id": "Amm0EMkEdN_l"
      },
      "source": [
        "\n",
        "mat , map = DicToMat(dict_sample , depth , depth , [] , {})"
      ],
      "execution_count": null,
      "outputs": []
    },
    {
      "cell_type": "code",
      "metadata": {
        "id": "fC4piZKgdyCR"
      },
      "source": [
        "np_data = np.array(mat)"
      ],
      "execution_count": null,
      "outputs": []
    },
    {
      "cell_type": "code",
      "metadata": {
        "id": "JQJ5diOQeAaA"
      },
      "source": [
        "hf = h5py.File('np_data.h5', 'w')\n",
        "hf.create_dataset('np_data' , data = np_data)\n",
        "hf.close()"
      ],
      "execution_count": null,
      "outputs": []
    },
    {
      "cell_type": "code",
      "metadata": {
        "id": "VkrjrHyhecfd",
        "outputId": "3c66c126-345f-4088-f730-ab845f7be292",
        "colab": {
          "base_uri": "https://localhost:8080/",
          "height": 34
        }
      },
      "source": [
        "hf.create_dataset('np_data' , data = np_data)"
      ],
      "execution_count": null,
      "outputs": [
        {
          "output_type": "execute_result",
          "data": {
            "text/plain": [
              "<HDF5 dataset \"np_data\": shape (2, 4, 3), type \"<i8\">"
            ]
          },
          "metadata": {
            "tags": []
          },
          "execution_count": 16
        }
      ]
    },
    {
      "cell_type": "code",
      "metadata": {
        "id": "Zqu2RbKqegu-"
      },
      "source": [
        "hf.close()"
      ],
      "execution_count": null,
      "outputs": []
    },
    {
      "cell_type": "code",
      "metadata": {
        "id": "ob3rZTmReoHM"
      },
      "source": [
        "hf = h5py.File('np_data.h5', 'r')"
      ],
      "execution_count": null,
      "outputs": []
    },
    {
      "cell_type": "code",
      "metadata": {
        "id": "VXuoEx2UeqXZ",
        "outputId": "ccbac2d7-dc5d-4daa-9edf-eb3b5877ee4d",
        "colab": {
          "base_uri": "https://localhost:8080/",
          "height": 34
        }
      },
      "source": [
        "hf.keys()"
      ],
      "execution_count": null,
      "outputs": [
        {
          "output_type": "execute_result",
          "data": {
            "text/plain": [
              "<KeysViewHDF5 ['np_data']>"
            ]
          },
          "metadata": {
            "tags": []
          },
          "execution_count": 19
        }
      ]
    },
    {
      "cell_type": "code",
      "metadata": {
        "id": "Wi5aNr0kesks"
      },
      "source": [
        "np_data = hf.get('np_data')"
      ],
      "execution_count": null,
      "outputs": []
    },
    {
      "cell_type": "code",
      "metadata": {
        "id": "ww1P8pgZfBbh",
        "outputId": "1db84edf-c498-403e-e33f-0de59e7c12cd",
        "colab": {
          "base_uri": "https://localhost:8080/",
          "height": 170
        }
      },
      "source": [
        "np_data = np.array(np_data)\n",
        "np_data"
      ],
      "execution_count": null,
      "outputs": [
        {
          "output_type": "execute_result",
          "data": {
            "text/plain": [
              "array([[[  1,   2,   3],\n",
              "        [  4,   5,   6],\n",
              "        [  7,   8,   9],\n",
              "        [ 10,  11,  12]],\n",
              "\n",
              "       [[  3,   8,  11],\n",
              "        [ 45,  58,   6],\n",
              "        [ 78,   8,   4],\n",
              "        [101, 118, 162]]])"
            ]
          },
          "metadata": {
            "tags": []
          },
          "execution_count": 23
        }
      ]
    },
    {
      "cell_type": "code",
      "metadata": {
        "id": "b9iKIsmJfOkR"
      },
      "source": [
        "Dict = MatToDic( np_data.tolist() ,map  ,depth  ,depth , dic = {} , permute = tuple(range(depth)) )"
      ],
      "execution_count": null,
      "outputs": []
    },
    {
      "cell_type": "code",
      "metadata": {
        "id": "bTD9Z3zhfdBR",
        "outputId": "8d1672f5-2c13-417d-c53a-bf953903afd5",
        "colab": {
          "base_uri": "https://localhost:8080/",
          "height": 34
        }
      },
      "source": [
        "Dict == dict_sample"
      ],
      "execution_count": null,
      "outputs": [
        {
          "output_type": "execute_result",
          "data": {
            "text/plain": [
              "True"
            ]
          },
          "metadata": {
            "tags": []
          },
          "execution_count": 37
        }
      ]
    },
    {
      "cell_type": "code",
      "metadata": {
        "id": "g7bV4wqOLLus"
      },
      "source": [
        "new_dict_sample = Swap_Key( dic = dict_sample, permute = (1,2,0) )"
      ],
      "execution_count": null,
      "outputs": []
    },
    {
      "cell_type": "code",
      "metadata": {
        "id": "CEyCi9vUfN6W",
        "outputId": "a27d74d1-1851-4803-8140-97e94114cf76",
        "colab": {
          "base_uri": "https://localhost:8080/",
          "height": 221
        }
      },
      "source": [
        "new_dict_sample"
      ],
      "execution_count": null,
      "outputs": [
        {
          "output_type": "execute_result",
          "data": {
            "text/plain": [
              "{'10/2': {'1': {'2330': 3, '9802': 1},\n",
              "  '2': {'2330': 8, '9802': 2},\n",
              "  '3': {'2330': 11, '9802': 3}},\n",
              " '10/3': {'1': {'2330': 45, '9802': 4},\n",
              "  '2': {'2330': 58, '9802': 5},\n",
              "  '3': {'2330': 6, '9802': 6}},\n",
              " '10/4': {'1': {'2330': 78, '9802': 7},\n",
              "  '2': {'2330': 8, '9802': 8},\n",
              "  '3': {'2330': 4, '9802': 9}},\n",
              " '10/5': {'1': {'2330': 101, '9802': 10},\n",
              "  '2': {'2330': 118, '9802': 11},\n",
              "  '3': {'2330': 162, '9802': 12}}}"
            ]
          },
          "metadata": {
            "tags": []
          },
          "execution_count": 15
        }
      ]
    },
    {
      "cell_type": "code",
      "metadata": {
        "id": "as-3gAUFilKw",
        "outputId": "fc3f90e9-6a08-4415-dece-474cf528c640",
        "colab": {
          "base_uri": "https://localhost:8080/",
          "height": 284
        }
      },
      "source": [
        "depth = dict_depth(dict_sample)"
      ],
      "execution_count": null,
      "outputs": [
        {
          "output_type": "error",
          "ename": "TypeError",
          "evalue": "ignored",
          "traceback": [
            "\u001b[0;31m---------------------------------------------------------------------------\u001b[0m",
            "\u001b[0;31mTypeError\u001b[0m                                 Traceback (most recent call last)",
            "\u001b[0;32m<ipython-input-41-4524393bf001>\u001b[0m in \u001b[0;36m<module>\u001b[0;34m()\u001b[0m\n\u001b[0;32m----> 1\u001b[0;31m \u001b[0mdepth\u001b[0m \u001b[0;34m=\u001b[0m \u001b[0mdict_depth\u001b[0m\u001b[0;34m(\u001b[0m\u001b[0mdict_sample\u001b[0m\u001b[0;34m)\u001b[0m\u001b[0;34m\u001b[0m\u001b[0;34m\u001b[0m\u001b[0m\n\u001b[0m",
            "\u001b[0;32m<ipython-input-5-b65376232e27>\u001b[0m in \u001b[0;36mdict_depth\u001b[0;34m(dic)\u001b[0m\n\u001b[1;32m      1\u001b[0m \u001b[0;32mdef\u001b[0m \u001b[0mdict_depth\u001b[0m\u001b[0;34m(\u001b[0m\u001b[0mdic\u001b[0m\u001b[0;34m)\u001b[0m\u001b[0;34m:\u001b[0m\u001b[0;34m\u001b[0m\u001b[0;34m\u001b[0m\u001b[0m\n\u001b[1;32m      2\u001b[0m     \u001b[0;32mif\u001b[0m \u001b[0misinstance\u001b[0m\u001b[0;34m(\u001b[0m\u001b[0mdic\u001b[0m\u001b[0;34m,\u001b[0m \u001b[0mdict\u001b[0m\u001b[0;34m)\u001b[0m\u001b[0;34m:\u001b[0m \u001b[0;31m# if is dict type\u001b[0m\u001b[0;34m\u001b[0m\u001b[0;34m\u001b[0m\u001b[0m\n\u001b[0;32m----> 3\u001b[0;31m         \u001b[0;32mreturn\u001b[0m \u001b[0;36m1\u001b[0m \u001b[0;34m+\u001b[0m \u001b[0;34m(\u001b[0m\u001b[0mmax\u001b[0m\u001b[0;34m(\u001b[0m\u001b[0mmap\u001b[0m\u001b[0;34m(\u001b[0m\u001b[0mdict_depth\u001b[0m\u001b[0;34m,\u001b[0m \u001b[0mdic\u001b[0m\u001b[0;34m.\u001b[0m\u001b[0mvalues\u001b[0m\u001b[0;34m(\u001b[0m\u001b[0;34m)\u001b[0m\u001b[0;34m)\u001b[0m\u001b[0;34m)\u001b[0m \u001b[0;32mif\u001b[0m \u001b[0mdic\u001b[0m \u001b[0;32melse\u001b[0m \u001b[0;36m0\u001b[0m\u001b[0;34m)\u001b[0m \u001b[0;31m# layer+1 and do recursion on the dict.values , and catch the max value in the recursion of dict.value\u001b[0m\u001b[0;34m\u001b[0m\u001b[0;34m\u001b[0m\u001b[0m\n\u001b[0m\u001b[1;32m      4\u001b[0m     \u001b[0;32mreturn\u001b[0m \u001b[0;36m0\u001b[0m\u001b[0;34m\u001b[0m\u001b[0;34m\u001b[0m\u001b[0m\n\u001b[1;32m      5\u001b[0m \u001b[0;34m\u001b[0m\u001b[0m\n",
            "\u001b[0;31mTypeError\u001b[0m: 'dict' object is not callable"
          ]
        }
      ]
    },
    {
      "cell_type": "code",
      "metadata": {
        "id": "gxrlNHOPlz6j"
      },
      "source": [
        ""
      ],
      "execution_count": null,
      "outputs": []
    }
  ]
}